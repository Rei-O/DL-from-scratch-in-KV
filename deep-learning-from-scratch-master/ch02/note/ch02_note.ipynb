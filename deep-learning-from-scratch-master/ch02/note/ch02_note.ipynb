{
 "cells": [
  {
   "cell_type": "markdown",
   "metadata": {},
   "source": [
    "# 第2章 パーセプトロン"
   ]
  },
  {
   "cell_type": "markdown",
   "metadata": {},
   "source": [
    "## サマリー"
   ]
  },
  {
   "cell_type": "markdown",
   "metadata": {},
   "source": [
    "* パーセプトロン（ニューロン）は脳の電気信号を伝える部品\n",
    "* 線形関数と閾値の関係でパーセプトロンを再現できる。\n",
    "* 重みパラメータを変えるだけでAND, OR, NANDゲートを切り替えることが出来る。\n",
    "* 単純パーセプトロンは線形領域しか表現できない。非線形領域は多層パーセプトロンで表現できる。"
   ]
  },
  {
   "cell_type": "markdown",
   "metadata": {},
   "source": [
    "### パーセプトロンと論理演算\n",
    "![パーセプトロンイメージ](Perceptron_image.png)\n",
    "\n"
   ]
  },
  {
   "cell_type": "markdown",
   "metadata": {},
   "source": [
    "■論理演算と重み、閾値の設定\n",
    "\n",
    "* ANDゲート ⇒ MAX(W1, W2) < Θ < W1+W2\n",
    "* ORゲート ⇒ 0 < Θ < MIN(W1, W2)\n",
    "* NANDゲート ⇒ W1+W2 < Θ < MIN(W1, W2)<br>\n",
    "    補足：<br>\n",
    "    定義からW1+W2 < Θ < MIN(0, W1, W2) <br>\n",
    "    ここで、W1+w2 < MIN(W1, W2) ⇒ W1, W2 < 0 なので<br>\n",
    "    W1+W2 < Θ < MIN(0, W1, W2) = MIN(W1, W2)<br>"
   ]
  },
  {
   "cell_type": "markdown",
   "metadata": {},
   "source": [
    "#### パーセプトロンと線形領域/非線形領域\n",
    "パーセプトロンで表現できるのは線形領域である。(線形関数なので)<br>\n",
    "XORゲートは線形領域ではないため、単体のパーセプトロンでは表現不可。<br>\n",
    "⇒多層パーセプトロンで表現する。<br>\n",
    "　XORゲートはAND,OR,NANDゲートを組み合わせて表現できるため、パーセプトロンでも同様の方針で表現できる。<br>\n",
    "■XORゲート<br>\n",
    "![xor_gate](XOR_GATE.png)<br>\n",
    "■XORゲートを表現した多層パーセプトロン<br>\n",
    "![Multilayer_perceptron](Multilayer_perceptron.png)"
   ]
  },
  {
   "cell_type": "markdown",
   "metadata": {},
   "source": [
    "他のゲートでXORゲートを実現する方法を計算で求める\n",
    "\n",
    "![xor_gate_calc](xor_gate_calc.jpg)\n"
   ]
  },
  {
   "cell_type": "markdown",
   "metadata": {},
   "source": [
    "## 補足"
   ]
  },
  {
   "cell_type": "markdown",
   "metadata": {},
   "source": [
    "### if \\_\\_name\\_\\_ == \"\\_\\_main\\_\\_\" とは何か？\n",
    "[引用元サイト](https://blog.pyq.jp/entry/Python_kaiketsu_180207)"
   ]
  },
  {
   "cell_type": "markdown",
   "metadata": {},
   "source": [
    "* 「python ファイル名.py というふうに実行されているかどうか」を判定するif文\n",
    "* pythonではimport時にも中身が実行されるため、直接呼ばれたとき以外は実行されないようにするために使用される\n",
    "* Pythonには \\_\\_name\\_\\_ という特殊な変数があり、このPythonファイルのモジュール名が文字列で格納されている\n",
    "* importの場合はファイル名が格納されるが「python ファイル名.py」で実行された場合\\_\\_main\\_\\_が格納されるため\\_\\_name\\_\\_で実行方法を判定できる。"
   ]
  }
 ],
 "metadata": {
  "interpreter": {
   "hash": "17bd3a429686b74a901a4d9de95693c08cda164688043dd00d2aee3205f2120b"
  },
  "kernelspec": {
   "display_name": "Python 3.7.6 64-bit ('base': conda)",
   "language": "python",
   "name": "python3"
  },
  "language_info": {
   "name": "python",
   "version": "3.7.6"
  },
  "orig_nbformat": 4
 },
 "nbformat": 4,
 "nbformat_minor": 2
}
