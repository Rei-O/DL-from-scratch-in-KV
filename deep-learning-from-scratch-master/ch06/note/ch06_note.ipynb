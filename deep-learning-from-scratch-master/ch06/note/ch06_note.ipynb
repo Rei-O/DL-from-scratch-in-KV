{
 "cells": [
  {
   "cell_type": "markdown",
   "metadata": {},
   "source": [
    "## パラメータの最適化"
   ]
  },
  {
   "cell_type": "markdown",
   "metadata": {},
   "source": [
    "### 確率的勾配降下法（SGD）\n",
    "* 各地点で最も傾きが急な方向に進む\n",
    "* 勾配の方向と最小値の方向が一致しない場合非効率な探索になる"
   ]
  },
  {
   "cell_type": "markdown",
   "metadata": {},
   "source": [
    "### Momentum\n",
    "* モーメンタムとは運動量のこと\n",
    "* 球体を斜面に置いた時、勾配方向にチカラを受けて加速していく物理法則を最適化アルゴリズムとして取り入れたもの\n",
    "* SGDより非効率さを軽減できる（らしい）"
   ]
  },
  {
   "cell_type": "markdown",
   "metadata": {},
   "source": [
    "### AdaGrad\n",
    "* パラメータの要素ごとに適応的に学習係数を調整しながら学習を進める方法\n",
    "* 始めは学習係数を大きくして1ステップあたりの更新量を大きくとり、徐々に学習係数を小さくして慎重に学習を進めるようにする\n"
   ]
  },
  {
   "cell_type": "markdown",
   "metadata": {},
   "source": [
    "### Adam\n",
    "* MomentumとAdaGradを融合したような手法\n",
    "* ハイパーパラメータの「バイアスの補正」も行える"
   ]
  },
  {
   "cell_type": "code",
   "execution_count": 1,
   "metadata": {},
   "outputs": [
    {
     "name": "stderr",
     "output_type": "stream",
     "text": [
      "ERROR: Could not find a version that satisfies the requirement mpl_toolkits (from versions: none)\n",
      "ERROR: No matching distribution found for mpl_toolkits\n"
     ]
    }
   ],
   "source": [
    "!pip install mpl_toolkits"
   ]
  }
 ],
 "metadata": {
  "interpreter": {
   "hash": "17bd3a429686b74a901a4d9de95693c08cda164688043dd00d2aee3205f2120b"
  },
  "kernelspec": {
   "display_name": "Python 3.7.6 64-bit ('base': conda)",
   "language": "python",
   "name": "python3"
  },
  "language_info": {
   "codemirror_mode": {
    "name": "ipython",
    "version": 3
   },
   "file_extension": ".py",
   "mimetype": "text/x-python",
   "name": "python",
   "nbconvert_exporter": "python",
   "pygments_lexer": "ipython3",
   "version": "3.7.6"
  },
  "orig_nbformat": 4
 },
 "nbformat": 4,
 "nbformat_minor": 2
}
