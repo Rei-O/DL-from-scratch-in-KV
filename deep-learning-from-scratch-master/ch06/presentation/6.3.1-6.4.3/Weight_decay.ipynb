{
 "cells": [
  {
   "cell_type": "code",
   "execution_count": null,
   "id": "58caa315-5447-4107-b9b6-daa200a7c74e",
   "metadata": {},
   "outputs": [],
   "source": [
    "def loss(self, x, t, train_flg=False):\n",
    "    \"\"\"損失関数を求める\n",
    "    引数のxは入力データ、tは教師ラベル\n",
    "    \"\"\"\n",
    "    y = self.predict(x, train_flg)\n",
    "\n",
    "    # weight decay の設定\n",
    "    weight_decay = 0\n",
    "    for idx in range(1, self.hidden_layer_num + 2):\n",
    "        W = self.params['W' + str(idx)]\n",
    "        # WのL2ノルム weight_decay = waght_decay + 0.5 * weight_decay_lambda * (W**2) \n",
    "        weight_decay += 0.5 * self.weight_decay_lambda * np.sum(W**2)  \n",
    "\n",
    "    return self.last_layer.forward(y, t) + weight_decay # WのL2ノルムを加算"
   ]
  }
 ],
 "metadata": {
  "kernelspec": {
   "display_name": "Python 3 (ipykernel)",
   "language": "python",
   "name": "python3"
  },
  "language_info": {
   "codemirror_mode": {
    "name": "ipython",
    "version": 3
   },
   "file_extension": ".py",
   "mimetype": "text/x-python",
   "name": "python",
   "nbconvert_exporter": "python",
   "pygments_lexer": "ipython3",
   "version": "3.9.6"
  }
 },
 "nbformat": 4,
 "nbformat_minor": 5
}
