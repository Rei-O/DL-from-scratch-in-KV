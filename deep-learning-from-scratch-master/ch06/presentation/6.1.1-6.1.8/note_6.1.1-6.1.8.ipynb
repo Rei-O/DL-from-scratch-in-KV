{
 "cells": [
  {
   "cell_type": "markdown",
   "metadata": {},
   "source": [
    "## パラメータの最適化"
   ]
  },
  {
   "cell_type": "markdown",
   "metadata": {},
   "source": [
    "### 確率的勾配降下法（SGD）\n",
    "[ソースはこちら](../../../common/presentation/optimizer.py)\n",
    "* 各地点で最も傾きが急な方向に進む\n",
    "* ミニバッチ学習の場合は確率的勾配降下法、全データの学習の場合は最急降下法（あるいは単なる勾配降下法）と呼ばれる\n",
    "* 勾配の方向と最小値の方向が一致しない場合非効率な探索になる\n",
    "\n",
    "![SGD](fig/SGD.png)"
   ]
  },
  {
   "cell_type": "markdown",
   "metadata": {},
   "source": [
    "### Momentum\n",
    "[ソースはこちら](../../../common/presentation/optimizer.py)\n",
    "* モーメンタムとは運動量のこと\n",
    "* 球体を斜面に置いた時、勾配方向にチカラを受けて加速していく物理法則を取り入れたもの\n",
    "* 直前の地点の速度も加えることで慣性(Momentum)をもたせている\n",
    "![momentum](fig/momentum.png)"
   ]
  },
  {
   "cell_type": "markdown",
   "metadata": {},
   "source": [
    "### AdaGrad\n",
    "[ソースはこちら](../../../common/presentation/optimizer.py)\n",
    "* パラメータの要素ごとに適応的に学習係数を調整しながら学習を進める方法\n",
    "* 始めは学習係数を大きくして1ステップあたりの更新量を大きくとり、徐々に学習係数を小さくして慎重に学習を進めるようにする\n",
    "* 具体的には以下のように実現する：\n",
    "    - 過去の勾配を2乗和で保持し続ける（2乗和なので単調増加し続ける）\n",
    "    - 過去の勾配を2乗和の平方根で学習率を割ることで徐々に学習のスケールが小さくなるようになっている\n",
    "\n",
    "![AdaGrad](fig/AdaGrad.png)"
   ]
  },
  {
   "cell_type": "markdown",
   "metadata": {},
   "source": [
    "### Adam\n",
    "[ソースはこちら](../../../common/presentation/optimizer.py)\n",
    "* MomentumとAdaGradを融合したような手法\n",
    "    * ただしオリジナルに比べて指数移動平均を使用しているため、より直近の値の影響が大きくなるようになっている。\n",
    "* ハイパーパラメータの「バイアスの補正」も行える（←扱い方要相談）"
   ]
  },
  {
   "cell_type": "markdown",
   "metadata": {},
   "source": [
    "![Adam](fig/Adam.png)"
   ]
  },
  {
   "cell_type": "markdown",
   "metadata": {},
   "source": [
    "### Nesterov　\n",
    "[ソースはこちら](../../../common/presentation/optimizer.py)\n",
    "\n",
    "※余裕あれば"
   ]
  },
  {
   "cell_type": "markdown",
   "metadata": {},
   "source": [
    "### RMSprop\n",
    "[ソースはこちら](../../../common/presentation/optimizer.py)\n",
    "\n",
    "※余裕あれば"
   ]
  },
  {
   "cell_type": "markdown",
   "metadata": {},
   "source": [
    "## MNISTにおけるoptimizerの比較"
   ]
  },
  {
   "cell_type": "markdown",
   "metadata": {},
   "source": [
    "[ソースはこちら](./optimizer_compare_mnist.py)"
   ]
  },
  {
   "cell_type": "markdown",
   "metadata": {},
   "source": [
    "### モジュールの概説\n",
    "\n",
    "#### optimizer_compare_mnist.pyの概略図\n",
    "\n",
    "![overview_optimizer_compare_mnist.png](fig/overview_optimizer_compare_mnist.png)\n",
    "\n",
    "#### gradientの概略図\n",
    "\n",
    "![overview_gradient.png](fig/overview_gradient.png)\n",
    "\n",
    "#### updateの概略図\n",
    "\n",
    "![overview_update.png](fig/overview_update.png)"
   ]
  }
 ],
 "metadata": {
  "interpreter": {
   "hash": "17bd3a429686b74a901a4d9de95693c08cda164688043dd00d2aee3205f2120b"
  },
  "kernelspec": {
   "display_name": "Python 3.7.6 64-bit ('base': conda)",
   "language": "python",
   "name": "python3"
  },
  "language_info": {
   "codemirror_mode": {
    "name": "ipython",
    "version": 3
   },
   "file_extension": ".py",
   "mimetype": "text/x-python",
   "name": "python",
   "nbconvert_exporter": "python",
   "pygments_lexer": "ipython3",
   "version": "3.7.7"
  },
  "orig_nbformat": 4
 },
 "nbformat": 4,
 "nbformat_minor": 2
}
