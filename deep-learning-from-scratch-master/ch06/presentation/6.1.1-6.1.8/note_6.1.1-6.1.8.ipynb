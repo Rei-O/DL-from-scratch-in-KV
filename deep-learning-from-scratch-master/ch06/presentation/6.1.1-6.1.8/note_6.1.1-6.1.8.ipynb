{
 "cells": [
  {
   "cell_type": "markdown",
   "metadata": {},
   "source": [
    "## パラメータの最適化"
   ]
  },
  {
   "cell_type": "markdown",
   "metadata": {},
   "source": [
    "### 確率的勾配降下法（SGD）\n",
    "[ソースはこちら](../../../common/presentation/optimizer.py)\n",
    "* 各地点で最も傾きが急な方向に進む\n",
    "* ミニバッチ学習の場合は確率的勾配降下法、全データの学習の場合は最急降下法（あるいは単なる勾配降下法）と呼ばれる\n",
    "* 勾配の方向と最小値の方向が一致しない場合非効率な探索になる\n",
    "\n",
    "![SGD](fig/SGD.png)"
   ]
  },
  {
   "cell_type": "markdown",
   "metadata": {},
   "source": [
    "### Momentum\n",
    "[ソースはこちら](../../../common/presentation/optimizer.py)\n",
    "* モーメンタムとは運動量のこと\n",
    "* 球体を斜面に置いた時、勾配方向にチカラを受けて加速していく物理法則を取り入れたもの\n",
    "* 直前の地点の速度も加えることで慣性(Momentum)をもたせている\n",
    "* SGDより振動しにくい\n",
    "![momentum](fig/momentum.png)"
   ]
  },
  {
   "cell_type": "markdown",
   "metadata": {},
   "source": [
    "### Nesterovの加速法（Nesterov's Accelerated Gradient method)\n",
    "[ソースはこちら](../../../common/presentation/optimizer.py)\n",
    "\n",
    "* Momentumをさらに収束への加速を増したもの\n",
    "\n",
    "詳しくはこういうことらしい(https://qiita.com/ophhdn/items/3deaf4fcc43b4f027458)\n",
    "\n",
    "![ネステロフ](fig/ネステロフの説明.png)\n",
    "\n",
    "一方、ゼロから作るの実装は↓で上記説明が合致しないので勉強会では紹介のみとする。"
   ]
  },
  {
   "cell_type": "markdown",
   "metadata": {},
   "source": [
    "$$ {w_{n-1}}' = w_{n-1} + m^2 * v_{n-1}$$\n",
    "\n",
    "$$ {w_{n}} = {w_{n-1}}' - (1+m) * {\\rm{lr}} * \\frac{\\partial L}{\\partial w_n} $$\n",
    "\n",
    "$$ {v_{n-1}}' = v_{n-1} * m $$\n",
    "\n",
    "$$ v_{n} = {v_{n-1}}' - {\\rm{lr}} * \\frac{\\partial L}{\\partial w_n} $$"
   ]
  },
  {
   "cell_type": "markdown",
   "metadata": {},
   "source": [
    "$$"
   ]
  },
  {
   "cell_type": "markdown",
   "metadata": {},
   "source": [
    "### AdaGrad\n",
    "[ソースはこちら](../../../common/presentation/optimizer.py)\n",
    "* パラメータ空間の**次元ごと**に適応的に学習係数を調整しながら学習を進める方法\n",
    "* Momentumでは振動抑制、NAGでは収束速度を改善したが、AdaGradでは **収束方向の情報(=学習度合)** を取り入れた\n",
    "* 始めは学習係数を大きくして1ステップあたりの更新量を大きくとり、徐々に学習係数を小さくして慎重に学習を進めるようにする\n",
    "    * 学習が進んだ次元(=傾きが急な)方向への更新度合を小さくしていくことで、学習が遅い次元(=傾きが緩やかな)方向への学習を促す\n",
    "* 具体的には以下のように実現する：\n",
    "    - 過去の勾配を2乗和で保持し続ける（2乗和なので単調増加し続ける）\n",
    "    - 過去の勾配を2乗和の平方根で学習率を割る（これにより徐々に学習スケールが小さくなる）\n",
    "\n",
    "![AdaGrad](fig/AdaGrad.png)"
   ]
  },
  {
   "cell_type": "markdown",
   "metadata": {},
   "source": [
    "### RMSprop\n",
    "[ソースはこちら](../../../common/presentation/optimizer.py)\n",
    "\n",
    "* AdaGradの改良版\n",
    "* AdaGradは過去の更新をすべて保持するため、多段的な傾斜に対応できなかった（減少した更新量を回復する機能をもたないため）\n",
    "* RMSpropでは過去の更新量が指数的に減衰するため昔の更新量ほど影響を受けにくくなっている\n",
    "\n",
    "![RMSprop](fig/RMSprop.png)"
   ]
  },
  {
   "cell_type": "markdown",
   "metadata": {},
   "source": [
    "RMSpropの数式原本\n",
    "\n",
    "* ${\\rm{dr}}$ : decay_rate（減衰率）\n",
    "* ${\\rm{lr}}$ : learning_rate（学習係数）\n",
    "\n",
    "$$ h_n = {\\rm{dr}} * h_{n-1} + (1 - {\\rm{dr}}) * (\\frac{\\partial L}{\\partial w})^2 $$\n",
    "\n",
    "$$ W_n = W_{n-1} - \\frac{{\\rm{lr}}}{\\sqrt{h_n} + \\epsilon} * \\frac{\\partial L}{\\partial w}$$"
   ]
  },
  {
   "cell_type": "markdown",
   "metadata": {},
   "source": [
    "### Adam\n",
    "[ソースはこちら](../../../common/presentation/optimizer.py)\n",
    "* MomentumとAdaGradを融合したような手法（どちらかというとMomentumとRMSpropの融合かも）\n",
    "    * ただしオリジナルに比べて指数移動平均を使用しているため、より直近の値の影響が大きくなるようになっている。"
   ]
  },
  {
   "cell_type": "markdown",
   "metadata": {},
   "source": [
    "![Adam](fig/Adam.png)"
   ]
  },
  {
   "cell_type": "markdown",
   "metadata": {},
   "source": [
    "Adamの数式説明（原本）\n",
    "\n",
    "* 学習率\n",
    "$$ {\\rm{lr}}_n = {\\rm{lr}}_{n-1} * \\frac{\\sqrt{1-{\\beta}_2^i}}{1 - {\\beta}_1^i} $$\n",
    "\n",
    "* Momentum\n",
    "$$ m_n = m_{n-1} + (1 - \\beta_1)  * ( \\frac{\\partial L}{\\partial w} - m_{n-1} )$$\n",
    "$$ \\ \\ \\ \\   = \\beta_1 * m_{n-1} + (1 - \\beta_1)  *  \\frac{\\partial L}{\\partial w} $$\n",
    "\n",
    "* 学習率調整（AdaGrad）\n",
    "$$ v_n = v_{n-1} + (1 - \\beta_2)  * ((\\frac{\\partial L}{\\partial w} )^2 - v_{n-1} )$$\n",
    "$$ \\ \\ \\ \\   = \\beta_2 * v_{n-1} + (1 - \\beta_2)  *  (\\frac{\\partial L}{\\partial w})^2 $$\n",
    "\n",
    "* パラメータ更新\n",
    "$$ w_n = w_{n-1} - {\\rm{lr}}_n * \\frac{1}{\\sqrt{v_n} + \\epsilon} * m_n$$"
   ]
  },
  {
   "cell_type": "markdown",
   "metadata": {},
   "source": [
    "## MNISTにおけるoptimizerの比較"
   ]
  },
  {
   "cell_type": "markdown",
   "metadata": {},
   "source": [
    "[ソースはこちら](./optimizer_compare_mnist.py)"
   ]
  },
  {
   "cell_type": "markdown",
   "metadata": {},
   "source": [
    "### モジュールの概説\n",
    "\n",
    "#### optimizer_compare_mnist.pyの概略図\n",
    "\n",
    "![overview_optimizer_compare_mnist.png](fig/overview_optimizer_compare_mnist.png)\n",
    "\n",
    "#### gradientの概略図\n",
    "\n",
    "![overview_gradient.png](fig/overview_gradient.png)\n",
    "\n",
    "#### updateの概略図\n",
    "\n",
    "![overview_update.png](fig/overview_update.png)"
   ]
  }
 ],
 "metadata": {
  "interpreter": {
   "hash": "17bd3a429686b74a901a4d9de95693c08cda164688043dd00d2aee3205f2120b"
  },
  "kernelspec": {
   "display_name": "Python 3.7.6 64-bit ('base': conda)",
   "language": "python",
   "name": "python3"
  },
  "language_info": {
   "codemirror_mode": {
    "name": "ipython",
    "version": 3
   },
   "file_extension": ".py",
   "mimetype": "text/x-python",
   "name": "python",
   "nbconvert_exporter": "python",
   "pygments_lexer": "ipython3",
   "version": "3.7.7"
  },
  "orig_nbformat": 4
 },
 "nbformat": 4,
 "nbformat_minor": 2
}
