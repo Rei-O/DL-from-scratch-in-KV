{
 "cells": [
  {
   "cell_type": "markdown",
   "metadata": {},
   "source": [
    "# ニューラルネットワークの学習"
   ]
  },
  {
   "cell_type": "markdown",
   "metadata": {},
   "source": [
    "## ルールベース、機械学習、深層学習の違い\n",
    "\n",
    "* アルゴリズム：人がルールを考える\n",
    "* 機械学習：人が特徴量を設計し、機械学習アルゴリズムが分類・回帰ルールを作る\n",
    "* 深層学習：データをそのまま学習、特徴量と分類・回帰ルールどちらも深層学習アルゴリズムが作る\n",
    "\n",
    "![アルゴリズム、機械学習、深層学習](alg_ml_dl.png)"
   ]
  },
  {
   "cell_type": "markdown",
   "metadata": {},
   "source": [
    "## 損失関数"
   ]
  },
  {
   "cell_type": "markdown",
   "metadata": {},
   "source": [
    "### なぜ損失関数を使うのか\n",
    "\n",
    "Q. 単純な問いとして、評価指標（例えばaccuracy）を直接最適化すれば良いのでは？<br>\n",
    "A. 評価指標はステップ関数のような形のため、ほとんどのところで微分がゼロになる。（1つ当たるたびに1/Nずつ値が増える）<br>\n",
    "    パラメータを少し動かしても評価指標の値が変わらずどの方向にパラメータを動かせばよいのか精度が向上するのか判断できないため、滑らかな関数を最適化の目的関数に選ばなければならない。、<br>\n",
    "    そこで損失関数がその役割を果たす。"
   ]
  },
  {
   "cell_type": "markdown",
   "metadata": {},
   "source": [
    "### 交差エントロピー\n",
    "\n",
    "* 定義式：<br>\n",
    "![交差エントロピー](cross_entropy.png)\n",
    "    - yはニューラルネットワークの出力値\n",
    "    - tは正解ラベルの出力値だけ1、それ以外0（one-hot表現）\n",
    "* 正解ラベルの出力値だけを足す\n",
    "* 自然対数は1に近いほど0に近づくので、正解ラベルの出力値が高いほど損失関数の値が小さくなる"
   ]
  },
  {
   "cell_type": "code",
   "execution_count": 8,
   "metadata": {},
   "outputs": [
    {
     "name": "stderr",
     "output_type": "stream",
     "text": [
      "C:\\Users\\kuruz\\anaconda3\\lib\\site-packages\\ipykernel_launcher.py:6: RuntimeWarning: divide by zero encountered in log\n",
      "  \n"
     ]
    },
    {
     "data": {
      "image/png": "[encoded data removed]",
      "text/plain": [
       "<Figure size 432x288 with 1 Axes>"
      ]
     },
     "metadata": {
      "needs_background": "light"
     },
     "output_type": "display_data"
    }
   ],
   "source": [
    "# 自然対数のグラフを表示\n",
    "import numpy as np\n",
    "import matplotlib.pylab as plt\n",
    "\n",
    "X = np.arange(0,1,0.001)\n",
    "Y = np.log(X)\n",
    "plt.plot(X,Y)\n",
    "plt.ylim(-5,0.1)\n",
    "plt.show()"
   ]
  },
  {
   "cell_type": "markdown",
   "metadata": {},
   "source": [
    "## 学習データサイズと学習方法\n",
    "\n",
    "参考：[【AI・機械学習】バッチ学習とオンライン学習とミニバッチ学習｜データ処理・投入方法の解説](https://di-acc2.com/analytics/ai/6320/)<br>\n",
    "![学習データサイズと学習方法](learn_ptn.jpg)\n"
   ]
  },
  {
   "cell_type": "markdown",
   "metadata": {},
   "source": [
    "### バッチ学習\n",
    "\n",
    "■メリット<br>\n",
    "* 一度に全てのデータを利用するため学習の進行が安定しやすい。\n",
    "* 学習データに少量の異常データが混じっていても、モデル性能に与える悪影響を小さく抑えることができる。\n",
    "\n",
    "■デメリット<br>\n",
    "* 全データを利用するため、使用するメモリ量が大きくなる。計算負荷が大きい。\n",
    "* 株価予測などリアルタイムで何度もモデルを更新するケースでは適用が難しい。\n",
    "\n",
    "![バッチ学習](batch.jpg)"
   ]
  },
  {
   "cell_type": "markdown",
   "metadata": {},
   "source": [
    "### オンライン学習\n",
    "\n",
    "■メリット<br>\n",
    "* 1件ずつデータを投入するためメモリ使用量も少なく、モデル学習にかかる計算負荷も小さい。\n",
    "* バッチ学習が不得意とするリアルタイムでモデル更新を頻繁に行うケースにも適用しやすい。\n",
    "\n",
    "■デメリット<br>\n",
    "* 1データごとにパラメータを更新するため学習が安定しにくく、1データ単位の計算速度はバッチ学習に劣る。\n",
    "* 異常なデータが入力されると、モデルの予測性能がそのデータにひっぱられる可能性がある。異常検出アルゴリズムのような、異常データをモニタリングできる仕組みが別途必要となる。\n",
    "\n",
    "■特徴<br>\n",
    "オンライン学習では「学習率」の設定が重要となります。学習率はモデル学習に適用する新規データの割合です。学習率が高いと新規の入力データに適応しやすくなる一方で、古いデータから得られた情報が消失しやすくなります。一方で、学習率が低いとトレードオフの関係で、新しいデータへの適用度は下がる一方で古いデータの情報は保持できるようになります。\n",
    "\n",
    "![オンライン学習](online.jpg)"
   ]
  },
  {
   "cell_type": "markdown",
   "metadata": {},
   "source": [
    "### ミニバッチ学習\n",
    "\n",
    "■特徴<br>\n",
    "* 学習の進行はオンライン学習より安定・バッチ学習より不安定。\n",
    "* 異常データから受けるモデル学習への影響度は、オンライン学習より小さく、バッチ学習より大きい。\n",
    "* 1データあたりの計算速度はオンライン学習より速く、バッチ学習より遅い。\n",
    "* メモリ使用量はオンライン学習より大きく、バッチ学習より少ない。\n",
    "\n",
    "⇒現在の機械学習ブームを牽引する深層学習ではほとんどの場合、このミニバッチ学習が利用されます。扱うデータ数が増加しているためバッチ学習の実行はメモリサイズ的に現実的でないケースが多く、ミニバッチ学習を利用しなるべく大きなバッチサイズを設定することが一般的です。\n",
    "\n",
    "![ミニバッチ](mini_batch.jpg)"
   ]
  }
 ],
 "metadata": {
  "interpreter": {
   "hash": "17bd3a429686b74a901a4d9de95693c08cda164688043dd00d2aee3205f2120b"
  },
  "kernelspec": {
   "display_name": "Python 3.7.6 64-bit ('base': conda)",
   "language": "python",
   "name": "python3"
  },
  "language_info": {
   "codemirror_mode": {
    "name": "ipython",
    "version": 3
   },
   "file_extension": ".py",
   "mimetype": "text/x-python",
   "name": "python",
   "nbconvert_exporter": "python",
   "pygments_lexer": "ipython3",
   "version": "3.7.6"
  },
  "orig_nbformat": 4
 },
 "nbformat": 4,
 "nbformat_minor": 2
}
