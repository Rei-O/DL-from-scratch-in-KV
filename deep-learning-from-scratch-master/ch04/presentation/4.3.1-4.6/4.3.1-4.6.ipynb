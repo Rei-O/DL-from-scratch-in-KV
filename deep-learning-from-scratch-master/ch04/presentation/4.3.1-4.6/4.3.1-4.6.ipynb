{
 "cells": [
  {
   "cell_type": "markdown",
   "metadata": {},
   "source": [
    "# Ryuichi担当会 4.3.1-4.6"
   ]
  },
  {
   "cell_type": "markdown",
   "metadata": {},
   "source": [
    "## 前回のおさらいと概要"
   ]
  },
  {
   "cell_type": "markdown",
   "metadata": {},
   "source": [
    "4章では、訓練データを用いた\"学習\"を行います。\n",
    "\n",
    "その学習を行うための指標として、\"損失関数\"を定義しました。\n",
    "損失関数は、4.2で2乗平均誤差と交差エントロピー誤差"
   ]
  },
  {
   "cell_type": "markdown",
   "metadata": {},
   "source": [
    " $$ E = -\\frac{1}{N}\\sum_n\\sum_kt_{nk}\\log y_{nk}$$"
   ]
  },
  {
   "cell_type": "markdown",
   "metadata": {},
   "source": [
    "を学びました。今回は、この交差エントロピー誤差の最小値を探すために、4.4で\"勾配降下法\"を導入します。\n",
    "\n",
    "また、\"勾配\"は偏微分であるため、その前段として4.3で\"微分\"を行います。\n",
    "\n",
    "そして最後の4.5では、それらを踏まえた実装を行います。"
   ]
  },
  {
   "cell_type": "markdown",
   "metadata": {},
   "source": [
    "※ここで、今回使うファイルを全てインポートしておきます。"
   ]
  },
  {
   "cell_type": "code",
   "execution_count": 33,
   "metadata": {},
   "outputs": [],
   "source": [
    "import sys, os\n",
    "sys.path.append(os.pardir)  # 親ディレクトリのファイルをインポートするための設定\n",
    "from common.functions import *  # 前回に行ったシグモイド関数やソフトマックス関数、交差エントロピー誤差のインポート\n",
    "import numpy as np\n",
    "import matplotlib.pyplot as plt\n",
    "from mpl_toolkits.mplot3d import Axes3D  # 3次元の図を描画するための設定\n",
    "from dataset.mnist import load_mnist"
   ]
  },
  {
   "cell_type": "markdown",
   "metadata": {},
   "source": [
    "## 4.3 数値微分"
   ]
  },
  {
   "cell_type": "markdown",
   "metadata": {},
   "source": [
    "### 4.3.1 微分"
   ]
  },
  {
   "cell_type": "markdown",
   "metadata": {},
   "source": [
    "$f(x) = x^2$ の微分を考えましょう。\n",
    "\n",
    "すぐに$\\frac{dy}{dx} = 2x$と答えられると思います。\n",
    "\n",
    "このように解を求めることを\"解析的に微分を求める\"と呼びます。\n",
    "\n",
    "一方で、損失関数の微分は解析的に求められないもの多いです。\n",
    "(※線形関数の2乗平均誤差など求められるものもあり)\n",
    "\n",
    "そこで、微分の定義に従い、微少な差分を求める\"数値微分\"を行います。\n",
    "\n",
    "微分の定義は、"
   ]
  },
  {
   "cell_type": "markdown",
   "metadata": {},
   "source": [
    "$$ \\frac{df(x)}{dx} = \\lim_{h→0}\\frac{f(x+h)-f(x)}{h}"
   ]
  },
  {
   "cell_type": "markdown",
   "metadata": {},
   "source": [
    "です。この式に、$x$と$h$に数値を代入すれば、数値微分が行えます。\n",
    "\n",
    "ただし、ここで二つ注意点があります。\n",
    "\n",
    "一つは、$h$は小さすぎると、丸め誤差が生じてしまうという問題です。\n",
    "\n",
    "丸め誤差は、少数の小さい範囲において数値が省略されることで、最終的な計算に誤差が生じることです。\n",
    "\n",
    "このため、$h$には$10^{-4}$程度の値を用います。"
   ]
  },
  {
   "cell_type": "code",
   "execution_count": 34,
   "metadata": {},
   "outputs": [
    {
     "data": {
      "text/plain": [
       "0.0"
      ]
     },
     "execution_count": 34,
     "metadata": {},
     "output_type": "execute_result"
    }
   ],
   "source": [
    "#丸め誤差の例、少数が省略されて0と出力される\n",
    "np.float32(1e-50)  # 32bitでの数値"
   ]
  },
  {
   "cell_type": "markdown",
   "metadata": {},
   "source": [
    "もう一つの注意点は、$(x+h)$と $x$ の間での関数 $f$ の差分(前方差分)の計算に、真の微分と誤差が生じることです。\n",
    "\n",
    "この誤差を少なくするために、$(x+h)$と$(x-h)$での$f$の差分(中心差分)を計算します。(以下式)"
   ]
  },
  {
   "cell_type": "markdown",
   "metadata": {},
   "source": [
    "$$ \\frac{df(x)}{dx} = \\lim_{h→0}\\frac{f(x+h)-f(x-h)}{2h}"
   ]
  },
  {
   "cell_type": "markdown",
   "metadata": {},
   "source": [
    "これを踏まえて、数値微分を定義します。"
   ]
  },
  {
   "cell_type": "code",
   "execution_count": 35,
   "metadata": {},
   "outputs": [],
   "source": [
    "def numerical_diff(f, x):\n",
    "    h = 1e-4 # 0.0001\n",
    "    return (f(x+h) - f(x-h)) / (2*h)"
   ]
  },
  {
   "cell_type": "markdown",
   "metadata": {},
   "source": [
    "### 4.3.2 数値微分の例"
   ]
  },
  {
   "cell_type": "markdown",
   "metadata": {},
   "source": [
    "$y = 0.01x^2 + 0.1x$を数値微分しましょう。\n",
    "\n",
    "まずは関数の定義です。"
   ]
  },
  {
   "cell_type": "code",
   "execution_count": 36,
   "metadata": {},
   "outputs": [],
   "source": [
    "def function_1(x):\n",
    "    return 0.01*x**2 + 0.1*x "
   ]
  },
  {
   "cell_type": "markdown",
   "metadata": {},
   "source": [
    "続いて、先ほどの微分関数から数値微分を行います。今回は $x=5$ と $x=10$ のときで計算します。\n",
    "\n",
    "解析的に求めた場合と同様に、それぞれ $0.2$ と $0.3$ になることが確認できます。(解析的に微分すると$y' = 0.02x + 0.1$)"
   ]
  },
  {
   "cell_type": "code",
   "execution_count": 37,
   "metadata": {},
   "outputs": [
    {
     "data": {
      "text/plain": [
       "0.1999999999990898"
      ]
     },
     "execution_count": 37,
     "metadata": {},
     "output_type": "execute_result"
    }
   ],
   "source": [
    "numerical_diff(function_1, 5)"
   ]
  },
  {
   "cell_type": "code",
   "execution_count": 38,
   "metadata": {},
   "outputs": [
    {
     "data": {
      "text/plain": [
       "0.2999999999986347"
      ]
     },
     "execution_count": 38,
     "metadata": {},
     "output_type": "execute_result"
    }
   ],
   "source": [
    "numerical_diff(function_1, 10)"
   ]
  },
  {
   "cell_type": "markdown",
   "metadata": {},
   "source": [
    "関数 $y = 0.01x + 0.1x$ と $x=5$ のときの接線をプロットすると、以下の様になります。"
   ]
  },
  {
   "cell_type": "code",
   "execution_count": 39,
   "metadata": {},
   "outputs": [
    {
     "name": "stdout",
     "output_type": "stream",
     "text": [
      "0.1999999999990898\n"
     ]
    },
    {
     "data": {
      "image/png": "[encoded data removed]",
      "text/plain": [
       "<Figure size 432x288 with 1 Axes>"
      ]
     },
     "metadata": {
      "needs_background": "light"
     },
     "output_type": "display_data"
    }
   ],
   "source": [
    "def tangent_line(f, x):\n",
    "    d = numerical_diff(f, x)\n",
    "    print(d)\n",
    "    y = f(x) - d*x\n",
    "    return lambda t: d*t + y\n",
    "     \n",
    "x = np.arange(0.0, 20.0, 0.1)\n",
    "y = function_1(x)\n",
    "plt.xlabel(\"x\")\n",
    "plt.ylabel(\"f(x)\")\n",
    "\n",
    "tf = tangent_line(function_1, 5)\n",
    "y2 = tf(x)\n",
    "\n",
    "plt.plot(x, y)\n",
    "plt.plot(x, y2)\n",
    "plt.show()"
   ]
  },
  {
   "cell_type": "markdown",
   "metadata": {},
   "source": [
    "### 4.3.3 偏微分"
   ]
  },
  {
   "cell_type": "markdown",
   "metadata": {},
   "source": [
    "2変数関数 $f(x_0, x_1) = x_0^2 + x_1^2$ について、\n",
    "\n",
    "$x_0 = 3, x_1 = 4$ のときの $x_0, x_1$に対する偏微分を求めましょう。\n",
    "\n",
    "ここでは、偏微分する変数以外の変数は予め代入して関数を作成し、計算します。"
   ]
  },
  {
   "cell_type": "markdown",
   "metadata": {},
   "source": [
    "(1) $\\frac{\\partial f}{\\partial x_0}$ の計算"
   ]
  },
  {
   "cell_type": "code",
   "execution_count": 40,
   "metadata": {},
   "outputs": [
    {
     "data": {
      "text/plain": [
       "6.00000000000378"
      ]
     },
     "execution_count": 40,
     "metadata": {},
     "output_type": "execute_result"
    }
   ],
   "source": [
    "def function_tmp1(x0):\n",
    "    return x0*x0 + 4.0**2.0\n",
    "\n",
    "numerical_diff(function_tmp1, 3.0)"
   ]
  },
  {
   "cell_type": "markdown",
   "metadata": {},
   "source": [
    "(2) $\\frac{\\partial f}{\\partial x_1}$ の計算"
   ]
  },
  {
   "cell_type": "code",
   "execution_count": 41,
   "metadata": {},
   "outputs": [
    {
     "data": {
      "text/plain": [
       "7.999999999999119"
      ]
     },
     "execution_count": 41,
     "metadata": {},
     "output_type": "execute_result"
    }
   ],
   "source": [
    "def function_tmp2(x1):\n",
    "    return 3.0**2.0 + x1*x1\n",
    "\n",
    "numerical_diff(function_tmp2, 4.0)"
   ]
  },
  {
   "cell_type": "markdown",
   "metadata": {},
   "source": [
    "## 4.4 勾配"
   ]
  },
  {
   "cell_type": "markdown",
   "metadata": {},
   "source": [
    "次に$x_0$ と $x_1$ の偏微分をまとめて計算することを考えます。\n",
    "\n",
    "そこで、すべての変数の偏微分をベクトルとしてまとめた\"勾配\"を導入します。\n",
    "\n",
    "具体的には $(\\frac{\\partial f}{\\partial x_0}, \\frac{\\partial f}{\\partial x_1})$ とまとめることで計算を行います。\n",
    "\n",
    "まずは、勾配を定義してみましょう。"
   ]
  },
  {
   "cell_type": "code",
   "execution_count": 42,
   "metadata": {},
   "outputs": [],
   "source": [
    "def _numerical_gradient_no_batch(f, x):\n",
    "    h = 1e-4  # 0.0001\n",
    "    grad = np.zeros_like(x)  # xと同じ形状で、その要素が全て0の配列を生成\n",
    "    \n",
    "    for idx in range(x.size):\n",
    "        tmp_val = x[idx]\n",
    "        x[idx] = float(tmp_val) + h\n",
    "        fxh1 = f(x)  # f(x+h)の計算\n",
    "        \n",
    "        x[idx] = tmp_val - h \n",
    "        fxh2 = f(x)  # f(x-h)の計算\n",
    "        \n",
    "        grad[idx] = (fxh1 - fxh2) / (2*h)\n",
    "        \n",
    "        x[idx] = tmp_val  # 値を元に戻す\n",
    "        \n",
    "    return grad"
   ]
  },
  {
   "cell_type": "markdown",
   "metadata": {},
   "source": [
    "多次元配列(バッチ処理))を含めるため、先の関数を以下の様に修正します。"
   ]
  },
  {
   "cell_type": "code",
   "execution_count": 43,
   "metadata": {},
   "outputs": [],
   "source": [
    "def numerical_gradient(f, X):\n",
    "    if X.ndim == 1:\n",
    "        return _numerical_gradient_no_batch(f, X)\n",
    "    else:\n",
    "        grad = np.zeros_like(X)\n",
    "        \n",
    "        for idx, x in enumerate(X):\n",
    "            grad[idx] = _numerical_gradient_no_batch(f, x)\n",
    "        \n",
    "        return grad"
   ]
  },
  {
   "cell_type": "markdown",
   "metadata": {},
   "source": [
    "ここで、$f(x_0, x_1) = x_0^2 + x_1^2$ について、関数を定義します。"
   ]
  },
  {
   "cell_type": "code",
   "execution_count": 44,
   "metadata": {},
   "outputs": [],
   "source": [
    "def function_2(x):\n",
    "    if x.ndim == 1:\n",
    "        return np.sum(x**2)\n",
    "    else:\n",
    "        return np.sum(x**2, axis=1)  ##勾配の図を描くために、2次限配列に対応"
   ]
  },
  {
   "cell_type": "markdown",
   "metadata": {},
   "source": [
    "続いて、点 $(3, 4)$ 、$(0, 2)$ 、$(3, 0)$ での勾配を求めます。"
   ]
  },
  {
   "cell_type": "code",
   "execution_count": 45,
   "metadata": {},
   "outputs": [
    {
     "data": {
      "text/plain": [
       "array([6., 8.])"
      ]
     },
     "execution_count": 45,
     "metadata": {},
     "output_type": "execute_result"
    }
   ],
   "source": [
    "numerical_gradient(function_2, np.array([3.0, 4.0]))"
   ]
  },
  {
   "cell_type": "code",
   "execution_count": 46,
   "metadata": {},
   "outputs": [
    {
     "data": {
      "text/plain": [
       "array([0., 4.])"
      ]
     },
     "execution_count": 46,
     "metadata": {},
     "output_type": "execute_result"
    }
   ],
   "source": [
    "numerical_gradient(function_2, np.array([0.0, 2.0]))"
   ]
  },
  {
   "cell_type": "code",
   "execution_count": 47,
   "metadata": {},
   "outputs": [
    {
     "data": {
      "text/plain": [
       "array([6., 0.])"
      ]
     },
     "execution_count": 47,
     "metadata": {},
     "output_type": "execute_result"
    }
   ],
   "source": [
    "numerical_gradient(function_2, np.array([3.0, 0.0]))"
   ]
  },
  {
   "cell_type": "markdown",
   "metadata": {},
   "source": [
    "勾配の全体像はどのようになっているでしょうか？\n",
    "\n",
    "$f(x_0, x_1) = x_0^2 + x_1^2$ の勾配の結果にマイナスを付けたベクトルとして図示してみます。"
   ]
  },
  {
   "cell_type": "code",
   "execution_count": 48,
   "metadata": {},
   "outputs": [
    {
     "data": {
      "image/png": "[encoded data removed]",
      "text/plain": [
       "<Figure size 432x288 with 1 Axes>"
      ]
     },
     "metadata": {
      "needs_background": "light"
     },
     "output_type": "display_data"
    }
   ],
   "source": [
    "def tangent_line(f, x):\n",
    "    d = numerical_gradient(f, x)\n",
    "    print(d)\n",
    "    y = f(x) - d*x\n",
    "    return lambda t: d*t + y\n",
    "\n",
    "\n",
    "if __name__ == '__main__':\n",
    "    x0 = np.arange(-2, 2.5, 0.25)\n",
    "    x1 = np.arange(-2, 2.5, 0.25)\n",
    "    X, Y = np.meshgrid(x0, x1)\n",
    "    \n",
    "    X = X.flatten()\n",
    "    Y = Y.flatten()\n",
    "\n",
    "    grad = numerical_gradient(function_2, np.array([X, Y]).T).T\n",
    "\n",
    "    plt.figure()\n",
    "    plt.quiver(X, Y, -grad[0], -grad[1],  angles=\"xy\",color=\"#666666\")  # 勾配にマイナスを付けている\n",
    "    plt.xlim([-2, 2])\n",
    "    plt.ylim([-2, 2])\n",
    "    plt.xlabel('x0')\n",
    "    plt.ylabel('x1')\n",
    "    plt.grid()\n",
    "    plt.draw()\n",
    "    plt.show()\n"
   ]
  },
  {
   "cell_type": "markdown",
   "metadata": {},
   "source": [
    "この例では、勾配が一番低い場所を示しています。(他の例では必ずしも勾配が一番低い場所を示すわけではないですが...)\n",
    "\n",
    "勾配は、各地点において低くなる方向を指します。すなわち、各場所において\"関数を最も減らす方向\"となります。"
   ]
  },
  {
   "cell_type": "markdown",
   "metadata": {},
   "source": [
    "### 4.4.1 勾配法"
   ]
  },
  {
   "cell_type": "markdown",
   "metadata": {},
   "source": [
    "概要で損失関数の最小値を探すために、\"勾配降下法\"を用いると述べました。\n",
    "\n",
    "(それは、4.3.1 微分の章で述べた通り、損失関数は解析的に微分が求められないことが多いためです。)\n",
    "\n",
    "勾配降下法とは、現在の場所から勾配方向(関数を減らす方向)に一定の距離だけ進むことを繰り返すことで、\n",
    "\n",
    "パラメータを修正して関数の値を徐々に減らす方法です。\n",
    "\n",
    "パラメータ $\\mathrm{W}$ が以下のように与えられた場合、対応する勾配降下法を数式で表すと次のようになります。"
   ]
  },
  {
   "cell_type": "markdown",
   "metadata": {},
   "source": [
    "$$\\mathrm{W} =\n",
    "\\begin{pmatrix}\n",
    "w_{11} & w_{12}\\\\\n",
    "\\end{pmatrix}$$"
   ]
  },
  {
   "cell_type": "markdown",
   "metadata": {},
   "source": [
    "$$\\mathrm{W} - \\frac{\\partial L}{\\partial \\mathrm{W}} =\n",
    "\\begin{pmatrix}\n",
    "w_{11} - \\eta\\frac{\\partial L}{\\partial w_{11}} & w_{12} - \\eta\\frac{\\partial L}{\\partial w_{12}}\\\\\n",
    "\\end{pmatrix}$$"
   ]
  },
  {
   "cell_type": "markdown",
   "metadata": {},
   "source": [
    "$\\eta$ はニューラルネットワークの学習においては、\"学習率\"と呼ばれます。\n",
    "\n",
    "これは、前もって与えるハイパーパラメータで、適切に与えてあげる必要があります。"
   ]
  },
  {
   "cell_type": "markdown",
   "metadata": {},
   "source": [
    "以下に、勾配降下法を定義します。"
   ]
  },
  {
   "cell_type": "code",
   "execution_count": 49,
   "metadata": {},
   "outputs": [],
   "source": [
    "def gradient_descent(f, init_x, lr=0.01, step_num=100):\n",
    "    # lrは学習率、step_numは勾配法による繰り返しの数\n",
    "    x = init_x  # xの初期値\n",
    "    x_history = []\n",
    "\n",
    "    for i in range(step_num):\n",
    "        x_history.append( x.copy() )\n",
    "\n",
    "        grad = numerical_gradient(f, x)  # 勾配を求める\n",
    "        x -= lr * grad  # パラメータの修正\n",
    "\n",
    "    return x, np.array(x_history)"
   ]
  },
  {
   "cell_type": "markdown",
   "metadata": {},
   "source": [
    "$f(x_0, x_1) = x_0^2 + x_1^2$ の最小値を勾配降下法で求めてみます。"
   ]
  },
  {
   "cell_type": "code",
   "execution_count": 50,
   "metadata": {},
   "outputs": [
    {
     "data": {
      "text/plain": [
       "(array([-0.32212255,  0.42949673]),\n",
       " array([[-3.        ,  4.        ],\n",
       "        [-2.4       ,  3.2       ],\n",
       "        [-1.92      ,  2.56      ],\n",
       "        [-1.536     ,  2.048     ],\n",
       "        [-1.2288    ,  1.6384    ],\n",
       "        [-0.98304   ,  1.31072   ],\n",
       "        [-0.786432  ,  1.048576  ],\n",
       "        [-0.6291456 ,  0.8388608 ],\n",
       "        [-0.50331648,  0.67108864],\n",
       "        [-0.40265318,  0.53687091]]))"
      ]
     },
     "execution_count": 50,
     "metadata": {},
     "output_type": "execute_result"
    }
   ],
   "source": [
    "init_x = np.array([-3.0, 4.0]) # 初期値\n",
    "\n",
    "gradient_descent(function_2, init_x, lr=0.1, step_num=10)"
   ]
  },
  {
   "cell_type": "markdown",
   "metadata": {},
   "source": [
    "パラメータの変化をプロットしてみます。"
   ]
  },
  {
   "cell_type": "code",
   "execution_count": 51,
   "metadata": {},
   "outputs": [
    {
     "data": {
      "image/png": "[encoded data removed]",
      "text/plain": [
       "<Figure size 432x288 with 1 Axes>"
      ]
     },
     "metadata": {
      "needs_background": "light"
     },
     "output_type": "display_data"
    }
   ],
   "source": [
    "init_x = np.array([-3.0, 4.0])    \n",
    "\n",
    "lr = 0.1\n",
    "step_num = 20\n",
    "x, x_history = gradient_descent(function_2, init_x, lr=lr, step_num=step_num)\n",
    "\n",
    "plt.plot( [-5, 5], [0,0], '--b')\n",
    "plt.plot( [0,0], [-5, 5], '--b')\n",
    "plt.plot(x_history[:,0], x_history[:,1], 'o')\n",
    "\n",
    "plt.xlim(-3.5, 3.5)\n",
    "plt.ylim(-4.5, 4.5)\n",
    "plt.xlabel(\"X0\")\n",
    "plt.ylabel(\"X1\")\n",
    "plt.show()"
   ]
  },
  {
   "cell_type": "markdown",
   "metadata": {},
   "source": [
    "$(0, 0)$ に収束していることが分かります。"
   ]
  },
  {
   "cell_type": "markdown",
   "metadata": {},
   "source": [
    "ここで、学習率が大きすぎる例と、小さすぎる例についても見てみましょう。"
   ]
  },
  {
   "cell_type": "code",
   "execution_count": 52,
   "metadata": {},
   "outputs": [
    {
     "data": {
      "text/plain": [
       "(array([-2.58984259e+13,  4.00000000e+00]),\n",
       " array([[-3.00000000e+00,  4.00000000e+00],\n",
       "        [ 5.70000000e+01,  4.00000000e+00],\n",
       "        [-1.08300000e+03,  4.00000000e+00],\n",
       "        [ 2.05770000e+04,  4.00000000e+00],\n",
       "        [-3.90963005e+05,  4.00000000e+00],\n",
       "        [ 7.42829664e+06,  4.00000000e+00],\n",
       "        [-1.41137328e+08,  4.00000000e+00],\n",
       "        [ 2.68126267e+09,  4.00000000e+00],\n",
       "        [-5.10275373e+10,  4.00000000e+00],\n",
       "        [ 9.45119663e+11,  4.00000000e+00]]))"
      ]
     },
     "execution_count": 52,
     "metadata": {},
     "output_type": "execute_result"
    }
   ],
   "source": [
    "#学習率が大きすぎる例\n",
    "init_x = np.array([-3.0, 4.0])    \n",
    "\n",
    "lr = 10,0 # 学習率100倍\n",
    "step_num = 20\n",
    "gradient_descent(function_2, init_x, lr=lr, step_num=10)"
   ]
  },
  {
   "cell_type": "code",
   "execution_count": 53,
   "metadata": {},
   "outputs": [
    {
     "data": {
      "text/plain": [
       "(array([-2.99999999,  3.99999999]),\n",
       " array([[-3.        ,  4.        ],\n",
       "        [-3.        ,  4.        ],\n",
       "        [-3.        ,  4.        ],\n",
       "        [-3.        ,  4.        ],\n",
       "        [-3.        ,  4.        ],\n",
       "        [-3.        ,  4.        ],\n",
       "        [-3.        ,  4.        ],\n",
       "        [-3.        ,  3.99999999],\n",
       "        [-3.        ,  3.99999999],\n",
       "        [-2.99999999,  3.99999999]]))"
      ]
     },
     "execution_count": 53,
     "metadata": {},
     "output_type": "execute_result"
    }
   ],
   "source": [
    "#学習率が小さすぎる例\n",
    "init_x = np.array([-3.0, 4.0])    \n",
    "\n",
    "lr = 1e-10 # 学習率10億分の1倍\n",
    "step_num = 20\n",
    "gradient_descent(function_2, init_x, lr=lr, step_num=10)"
   ]
  },
  {
   "cell_type": "markdown",
   "metadata": {},
   "source": [
    "学習率が大きすぎると発散、小さすぎるとほとんど更新されていないことが分かります。\n",
    "\n",
    "学習率は適切な値に設定することが重要であるといえます。"
   ]
  },
  {
   "cell_type": "markdown",
   "metadata": {},
   "source": [
    "### 4.4.2 ニューラルネットワークに対する勾配"
   ]
  },
  {
   "cell_type": "markdown",
   "metadata": {},
   "source": [
    "簡単なニューラルネットワークを使って、勾配を求めてみます。\n",
    "\n",
    "まずは、SimpleNetのクラスを定義します。"
   ]
  },
  {
   "cell_type": "code",
   "execution_count": 54,
   "metadata": {},
   "outputs": [],
   "source": [
    "class simpleNet:\n",
    "    # (2×3)のパラメータの初期値\n",
    "    def __init__(self):\n",
    "        self.W = np.random.randn(2,3) # ガウス分布で初期化\n",
    "\n",
    "    # ソフトマックス関数で出力する前の値\n",
    "    def predict(self, x):\n",
    "        return np.dot(x, self.W)\n",
    "\n",
    "    # 損失関数を求める\n",
    "    def loss(self, x, t):\n",
    "        z = self.predict(x)\n",
    "        y = softmax(z)\n",
    "        loss = cross_entropy_error(y, t)\n",
    "\n",
    "        return loss"
   ]
  },
  {
   "cell_type": "markdown",
   "metadata": {},
   "source": [
    "生成したパラメータを確認します。"
   ]
  },
  {
   "cell_type": "code",
   "execution_count": 55,
   "metadata": {},
   "outputs": [
    {
     "name": "stdout",
     "output_type": "stream",
     "text": [
      "[[-0.04031508 -1.15418338 -0.55645426]\n",
      " [-0.62295497 -0.17056049  1.52164863]]\n"
     ]
    }
   ],
   "source": [
    "net = simpleNet() #インスタンスの作成\n",
    "print(net.W)"
   ]
  },
  {
   "cell_type": "markdown",
   "metadata": {},
   "source": [
    "入力値 $x$ と正解ラベル $t$ を定義して勾配を求めます。"
   ]
  },
  {
   "cell_type": "code",
   "execution_count": 56,
   "metadata": {},
   "outputs": [
    {
     "name": "stdout",
     "output_type": "stream",
     "text": [
      "[[ 0.12856598  0.24697234 -0.37553832]\n",
      " [ 0.19284897  0.37045852 -0.56330749]]\n"
     ]
    }
   ],
   "source": [
    "x = np.array([0.6, 0.9])\n",
    "t = np.array([0, 0, 1])\n",
    "\n",
    "net = simpleNet()\n",
    "\n",
    "f = lambda w: net.loss(x, t) # lambdaで関数を生成\n",
    "dW = numerical_gradient(f, net.W)\n",
    "\n",
    "print(dW)"
   ]
  },
  {
   "cell_type": "markdown",
   "metadata": {},
   "source": [
    "## 4.5 学習アルゴリズムの実装"
   ]
  },
  {
   "cell_type": "markdown",
   "metadata": {},
   "source": [
    "4.4章までのことを踏まえて、ニューラルネットの学習を実装します。\n",
    "\n",
    "以下の3つの手順を繰り返すことで、学習を行います。\n",
    "\n",
    "1. ミニバッチ(データをランダム抽出)、2. 勾配の算出、3. パラメータの更新"
   ]
  },
  {
   "cell_type": "markdown",
   "metadata": {},
   "source": [
    "この方法は、無作為に選ばれているデータを使用することから、\"確立的勾配降下法(SGD)\"と呼ばれます。"
   ]
  },
  {
   "cell_type": "markdown",
   "metadata": {},
   "source": [
    "### 4.5.1 2層ニューラルネットワークのクラス"
   ]
  },
  {
   "cell_type": "markdown",
   "metadata": {},
   "source": [
    "まず、2層ニューラルネットワークを、ひとつのクラスとして定義します。"
   ]
  },
  {
   "cell_type": "code",
   "execution_count": 57,
   "metadata": {},
   "outputs": [],
   "source": [
    "class TwoLayerNet:\n",
    "\n",
    "    #重みの初期化\n",
    "    # input_sizeは入力値の大きさ、hidden_sizeは1層目の数、output_sizeは2層目の数\n",
    "    def __init__(self, input_size, hidden_size, output_size, weight_init_std=0.01):\n",
    "        self.params = {}  # ディクショナリ型\n",
    "        self.params['W1'] = weight_init_std * np.random.randn(input_size, hidden_size)  # 1層目の重み\n",
    "        self.params['b1'] = np.zeros(hidden_size)  # 1層目のバイアス\n",
    "        self.params['W2'] = weight_init_std * np.random.randn(hidden_size, output_size)  # 2層目の重み\n",
    "        self.params['b2'] = np.zeros(output_size)  # 2層目のバイアス\n",
    "\n",
    "    #認識を行う\n",
    "    def predict(self, x):\n",
    "        W1, W2 = self.params['W1'], self.params['W2']\n",
    "        b1, b2 = self.params['b1'], self.params['b2']\n",
    "    \n",
    "        a1 = np.dot(x, W1) + b1\n",
    "        z1 = sigmoid(a1)\n",
    "        a2 = np.dot(z1, W2) + b2\n",
    "        y = softmax(a2)\n",
    "        \n",
    "        return y\n",
    "        \n",
    "    # x:入力データ, t:教師データ\n",
    "    def loss(self, x, t):\n",
    "        y = self.predict(x)\n",
    "        \n",
    "        return cross_entropy_error(y, t)\n",
    "    \n",
    "    # 認識精度を求める(正解率)\n",
    "    def accuracy(self, x, t):\n",
    "        y = self.predict(x)\n",
    "        y = np.argmax(y, axis=1)\n",
    "        t = np.argmax(t, axis=1)\n",
    "        \n",
    "        accuracy = np.sum(y == t) / float(x.shape[0])\n",
    "        return accuracy\n",
    "        \n",
    "    # パラメータに対する勾配を求める \n",
    "    def numerical_gradient(self, x, t):\n",
    "        loss_W = lambda W: self.loss(x, t)\n",
    "        \n",
    "        grads = {}  # ディクショナリ型\n",
    "        grads['W1'] = numerical_gradient(loss_W, self.params['W1'])  # 1層目の重みの勾配\n",
    "        grads['b1'] = numerical_gradient(loss_W, self.params['b1'])  # 1層目のバイアスの勾配\n",
    "        grads['W2'] = numerical_gradient(loss_W, self.params['W2'])  # 2層目の重みの勾配\n",
    "        grads['b2'] = numerical_gradient(loss_W, self.params['b2'])  # 2層目のバイアスの勾配\n",
    "        \n",
    "        return grads\n",
    "    # 高速に勾配を求める    \n",
    "    def gradient(self, x, t):\n",
    "        W1, W2 = self.params['W1'], self.params['W2']\n",
    "        b1, b2 = self.params['b1'], self.params['b2']\n",
    "        grads = {}\n",
    "        \n",
    "        batch_num = x.shape[0]\n",
    "        \n",
    "        # forward\n",
    "        a1 = np.dot(x, W1) + b1\n",
    "        z1 = sigmoid(a1)\n",
    "        a2 = np.dot(z1, W2) + b2\n",
    "        y = softmax(a2)\n",
    "        \n",
    "        # backward\n",
    "        dy = (y - t) / batch_num\n",
    "        grads['W2'] = np.dot(z1.T, dy)\n",
    "        grads['b2'] = np.sum(dy, axis=0)\n",
    "        \n",
    "        dz1 = np.dot(dy, W2.T)\n",
    "        da1 = sigmoid_grad(a1) * dz1\n",
    "        grads['W1'] = np.dot(x.T, da1)\n",
    "        grads['b1'] = np.sum(da1, axis=0)\n",
    "\n",
    "        return grads"
   ]
  },
  {
   "cell_type": "markdown",
   "metadata": {},
   "source": [
    "パラメータの形状がどのようになるか、確認しましょう。"
   ]
  },
  {
   "cell_type": "code",
   "execution_count": 58,
   "metadata": {},
   "outputs": [
    {
     "name": "stdout",
     "output_type": "stream",
     "text": [
      "(784, 100)\n",
      "(100,)\n",
      "(100, 10)\n",
      "(10,)\n"
     ]
    }
   ],
   "source": [
    "net = TwoLayerNet(input_size=784, hidden_size=100, output_size=10)\n",
    "print(net.params['W1'].shape)\n",
    "print(net.params['b1'].shape)\n",
    "print(net.params['W2'].shape)\n",
    "print(net.params['b2'].shape)"
   ]
  },
  {
   "cell_type": "markdown",
   "metadata": {},
   "source": [
    "続いて、勾配の形状についても確認します。(このコードは時間がかかるので注意してください)"
   ]
  },
  {
   "cell_type": "code",
   "execution_count": 59,
   "metadata": {},
   "outputs": [
    {
     "name": "stdout",
     "output_type": "stream",
     "text": [
      "(784, 100)\n",
      "(100,)\n",
      "(100, 10)\n",
      "(10,)\n"
     ]
    }
   ],
   "source": [
    "x = np.random.rand(100, 784)\n",
    "t = np.random.rand(100, 10)\n",
    "\n",
    "grads = net.numerical_gradient(x, t)\n",
    "\n",
    "print(grads['W1'].shape)\n",
    "print(grads['b1'].shape)\n",
    "print(grads['W2'].shape)\n",
    "print(grads['b2'].shape)"
   ]
  },
  {
   "cell_type": "markdown",
   "metadata": {},
   "source": [
    "### 4.5.2 ミニバッチ学習の実装　4.5.3 テストデータで評価"
   ]
  },
  {
   "cell_type": "markdown",
   "metadata": {},
   "source": [
    "mnistのデータを使って、ミニバッチ学習とテストデータでの評価を行います。\n",
    "\n",
    "まずは、データの読み込みとインスタンスの作成を行います。"
   ]
  },
  {
   "cell_type": "code",
   "execution_count": 60,
   "metadata": {},
   "outputs": [],
   "source": [
    "# データの読み込み\n",
    "(x_train, t_train), (x_test, t_test) = load_mnist(normalize=True, one_hot_label=True)\n",
    "\n",
    "network = TwoLayerNet(input_size=784, hidden_size=50, output_size=10)"
   ]
  },
  {
   "cell_type": "markdown",
   "metadata": {},
   "source": [
    "続いて、ハイパーパラメータを設定します。"
   ]
  },
  {
   "cell_type": "code",
   "execution_count": 61,
   "metadata": {},
   "outputs": [],
   "source": [
    "iters_num = 10000  # 繰り返しの回数を適宜設定する\n",
    "train_size = x_train.shape[0]\n",
    "batch_size = 100  # ミニバッチサイズ\n",
    "learning_rate = 0.1  # 学習率"
   ]
  },
  {
   "cell_type": "markdown",
   "metadata": {},
   "source": [
    "続いて、学習データとテストデータそれぞれの正解率を格納するリストを作成します。"
   ]
  },
  {
   "cell_type": "code",
   "execution_count": 62,
   "metadata": {},
   "outputs": [],
   "source": [
    "train_loss_list = []\n",
    "train_acc_list = []\n",
    "test_acc_list = []"
   ]
  },
  {
   "cell_type": "markdown",
   "metadata": {},
   "source": [
    "ただし、正解率の計算は、\"1エポックごと\"に行うことにします。\n",
    "\n",
    "1エポックは、学習において訓練データを使い切ったときの回数に対応します。\n",
    "\n",
    "例えば、10000個の訓練データに対して100個のミニバッチで学習する場合、\n",
    "\n",
    "確立的勾配降下法を100回繰り返すことが1エポックになります。"
   ]
  },
  {
   "cell_type": "code",
   "execution_count": 64,
   "metadata": {},
   "outputs": [],
   "source": [
    "iter_per_epoch = max(train_size / batch_size, 1)"
   ]
  },
  {
   "cell_type": "markdown",
   "metadata": {},
   "source": [
    "それでは、実際に実装して、テストデータで評価してみましょう。"
   ]
  },
  {
   "cell_type": "code",
   "execution_count": 65,
   "metadata": {},
   "outputs": [
    {
     "name": "stdout",
     "output_type": "stream",
     "text": [
      "train acc, test acc | 0.9468166666666666, 0.9449\n",
      "train acc, test acc | 0.94825, 0.9461\n",
      "train acc, test acc | 0.9499, 0.9471\n",
      "train acc, test acc | 0.9515, 0.9494\n",
      "train acc, test acc | 0.9520333333333333, 0.9489\n",
      "train acc, test acc | 0.9536166666666667, 0.9514\n",
      "train acc, test acc | 0.955, 0.9511\n",
      "train acc, test acc | 0.95585, 0.9528\n",
      "train acc, test acc | 0.9566333333333333, 0.9539\n",
      "train acc, test acc | 0.9581166666666666, 0.9544\n",
      "train acc, test acc | 0.95875, 0.9553\n",
      "train acc, test acc | 0.9600333333333333, 0.9559\n",
      "train acc, test acc | 0.9604333333333334, 0.956\n",
      "train acc, test acc | 0.96165, 0.9572\n",
      "train acc, test acc | 0.9627833333333333, 0.9577\n",
      "train acc, test acc | 0.9631166666666666, 0.9587\n",
      "train acc, test acc | 0.9640666666666666, 0.9589\n"
     ]
    },
    {
     "data": {
      "image/png": "[encoded data removed]",
      "text/plain": [
       "<Figure size 432x288 with 1 Axes>"
      ]
     },
     "metadata": {
      "needs_background": "light"
     },
     "output_type": "display_data"
    }
   ],
   "source": [
    "for i in range(iters_num):\n",
    "    # ミニバッチの取得\n",
    "    batch_mask = np.random.choice(train_size, batch_size)\n",
    "    x_batch = x_train[batch_mask]\n",
    "    t_batch = t_train[batch_mask]\n",
    "    \n",
    "    # 勾配の計算\n",
    "    #grad = network.numerical_gradient(x_batch, t_batch)\n",
    "    grad = network.gradient(x_batch, t_batch)\n",
    "    \n",
    "    # パラメータの更新\n",
    "    for key in ('W1', 'b1', 'W2', 'b2'):\n",
    "        network.params[key] -= learning_rate * grad[key]\n",
    "    \n",
    "    # 学習経過の記録\n",
    "    loss = network.loss(x_batch, t_batch)\n",
    "    train_loss_list.append(loss)\n",
    "    \n",
    "    \n",
    "    if i % iter_per_epoch == 0:\n",
    "        train_acc = network.accuracy(x_train, t_train)\n",
    "        test_acc = network.accuracy(x_test, t_test)\n",
    "        train_acc_list.append(train_acc)\n",
    "        test_acc_list.append(test_acc)\n",
    "        print(\"train acc, test acc | \" + str(train_acc) + \", \" + str(test_acc))\n",
    "\n",
    "# グラフの描画\n",
    "markers = {'train': 'o', 'test': 's'}\n",
    "x = np.arange(len(train_acc_list))\n",
    "plt.plot(x, train_acc_list, label='train acc')\n",
    "plt.plot(x, test_acc_list, label='test acc', linestyle='--')\n",
    "plt.xlabel(\"epochs\")\n",
    "plt.ylabel(\"accuracy\")\n",
    "plt.ylim(0, 1.0)\n",
    "plt.legend(loc='lower right')\n",
    "plt.show()"
   ]
  },
  {
   "cell_type": "markdown",
   "metadata": {},
   "source": [
    "学習が進むにつれて、訓練データとテストデータともに、認識精度が向上しています。\n",
    "\n",
    "そのため、今回の学習では過学習が起きていないことが分かります。"
   ]
  },
  {
   "cell_type": "markdown",
   "metadata": {},
   "source": [
    "## 4.6 まとめ"
   ]
  },
  {
   "cell_type": "markdown",
   "metadata": {},
   "source": [
    "・ニューラルネットを使って、訓練データで学習を行い、テストデータで評価する方法を学んだ\n",
    "\n",
    "・学習には、損失関数を指標として、損失関数の値が小さくなるように、パラメータを更新する\n",
    "\n",
    "・パラメータの更新には、勾配降下法を利用する\n",
    "\n",
    "・数値微分によって、パラメータの勾配を求めることができる"
   ]
  }
 ],
 "metadata": {
  "interpreter": {
   "hash": "97ae724bfa85b9b34df7982b8bb8c7216f435b92902d749e4263f71162bea840"
  },
  "kernelspec": {
   "display_name": "Python 3.8.5 ('base')",
   "language": "python",
   "name": "python3"
  },
  "language_info": {
   "codemirror_mode": {
    "name": "ipython",
    "version": 3
   },
   "file_extension": ".py",
   "mimetype": "text/x-python",
   "name": "python",
   "nbconvert_exporter": "python",
   "pygments_lexer": "ipython3",
   "version": "3.8.5"
  },
  "orig_nbformat": 4
 },
 "nbformat": 4,
 "nbformat_minor": 2
}
