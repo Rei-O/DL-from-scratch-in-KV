{
 "cells": [
  {
   "cell_type": "markdown",
   "id": "f9abc994-fb2c-4546-b436-c30c2d85ece4",
   "metadata": {},
   "source": [
    "4.1 ニューラルネットワークの学習\n",
    "学習＝訓練データから最適な重みパラメータの値を自動で獲得することを指す。"
   ]
  },
  {
   "cell_type": "markdown",
   "id": "83282d21-360e-4ad0-99b9-fec8446e0bfb",
   "metadata": {},
   "source": [
    "4.1.1 データ駆動\n",
    "データがなければ始まらない"
   ]
  },
  {
   "cell_type": "code",
   "execution_count": null,
   "id": "996dfdf0-978c-4b03-8a05-a3d80569d7b7",
   "metadata": {},
   "outputs": [],
   "source": []
  }
 ],
 "metadata": {
  "kernelspec": {
   "display_name": "Python 3 (ipykernel)",
   "language": "python",
   "name": "python3"
  },
  "language_info": {
   "codemirror_mode": {
    "name": "ipython",
    "version": 3
   },
   "file_extension": ".py",
   "mimetype": "text/x-python",
   "name": "python",
   "nbconvert_exporter": "python",
   "pygments_lexer": "ipython3",
   "version": "3.9.6"
  }
 },
 "nbformat": 4,
 "nbformat_minor": 5
}
