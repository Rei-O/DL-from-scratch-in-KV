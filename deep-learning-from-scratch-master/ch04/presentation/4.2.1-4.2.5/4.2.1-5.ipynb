{
 "cells": [
  {
   "cell_type": "markdown",
   "id": "d47e9383-2ea1-4111-969f-4695f43b5557",
   "metadata": {},
   "source": [
    "# 4.2.1: 2乗和誤差(SSE:Sum of Square Error)"
   ]
  },
  {
   "cell_type": "markdown",
   "id": "f1ff8631-5af2-4635-b976-50bed537c819",
   "metadata": {},
   "source": [
    "https://docs.google.com/presentation/d/14gYge5fHH5wI9b3uyyJY1jM-5I9E1jGMVKQecCEUD9Q/edit#slide=id.g10e449d0a8e_0_37"
   ]
  },
  {
   "cell_type": "code",
   "execution_count": 1,
   "id": "10f0cff4-439e-4b0c-b454-fb0e09c3ad78",
   "metadata": {},
   "outputs": [],
   "source": [
    "import numpy as np"
   ]
  },
  {
   "cell_type": "code",
   "execution_count": 2,
   "id": "e1f46380-b1b0-4f7e-bfb4-cff4ec7c008f",
   "metadata": {},
   "outputs": [],
   "source": [
    "# sum of squared error\n",
    "def sum_squared_error(y,t):\n",
    "    return 0.5 * np.sum((y-t)**2)"
   ]
  },
  {
   "cell_type": "code",
   "execution_count": 3,
   "id": "a6fc6f1e-f239-445d-ae51-5f58006e6c3e",
   "metadata": {},
   "outputs": [],
   "source": [
    "y = [0.1,0.05,0.6,0.0,0.05,0.1,0.0,0.1,0.0,0.0]\n",
    "t = [0,0,1,0,0,0,0,0,0,0] # 正解ラベルを1としてそれ以外は0で表す \"one-hot表現\""
   ]
  },
  {
   "cell_type": "code",
   "execution_count": 4,
   "id": "dcf0137e-fdc9-4434-a59d-7e8d2faea985",
   "metadata": {},
   "outputs": [
    {
     "data": {
      "text/plain": [
       "0.09750000000000003"
      ]
     },
     "execution_count": 4,
     "metadata": {},
     "output_type": "execute_result"
    }
   ],
   "source": [
    "sum_squared_error(np.array(y),np.array(t))"
   ]
  },
  {
   "cell_type": "code",
   "execution_count": 5,
   "id": "bd2a5eea-7170-46a9-8428-7e346969ba39",
   "metadata": {},
   "outputs": [],
   "source": [
    "y = [0.1, 0.05, 0.1, 0.0, 0.05, 0.1, 0.0, 0.6, 0.0, 0.0]"
   ]
  },
  {
   "cell_type": "code",
   "execution_count": 6,
   "id": "c42c9cec-2fcc-4014-8045-69f60abfe641",
   "metadata": {},
   "outputs": [
    {
     "name": "stdout",
     "output_type": "stream",
     "text": [
      "y= [0.1, 0.05, 0.1, 0.0, 0.05, 0.1, 0.0, 0.6, 0.0, 0.0] \n",
      "t= [0, 0, 1, 0, 0, 0, 0, 0, 0, 0]\n"
     ]
    }
   ],
   "source": [
    "print('y=',y, '\\n'\n",
    "      't=',t)"
   ]
  },
  {
   "cell_type": "code",
   "execution_count": 7,
   "id": "2f1b9c36-0b41-4105-abcc-aa265a024b05",
   "metadata": {},
   "outputs": [
    {
     "data": {
      "text/plain": [
       "0.5975"
      ]
     },
     "execution_count": 7,
     "metadata": {},
     "output_type": "execute_result"
    }
   ],
   "source": [
    "sum_squared_error(np.array(y),np.array(t))"
   ]
  },
  {
   "cell_type": "markdown",
   "id": "8839fc69-c516-4c49-9275-8e32ec0f18d1",
   "metadata": {},
   "source": [
    "# 4.2.2 交差エントロピー誤差 (Cross Entropy Error)"
   ]
  },
  {
   "cell_type": "markdown",
   "id": "8e4fee8a-747b-4a8b-bb1d-b4cfa8e605b2",
   "metadata": {},
   "source": [
    "https://docs.google.com/presentation/d/14gYge5fHH5wI9b3uyyJY1jM-5I9E1jGMVKQecCEUD9Q/edit#slide=id.g10e449d0a8e_0_46"
   ]
  },
  {
   "cell_type": "code",
   "execution_count": 8,
   "id": "3ab7ffda-6350-43e9-a48e-843fab6d6d0c",
   "metadata": {},
   "outputs": [],
   "source": [
    "def cross_entropy_error(y,t):\n",
    "    delta = 1e-7 # np.log(0)でのエラーの発生(-inf:マイナス無限大)を防ぐ\n",
    "    return -np.sum(t*np.log(y + delta))"
   ]
  },
  {
   "cell_type": "code",
   "execution_count": 9,
   "id": "c3aaacf1-a7ee-482c-b801-a1da432cd495",
   "metadata": {},
   "outputs": [
    {
     "name": "stderr",
     "output_type": "stream",
     "text": [
      "/var/folders/40/5ckj9ggn49q3nfcs0qc0cln00000gn/T/ipykernel_35826/2933082444.py:1: RuntimeWarning: divide by zero encountered in log\n",
      "  np.log(0)\n"
     ]
    },
    {
     "data": {
      "text/plain": [
       "-inf"
      ]
     },
     "execution_count": 9,
     "metadata": {},
     "output_type": "execute_result"
    }
   ],
   "source": [
    "np.log(0)"
   ]
  },
  {
   "cell_type": "code",
   "execution_count": 10,
   "id": "4516c3f9-76c5-4a1e-b1a5-ef4609c24256",
   "metadata": {},
   "outputs": [],
   "source": [
    "t = [0, 0, 1, 0, 0, 0, 0, 0, 0, 0]\n",
    "y = [0.1, 0.05, 0.6, 0.0, 0.05, 0.1, 0.0, 0.1, 0.0, 0.0]"
   ]
  },
  {
   "cell_type": "code",
   "execution_count": 11,
   "id": "efc205c3-56d1-433c-b5cc-162e38ec67a5",
   "metadata": {},
   "outputs": [
    {
     "data": {
      "text/plain": [
       "0.510825457099338"
      ]
     },
     "execution_count": 11,
     "metadata": {},
     "output_type": "execute_result"
    }
   ],
   "source": [
    "cross_entropy_error(np.array(y),np.array(t))"
   ]
  },
  {
   "cell_type": "code",
   "execution_count": 12,
   "id": "e3477cd2-9576-49d4-948d-15f04564a6d6",
   "metadata": {},
   "outputs": [],
   "source": [
    "y = [0.1, 0.05, 0.1, 0.0, 0.05, 0.1, 0.0, 0.6, 0.0, 0.0]"
   ]
  },
  {
   "cell_type": "code",
   "execution_count": 13,
   "id": "b4e33145-b6db-45f3-b6ed-0b9cf975512c",
   "metadata": {},
   "outputs": [
    {
     "data": {
      "text/plain": [
       "2.302584092994546"
      ]
     },
     "execution_count": 13,
     "metadata": {},
     "output_type": "execute_result"
    }
   ],
   "source": [
    "cross_entropy_error(np.array(y),np.array(t))"
   ]
  },
  {
   "cell_type": "markdown",
   "id": "6ea085f0-819e-477e-b422-a69f79538cec",
   "metadata": {},
   "source": [
    "# 4.2.3 ミニバッチ学習"
   ]
  },
  {
   "cell_type": "code",
   "execution_count": 14,
   "id": "de9d6bfd-d84e-4b32-ba1b-d5408a865d04",
   "metadata": {},
   "outputs": [
    {
     "name": "stdout",
     "output_type": "stream",
     "text": [
      "(60000, 784)\n",
      "(60000, 10)\n"
     ]
    }
   ],
   "source": [
    "import sys, os\n",
    "sys.path.append(os.pardir)\n",
    "import numpy as np\n",
    "from dataset.mnist import load_mnist\n",
    "(x_train, t_train), (x_test, t_test) = \\\n",
    "    load_mnist(normalize=True, one_hot_label=True) \n",
    "\n",
    "print(x_train.shape) # (60000, 784), 28x28の画像データ\n",
    "print(t_train.shape) # (60000, 10)"
   ]
  },
  {
   "cell_type": "code",
   "execution_count": 15,
   "id": "2d697cd6-a5e9-4113-94e4-79ba3db08a35",
   "metadata": {},
   "outputs": [],
   "source": [
    "# ランダムに10枚抜き出す\n",
    "train_size = x_train.shape[0] # 60000\n",
    "batch_size = 10\n",
    "batch_mask = np.random.choice(train_size, batch_size)\n",
    "x_batch = x_train[batch_mask]\n",
    "t_batch = t_train[batch_mask]"
   ]
  },
  {
   "cell_type": "code",
   "execution_count": 16,
   "id": "0aac30b1-cc76-40ab-94d9-9a59ba0bf1d2",
   "metadata": {},
   "outputs": [
    {
     "data": {
      "text/plain": [
       "array([[0., 0., 0., ..., 0., 0., 0.],\n",
       "       [0., 0., 0., ..., 0., 0., 0.],\n",
       "       [0., 0., 0., ..., 0., 0., 0.],\n",
       "       ...,\n",
       "       [0., 0., 0., ..., 0., 0., 0.],\n",
       "       [0., 0., 0., ..., 0., 0., 0.],\n",
       "       [0., 0., 0., ..., 0., 0., 0.]], dtype=float32)"
      ]
     },
     "execution_count": 16,
     "metadata": {},
     "output_type": "execute_result"
    }
   ],
   "source": [
    "x_batch"
   ]
  },
  {
   "cell_type": "code",
   "execution_count": 17,
   "id": "9fcd85e2-94fb-411f-9456-e2d998417fdd",
   "metadata": {},
   "outputs": [
    {
     "data": {
      "text/plain": [
       "array([[0., 0., 0., 0., 1., 0., 0., 0., 0., 0.],\n",
       "       [0., 1., 0., 0., 0., 0., 0., 0., 0., 0.],\n",
       "       [0., 0., 0., 0., 0., 1., 0., 0., 0., 0.],\n",
       "       [0., 0., 0., 0., 0., 1., 0., 0., 0., 0.],\n",
       "       [0., 0., 0., 0., 0., 0., 0., 0., 0., 1.],\n",
       "       [0., 0., 0., 0., 1., 0., 0., 0., 0., 0.],\n",
       "       [0., 0., 1., 0., 0., 0., 0., 0., 0., 0.],\n",
       "       [0., 0., 0., 0., 1., 0., 0., 0., 0., 0.],\n",
       "       [0., 0., 0., 0., 0., 0., 0., 0., 1., 0.],\n",
       "       [1., 0., 0., 0., 0., 0., 0., 0., 0., 0.]])"
      ]
     },
     "execution_count": 17,
     "metadata": {},
     "output_type": "execute_result"
    }
   ],
   "source": [
    "t_batch"
   ]
  },
  {
   "cell_type": "code",
   "execution_count": 18,
   "id": "517bf744-e48f-4875-a60b-acc47637b999",
   "metadata": {},
   "outputs": [
    {
     "name": "stdout",
     "output_type": "stream",
     "text": [
      "(10, 784) \n",
      " (10, 10)\n"
     ]
    }
   ],
   "source": [
    "print(x_batch.shape,'\\n', t_batch.shape)"
   ]
  },
  {
   "cell_type": "markdown",
   "id": "b7076734-ad55-44b2-b3a0-6c2e31bb0cac",
   "metadata": {},
   "source": [
    "# 4.2.4 バッチ対応版　交差エントロピー誤差"
   ]
  },
  {
   "cell_type": "code",
   "execution_count": 19,
   "id": "78304a9b-f1a4-4454-a21a-7a1c7746d734",
   "metadata": {},
   "outputs": [],
   "source": [
    "#訓練データがone-hotの場合\n",
    "def _cross_entropy_error(y, t):\n",
    "    if y.ndim == 1: # Yの次元数が1の場合\n",
    "        t = t.reshape(1, t.size)\n",
    "        y = y.reshape(1, y.size) \n",
    "    batch_size = y.shape[0] \n",
    "    return -np.sum(t * np.log(y + 1e-7)) / batch_size"
   ]
  },
  {
   "cell_type": "code",
   "execution_count": 20,
   "id": "2f018ed7-f158-4a4e-910b-5b0bba4ec513",
   "metadata": {},
   "outputs": [],
   "source": [
    "#訓練データがラベルとして与えられた場合\n",
    "def cross_entropy_error(y, t):\n",
    "    if y.ndim == 1: # Yの次元数が1\n",
    "        t = t.reshape(1, t.size)\n",
    "        y = y.reshape(1, y.size)\n",
    "    batch_size = y.shape[0]\n",
    "    return -np.sum(np.log(y[np.arange(batch_size), t] + 1e-7)) / batch_size"
   ]
  },
  {
   "cell_type": "markdown",
   "id": "7f89feb8-095c-4b7e-a9e6-8cc19cac17ea",
   "metadata": {},
   "source": [
    "np.arange(batch_size) は 、0 か ら batch_size-1 ま で の 配 列 を 生 成 します。たとえば、batch_size が 5 だとしたら、np.arange(batch_size) は [0, 1, 2, 3, 4] の NumPy 配 列 を 生 成 し ま す 。t に は ラ ベ ル が [2, 7, 0, 9, 4] のように格納されているので、y[np.arange(batch_size), t] は 、各 デ ー タ の 正 解 ラ ベ ル に 対 応 す る ニ ュ ー ラ ル ネ ッ ト ワ ー ク の 出 力 を 抽 出 し ま す（ こ の 例 で は 、y[np.arange(batch_size), t] は 、 [y[0,2], y[1,7], y[2,0], y[3,9], y[4,4]] の NumPy 配列を生成します）。\n",
    "(Page 95). "
   ]
  },
  {
   "cell_type": "markdown",
   "id": "06d51c65-b482-49c9-9a67-3dadb46037a8",
   "metadata": {},
   "source": [
    "## 教師データが one-hot の場合 (batch_size = 3)"
   ]
  },
  {
   "cell_type": "code",
   "execution_count": 21,
   "id": "9aea91a8-8183-4c4d-8580-bae643cc1f99",
   "metadata": {},
   "outputs": [
    {
     "name": "stdout",
     "output_type": "stream",
     "text": [
      "[[0.1  0.05 0.6  0.   0.05 0.1  0.   0.1  0.   0.  ]\n",
      " [0.1  0.1  0.1  0.1  0.1  0.1  0.1  0.1  0.1  0.1 ]\n",
      " [0.1  0.05 0.1  0.   0.05 0.1  0.   0.6  0.   0.  ]]\n",
      "(3, 10)\n"
     ]
    }
   ],
   "source": [
    "# (仮の)出力yを作成\n",
    "y = np.array([\n",
    "    [0.1, 0.05, 0.6, 0.0, 0.05, 0.1, 0.0, 0.1, 0.0, 0.0], \n",
    "    [0.1, 0.1, 0.1, 0.1, 0.1, 0.1, 0.1, 0.1, 0.1, 0.1], \n",
    "    [0.1, 0.05, 0.1, 0.0, 0.05, 0.1, 0.0, 0.6, 0.0, 0.0]\n",
    "])\n",
    "print(y)\n",
    "print(y.shape)"
   ]
  },
  {
   "cell_type": "code",
   "execution_count": 22,
   "id": "b9c19194-abc6-4f47-82f1-6db20656c030",
   "metadata": {},
   "outputs": [
    {
     "name": "stdout",
     "output_type": "stream",
     "text": [
      "[[0 0 1 0 0 0 0 0 0 0]\n",
      " [0 0 0 0 0 0 0 0 1 0]\n",
      " [0 0 1 0 0 0 0 0 0 0]]\n",
      "(3, 10)\n"
     ]
    }
   ],
   "source": [
    "# (仮の)教師データtを作成 (one-hot)\n",
    "t = np.array([\n",
    "    [0, 0, 1, 0, 0, 0, 0, 0, 0, 0], \n",
    "    [0, 0, 0, 0, 0, 0, 0, 0, 1, 0], \n",
    "    [0, 0, 1, 0, 0, 0, 0, 0, 0, 0]\n",
    "])\n",
    "print(t)\n",
    "print(t.shape)"
   ]
  },
  {
   "cell_type": "code",
   "execution_count": 23,
   "id": "ecef38e4-0d3e-46df-ad5c-ff139c41edb2",
   "metadata": {},
   "outputs": [
    {
     "name": "stdout",
     "output_type": "stream",
     "text": [
      "[[ -2.3   -3.    -0.51 -16.12  -3.    -2.3  -16.12  -2.3  -16.12 -16.12]\n",
      " [ -2.3   -2.3   -2.3   -2.3   -2.3   -2.3   -2.3   -2.3   -2.3   -2.3 ]\n",
      " [ -2.3   -3.    -2.3  -16.12  -3.    -2.3  -16.12  -0.51 -16.12 -16.12]]\n"
     ]
    }
   ],
   "source": [
    "# 微小な値を設定\n",
    "delta = 1e-7\n",
    "\n",
    "# 出力の対数をとる\n",
    "log_y = np.log(y + delta)\n",
    "print(np.round(log_y, 2))\n",
    "# log y(n,k) の計算を行うことで、全ての要素が0以下の値になりました。"
   ]
  },
  {
   "cell_type": "code",
   "execution_count": 24,
   "id": "47273548-c0b2-47c6-a37d-d882b66c37c8",
   "metadata": {},
   "outputs": [
    {
     "name": "stdout",
     "output_type": "stream",
     "text": [
      "[[-0.   -0.   -0.51 -0.   -0.   -0.   -0.   -0.   -0.   -0.  ]\n",
      " [-0.   -0.   -0.   -0.   -0.   -0.   -0.   -0.   -2.3  -0.  ]\n",
      " [-0.   -0.   -2.3  -0.   -0.   -0.   -0.   -0.   -0.   -0.  ]]\n"
     ]
    }
   ],
   "source": [
    "# 教師データと出力の対数の積を計算\n",
    "tmp = t * log_y\n",
    "print(np.round(tmp, 2))\n",
    "# t(n,k) * log y(n,k) の計算を行うことで正解ラベルの値だけ残る"
   ]
  },
  {
   "cell_type": "code",
   "execution_count": 25,
   "id": "0957ab4a-b56e-406e-ab52-657b8e0157a2",
   "metadata": {},
   "outputs": [
    {
     "name": "stdout",
     "output_type": "stream",
     "text": [
      "-5.11599364308843\n"
     ]
    }
   ],
   "source": [
    "# 教師データと出力の対数の積の和を計算\n",
    "tmp = np.sum(t * np.log(y + delta))\n",
    "print(tmp)"
   ]
  },
  {
   "cell_type": "code",
   "execution_count": 26,
   "id": "7dc38694-bded-4bcb-9b3b-ae50bf76d357",
   "metadata": {},
   "outputs": [
    {
     "name": "stdout",
     "output_type": "stream",
     "text": [
      "batch_size= 3\n",
      "Cross Entropy Error= 1.70533121436281\n"
     ]
    }
   ],
   "source": [
    "# バッチサイズを取得\n",
    "batch_size = y.shape[0]\n",
    "print('batch_size=', batch_size)\n",
    "\n",
    "# 交差エントロピー誤差を計算:式(4.3)\n",
    "E = - np.sum(t * np.log(y + delta)) / batch_size\n",
    "print('Cross Entropy Error=', E)"
   ]
  },
  {
   "cell_type": "markdown",
   "id": "733c7b75-21ef-46bb-af7b-f0173fad1554",
   "metadata": {},
   "source": [
    "### 教師データがスカラーの場合"
   ]
  },
  {
   "cell_type": "code",
   "execution_count": 27,
   "id": "78faadd9-dafb-4a94-bfb0-d3a6c4ba7fb1",
   "metadata": {},
   "outputs": [
    {
     "name": "stdout",
     "output_type": "stream",
     "text": [
      "[[ 0  1  2  3  4  5  6  7  8  9]\n",
      " [10 11 12 13 14 15 16 17 18 19]\n",
      " [20 21 22 23 24 25 26 27 28 29]\n",
      " [30 31 32 33 34 35 36 37 38 39]\n",
      " [40 41 42 43 44 45 46 47 48 49]]\n",
      "(5, 10)\n"
     ]
    }
   ],
   "source": [
    "A = np.arange(50).reshape(5, 10)  # np.arange()は指定個数の配列を作成\n",
    "print(A)\n",
    "print(A.shape)"
   ]
  },
  {
   "cell_type": "code",
   "execution_count": 28,
   "id": "9e4ab512-f8bf-4cf5-87ff-c3835e645495",
   "metadata": {},
   "outputs": [
    {
     "name": "stdout",
     "output_type": "stream",
     "text": [
      "[20 21 22 23 24 25 26 27 28 29]\n",
      "[ 3 13 23 33 43]\n",
      "23\n"
     ]
    }
   ],
   "source": [
    "# 行を抽出\n",
    "print(A[2, :])\n",
    "\n",
    "# 列を抽出\n",
    "print(A[:, 3])\n",
    "\n",
    "# 要素を抽出\n",
    "print(A[2, 3])"
   ]
  },
  {
   "cell_type": "code",
   "execution_count": 29,
   "id": "da9f8d90-317e-49c7-9823-3ba1431281e4",
   "metadata": {},
   "outputs": [
    {
     "name": "stdout",
     "output_type": "stream",
     "text": [
      "[24 18 42 35 20]\n"
     ]
    }
   ],
   "source": [
    "# 抽出する行番号を指定\n",
    "row_idx = np.array([2, 1, 4, 3, 2])\n",
    "\n",
    "# 抽出する列番号を指定\n",
    "col_idx = np.array([4, 8, 2, 5, 0])\n",
    "\n",
    "# 要素を抽出\n",
    "print(A[row_idx, col_idx])"
   ]
  },
  {
   "cell_type": "code",
   "execution_count": 30,
   "id": "45e3f5a1-1c56-405e-bdb9-5227a5265aa4",
   "metadata": {},
   "outputs": [
    {
     "data": {
      "text/plain": [
       "array([[0.1 , 0.05, 0.6 , 0.  , 0.05, 0.1 , 0.  , 0.1 , 0.  , 0.  ],\n",
       "       [0.1 , 0.1 , 0.1 , 0.1 , 0.1 , 0.1 , 0.1 , 0.1 , 0.1 , 0.1 ],\n",
       "       [0.1 , 0.05, 0.1 , 0.  , 0.05, 0.1 , 0.  , 0.6 , 0.  , 0.  ]])"
      ]
     },
     "execution_count": 30,
     "metadata": {},
     "output_type": "execute_result"
    }
   ],
   "source": [
    "y"
   ]
  },
  {
   "cell_type": "code",
   "execution_count": 31,
   "id": "d473fc3d-0574-4ab5-9ee9-5423e5f0c32d",
   "metadata": {},
   "outputs": [
    {
     "data": {
      "text/plain": [
       "array([[0, 0, 1, 0, 0, 0, 0, 0, 0, 0],\n",
       "       [0, 0, 0, 0, 0, 0, 0, 0, 1, 0],\n",
       "       [0, 0, 1, 0, 0, 0, 0, 0, 0, 0]])"
      ]
     },
     "execution_count": 31,
     "metadata": {},
     "output_type": "execute_result"
    }
   ],
   "source": [
    "t"
   ]
  },
  {
   "cell_type": "code",
   "execution_count": 32,
   "id": "e2f09f21-a584-451a-8f5d-578c0894ed59",
   "metadata": {},
   "outputs": [
    {
     "name": "stdout",
     "output_type": "stream",
     "text": [
      "[2 8 2]\n"
     ]
    }
   ],
   "source": [
    "# 各データの正解ラベルを抽出\n",
    "t = np.argmax(t, axis=1)\n",
    "print(t)\n",
    "#t = np.array([\n",
    "#    [0, 0, 1, 0, 0, 0, 0, 0, 0, 0], \n",
    "#    [0, 0, 0, 0, 0, 0, 0, 0, 1, 0], \n",
    "#    [0, 0, 1, 0, 0, 0, 0, 0, 0, 0]\n",
    "#])"
   ]
  },
  {
   "cell_type": "code",
   "execution_count": 33,
   "id": "712e00e3-d744-41f2-8f07-da811787a927",
   "metadata": {},
   "outputs": [
    {
     "name": "stdout",
     "output_type": "stream",
     "text": [
      "[0.6 0.1 0.1]\n"
     ]
    }
   ],
   "source": [
    "# バッチサイズを抽出\n",
    "batch_size = y.shape[0]\n",
    "\n",
    "# 出力から各データの正解ラベルに関する要素を抽出\n",
    "print(y[np.arange(batch_size), t])"
   ]
  },
  {
   "cell_type": "code",
   "execution_count": 34,
   "id": "8ac35eee-eff1-4302-b449-95000ff06ddd",
   "metadata": {},
   "outputs": [
    {
     "name": "stdout",
     "output_type": "stream",
     "text": [
      "[0.51082546 2.30258409 2.30258409]\n"
     ]
    }
   ],
   "source": [
    "# 各データの交差エントロピー誤差を計算\n",
    "E_n = - np.log(y[np.arange(batch_size), t] + delta)\n",
    "print(E_n)"
   ]
  },
  {
   "cell_type": "code",
   "execution_count": 35,
   "id": "9dba28f6-f357-495f-b2f1-91fe8dabf782",
   "metadata": {},
   "outputs": [
    {
     "name": "stdout",
     "output_type": "stream",
     "text": [
      "1.70533121436281\n"
     ]
    }
   ],
   "source": [
    "# 交差エントロピー誤差を計算:式(4.2)\n",
    "E = - np.sum(np.log(y[np.arange(batch_size), t] + delta)) / batch_size\n",
    "print(E)"
   ]
  },
  {
   "cell_type": "code",
   "execution_count": null,
   "id": "b3ad7717-98f7-44a1-938b-d23ea889a00a",
   "metadata": {},
   "outputs": [],
   "source": []
  }
 ],
 "metadata": {
  "kernelspec": {
   "display_name": "Python 3 (ipykernel)",
   "language": "python",
   "name": "python3"
  },
  "language_info": {
   "codemirror_mode": {
    "name": "ipython",
    "version": 3
   },
   "file_extension": ".py",
   "mimetype": "text/x-python",
   "name": "python",
   "nbconvert_exporter": "python",
   "pygments_lexer": "ipython3",
   "version": "3.9.6"
  }
 },
 "nbformat": 4,
 "nbformat_minor": 5
}
