{
 "cells": [
  {
   "cell_type": "markdown",
   "metadata": {},
   "source": [
    "# シグモイド関数とロジット変換"
   ]
  },
  {
   "cell_type": "markdown",
   "metadata": {},
   "source": [
    "本稿ではシグモイド関数が確率を表す理由をまとめる。<br>\n",
    "順を追って説明するためにまずは問題設定から始める。"
   ]
  },
  {
   "cell_type": "markdown",
   "metadata": {},
   "source": [
    "## 設定"
   ]
  },
  {
   "cell_type": "markdown",
   "metadata": {},
   "source": [
    "いま、我々は\n",
    "\n",
    "**★ 回帰モデルを使って確率を予測したい**\n",
    "\n",
    "としましょう。すなわち、回帰式\n",
    "$$ y= f(\\bm{x})=a_0 + a_1 * x_1 + a_2 * x_2 + \\dots + a_n * x_n$$\n",
    "を用いて確率$y$を予測する問題を考えます。"
   ]
  },
  {
   "cell_type": "markdown",
   "metadata": {},
   "source": [
    "### 例）\n",
    "身長から「男性である確率」を予測する。<br>\n",
    "すなわち、$y$を男性である確率とするとき\n",
    "$$ y= w_1 * (身長) + w_2 $$\n",
    "と表せるような問題を考えているとします。"
   ]
  },
  {
   "cell_type": "markdown",
   "metadata": {},
   "source": [
    "サンプルコードで表現すると以下のような問題です："
   ]
  },
  {
   "cell_type": "code",
   "execution_count": 1,
   "metadata": {},
   "outputs": [
    {
     "data": {
      "image/png": "[encoded data removed]",
      "text/plain": [
       "<Figure size 432x288 with 1 Axes>"
      ]
     },
     "metadata": {
      "needs_background": "light"
     },
     "output_type": "display_data"
    },
    {
     "name": "stdout",
     "output_type": "stream",
     "text": [
      "モデル関数の回帰変数 w1: 0.049\n",
      "モデル関数の切片 w2: -7.339\n",
      "y= 0.049x + -7.339\n",
      "決定係数 R^2：  0.5271981281527324\n"
     ]
    }
   ],
   "source": [
    "import pandas as pd\n",
    "import numpy as np\n",
    "from sklearn.linear_model import LinearRegression\n",
    "import matplotlib.pyplot as plt\n",
    "\n",
    "\n",
    "# 男性のダミーデータ\n",
    "arry_height_m = np.random.normal(loc=165.0, scale=5.0, size=100)  # N(165, 5^2)から100個生成\n",
    "arry_gender_m = np.ones(len(arry_height_m))\n",
    "\n",
    "# 女性のダミーデータ\n",
    "arry_height_f = np.random.normal(loc=155.0, scale=5.0, size=100)  # N(155, 5^2)から100個生成\n",
    "arry_gender_f = np.zeros(len(arry_height_f))\n",
    "\n",
    "# データフレーム作成\n",
    "df_m = pd.DataFrame({ 'height' : arry_height_m\n",
    "                    , 'gender' : arry_gender_m})\n",
    "df_f = pd.DataFrame({ 'height' : arry_height_f\n",
    "                    , 'gender' : arry_gender_f})\n",
    "df = pd.concat([df_m, df_f])\n",
    "\n",
    "# 線形回帰モデル作成\n",
    "x = df[['height']]\n",
    "y = df[['gender']]\n",
    "model = LinearRegression()\n",
    "model.fit(x, y)\n",
    "\n",
    "# 可視化\n",
    "plt.plot(x, y, 'o')  # 正解ラベル\n",
    "plt.plot(x, model.predict(x), 'o')  # 予測値\n",
    "plt.show()\n",
    "\n",
    "print('モデル関数の回帰変数 w1: %.3f' %model.coef_)\n",
    "print('モデル関数の切片 w2: %.3f' %model.intercept_)\n",
    "print('y= %.3fx + %.3f' % (model.coef_ , model.intercept_))\n",
    "print('決定係数 R^2： ', model.score(x, y))\n"
   ]
  },
  {
   "cell_type": "markdown",
   "metadata": {},
   "source": [
    "## 回帰モデルで確率を扱う際の問題点"
   ]
  },
  {
   "cell_type": "markdown",
   "metadata": {},
   "source": [
    "回帰式の特性上、（外れ値が入力されると）マイナス値や1を超えた値を取る可能性があります。<br>\n",
    "上記の例では、日本人で学習を行うことを想定して回帰モデルを作成しました。\n",
    "このモデルに対して身長が200cm越えるようなNBA選手が入力値として与えられた場合出力値は1を超えるでしょう。<br>\n",
    "\n",
    "本来、回帰式は実数値全体を取りうるような問題と相性が良い手法です。<br>\n",
    "そこで確率$y$に適切な変換を施して実数値全体をとるようにすれば良さそうです。そこで登場するのが***ロジット変換***です。"
   ]
  },
  {
   "cell_type": "markdown",
   "metadata": {},
   "source": [
    "## ロジット変換"
   ]
  },
  {
   "cell_type": "markdown",
   "metadata": {},
   "source": [
    "ロジット変換とは定義式\n",
    "$$Z = {\\bf{log}} \\dfrac{p}{1-p}$$\n",
    "で表される変換です。<br>\n",
    "[0,1]（確率を想定）を実数値全体への変換を行うことが出来ます。<br>\n",
    "グラフも確認してみましょう。[0,1]（横軸）から実数値全体（縦軸）に変換されていることが分かります。"
   ]
  },
  {
   "cell_type": "code",
   "execution_count": 2,
   "metadata": {},
   "outputs": [
    {
     "name": "stderr",
     "output_type": "stream",
     "text": [
      "C:\\Users\\kuruz\\anaconda3\\lib\\site-packages\\ipykernel_launcher.py:6: RuntimeWarning: invalid value encountered in log\n",
      "  \n"
     ]
    },
    {
     "data": {
      "image/png": "[encoded data removed]",
      "text/plain": [
       "<Figure size 432x288 with 1 Axes>"
      ]
     },
     "metadata": {
      "needs_background": "light"
     },
     "output_type": "display_data"
    }
   ],
   "source": [
    "import numpy as np\n",
    "import matplotlib.pylab as plt\n",
    "\n",
    "\n",
    "def logit(x):\n",
    "    return np.log((x/(1-x)))\n",
    "\n",
    "logit_x = np.arange(-1.0, 2.0, 0.0001)\n",
    "logit_y = logit(logit_x)\n",
    "plt.plot(logit_x, logit_y)\n",
    "plt.ylim(-8.0,8.0)\n",
    "plt.show()\n"
   ]
  },
  {
   "cell_type": "markdown",
   "metadata": {},
   "source": [
    "この**ロジット変換後の値を回帰モデルで予測する**ことにすれば、回帰モデルの特性を活かすことが出来ます。<br>\n",
    "つまり問題設定を以下のように修正します。\n",
    "\n",
    "### 設定（ロジット変換版）<br>\n",
    "回帰式を使って**確率をロジット変換した後の値**を予測する。式で表すと以下である：\n",
    "$$ {\\bf{log}}  \\frac{y}{1-y} = f(\\bm{x}) $$\n"
   ]
  },
  {
   "cell_type": "markdown",
   "metadata": {},
   "source": [
    "ここで今一度本来の目的を思い出しましょう。\n",
    "\n",
    "最終的に知りたいのは確率 $y$ の値です。<br>\n",
    "ですからロジット変換の逆変換を行って式を$y=...$ の形に整理しましょう。\n",
    "$$ {\\bf{log}}  \\frac{y}{1-y} = f(\\bm{x}) $$\n",
    "$$ \\frac{y}{1-y} = e^{f(\\bm{x})} $$\n",
    "$$ \\frac{1}{\\frac{1}{y}-1} = e^{f(\\bm{x})} $$\n",
    "$$ \\frac{1}{y}-1 = e^{-f(\\bm{x})} $$\n",
    "$$ \\frac{1}{y} = 1 + e^{-f(\\bm{x})} $$\n",
    "$$ y = \\frac{1}{1 + e^{-f(\\bm{x})}} $$"
   ]
  },
  {
   "cell_type": "markdown",
   "metadata": {},
   "source": [
    "最後の式を **ロジスティック関数（またはロジット関数）** といいます。<br>\n",
    "また$ f(\\bm{x}) = x $ すなわち $ y = \\frac{1}{1 + e^{-x}} $をとくに **シグモイド関数（または標準ロジスティック関数）** といいます。"
   ]
  },
  {
   "cell_type": "markdown",
   "metadata": {},
   "source": [
    "$y$は元々確率を表す変数なのでロジスティック関数（もちろんシグモイド関数も）確率を表す関数と言えるわけです。<br>\n",
    "また、ソフトマックス関数はシグモイド関数を多クラスに拡張しただけなので、こちらも確率を表す関数になります。"
   ]
  },
  {
   "cell_type": "markdown",
   "metadata": {},
   "source": [
    "## 勉強会での問いに対する答え"
   ]
  },
  {
   "cell_type": "markdown",
   "metadata": {},
   "source": [
    "「なぜ確率を出力する関数としてシグモイド関数をつかうのか？」ですが、<br>\n",
    "**連続値を確率に変換する関数であるシグモイド関数を使うのが自然** という理由なのかなと思います。"
   ]
  },
  {
   "cell_type": "markdown",
   "metadata": {},
   "source": [
    "## おまけ\n",
    "\n",
    "冒頭の線形回帰モデルをロジスティック回帰モデルに変えた場合"
   ]
  },
  {
   "cell_type": "code",
   "execution_count": 8,
   "metadata": {},
   "outputs": [
    {
     "name": "stderr",
     "output_type": "stream",
     "text": [
      "C:\\Users\\kuruz\\anaconda3\\lib\\site-packages\\sklearn\\utils\\validation.py:72: DataConversionWarning: A column-vector y was passed when a 1d array was expected. Please change the shape of y to (n_samples, ), for example using ravel().\n",
      "  return f(**kwargs)\n"
     ]
    },
    {
     "data": {
      "image/png": "[encoded data removed]",
      "text/plain": [
       "<Figure size 432x288 with 1 Axes>"
      ]
     },
     "metadata": {
      "needs_background": "light"
     },
     "output_type": "display_data"
    },
    {
     "name": "stdout",
     "output_type": "stream",
     "text": [
      "モデル関数の回帰変数 w1: 0.408\n",
      "モデル関数の切片 w2: -65.452\n",
      "y= 1 / (1 + exp**-(0.408x+-65.452))\n",
      "決定係数 R^2：  0.84\n"
     ]
    }
   ],
   "source": [
    "from sklearn.linear_model import LogisticRegression\n",
    "import matplotlib.pyplot as plt\n",
    "\n",
    "########################################\n",
    "# 同じデータを使うためモデル作成まで省略 #\n",
    "########################################\n",
    "\n",
    "# ロジスティック回帰モデル作成\n",
    "model = LogisticRegression()\n",
    "model.fit(x, y)\n",
    "\n",
    "plt.plot(x, y, 'o')\n",
    "plt.plot(x, model.predict_proba(x)[:, 1], 'o')  # 2番目のラベルの確率(今回は1の確率)\n",
    "plt.show()\n",
    "\n",
    "print('モデル関数の回帰変数 w1: %.3f' %model.coef_)\n",
    "print('モデル関数の切片 w2: %.3f' %model.intercept_)\n",
    "print('y= 1 / (1 + exp**-(%.3fx+%.3f))' % (model.coef_ , model.intercept_))\n",
    "print('決定係数 R^2： ', model.score(x, y))\n"
   ]
  },
  {
   "cell_type": "markdown",
   "metadata": {},
   "source": [
    "ちなみにロジット変換は対数オッズともいう\n",
    "\n",
    "参考までにオッズのグラフは以下："
   ]
  },
  {
   "cell_type": "code",
   "execution_count": 4,
   "metadata": {},
   "outputs": [
    {
     "data": {
      "image/png": "[encoded data removed]",
      "text/plain": [
       "<Figure size 432x288 with 1 Axes>"
      ]
     },
     "metadata": {
      "needs_background": "light"
     },
     "output_type": "display_data"
    }
   ],
   "source": [
    "import numpy as np\n",
    "import matplotlib.pylab as plt\n",
    "\n",
    "\n",
    "def odds(x):\n",
    "    return (x/(1-x))\n",
    "\n",
    "odds_x = np.arange(-1.0, 2.0, 0.0001)\n",
    "odds_y = odds(odds_x)\n",
    "plt.plot(odds_x, odds_y)\n",
    "plt.ylim(-8.0,8.0)\n",
    "plt.show()\n"
   ]
  }
 ],
 "metadata": {
  "interpreter": {
   "hash": "17bd3a429686b74a901a4d9de95693c08cda164688043dd00d2aee3205f2120b"
  },
  "kernelspec": {
   "display_name": "Python 3.7.6 64-bit ('base': conda)",
   "language": "python",
   "name": "python3"
  },
  "language_info": {
   "codemirror_mode": {
    "name": "ipython",
    "version": 3
   },
   "file_extension": ".py",
   "mimetype": "text/x-python",
   "name": "python",
   "nbconvert_exporter": "python",
   "pygments_lexer": "ipython3",
   "version": "3.7.6"
  },
  "orig_nbformat": 4
 },
 "nbformat": 4,
 "nbformat_minor": 2
}
