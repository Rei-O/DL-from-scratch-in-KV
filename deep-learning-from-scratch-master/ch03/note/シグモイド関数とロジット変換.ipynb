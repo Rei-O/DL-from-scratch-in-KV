{
 "cells": [
  {
   "cell_type": "markdown",
   "metadata": {},
   "source": [
    "# シグモイド関数とロジット変換"
   ]
  },
  {
   "cell_type": "markdown",
   "metadata": {},
   "source": [
    "本稿ではシグモイド関数が確率を表す理由をまとめる。<br>\n",
    "順を追って説明するためにまずは問題設定から始める。"
   ]
  },
  {
   "cell_type": "markdown",
   "metadata": {},
   "source": [
    "## 設定"
   ]
  },
  {
   "cell_type": "markdown",
   "metadata": {},
   "source": [
    "いま、我々は\n",
    "\n",
    "★回帰モデルを使って確率を予測したい\n",
    "\n",
    "としましょう。すなわち、回帰式\n",
    "$$ y= f(\\bm{x})=a_0 + a_1 * x_1 + a_2 * x_2 + \\dots + a_n * x_n$$\n",
    "を用いて確率$y$を予測する問題を考えます。"
   ]
  },
  {
   "cell_type": "markdown",
   "metadata": {},
   "source": [
    "### 例）\n",
    "身長と体重から「男性である確率」を予測する。<br>\n",
    "すなわち、$y$を男性である確率とするとき\n",
    "$$ y= a_0 + a_1 * (身長) + a_2 * (体重)$$\n",
    "と表せるような問題を考えているとします。"
   ]
  },
  {
   "cell_type": "markdown",
   "metadata": {},
   "source": [
    "## 回帰モデルで確率を扱う際の問題点"
   ]
  },
  {
   "cell_type": "markdown",
   "metadata": {},
   "source": [
    "回帰式の特性上、（外れ値が入力されると）マイナス値や1を超えた値を取る可能性があります。<br>\n",
    "上記の例では、日本人で学習を行った回帰モデルに対して身長200cm越え, 体重100Kg近くというNBA選手が入力値として与えられた場合、おそらく出力値は1を超えるでしょう。<br>\n",
    "\n",
    "本来、回帰式は実数値全体を取りうるような問題と相性が良い手法です。<br>\n",
    "そこで確率$y$に適切な変換を施して実数値全体をとるようにすれば良さそうです。そこで登場するのが***ロジット変換***です。"
   ]
  },
  {
   "cell_type": "markdown",
   "metadata": {},
   "source": [
    "## ロジット変換"
   ]
  },
  {
   "cell_type": "markdown",
   "metadata": {},
   "source": [
    "ロジット変換とは確率([0,1])から実数値全体への変換で定義式は\n",
    "$$Z = {\\bf{log}}\\dfrac{p}{1-p}$$\n",
    "です。<br>\n",
    "グラフも確認してみましょう。確率(横軸、[0,1]の範囲)から実数値全体（縦軸）に変換されていることが分かります。"
   ]
  },
  {
   "cell_type": "code",
   "execution_count": 9,
   "metadata": {},
   "outputs": [
    {
     "name": "stderr",
     "output_type": "stream",
     "text": [
      "C:\\Users\\kuruz\\anaconda3\\lib\\site-packages\\ipykernel_launcher.py:7: RuntimeWarning: invalid value encountered in log\n",
      "  import sys\n"
     ]
    },
    {
     "data": {
      "image/png": "[encoded data removed]",
      "text/plain": [
       "<Figure size 432x288 with 1 Axes>"
      ]
     },
     "metadata": {
      "needs_background": "light"
     },
     "output_type": "display_data"
    }
   ],
   "source": [
    "# coding: utf-8\n",
    "import numpy as np\n",
    "import matplotlib.pylab as plt\n",
    "\n",
    "\n",
    "def logit(x):\n",
    "    return np.log((x/(1-x)))\n",
    "\n",
    "x = np.arange(-1.0, 2.0, 0.0001)\n",
    "y = logit(x)\n",
    "plt.plot(x, y)\n",
    "plt.ylim(-8.0,8.0)\n",
    "plt.show()\n"
   ]
  },
  {
   "cell_type": "markdown",
   "metadata": {},
   "source": [
    "この**ロジット変換後の値を回帰モデルで予測する**ことにすれば、回帰モデルを活かすことが出来ます。<br>\n",
    "つまり問題設定を以下のように修正します。\n",
    "\n",
    "### 設定（ロジット変換版）<br>\n",
    "回帰式を使って**ロジット変換後の値**を予測する。式で表すと以下である：\n",
    "$$ {\\bf{log}}  \\frac{y}{1-y} = f(\\bm{x}) $$\n"
   ]
  },
  {
   "cell_type": "markdown",
   "metadata": {},
   "source": [
    "今一度本来の目的を思い出しましょう。\n",
    "\n",
    "我々が最終的に得たいのは確率 $y$ の値です。<br>\n",
    "ですからロジット変換の逆変換を行って式を$y=...$ の形に整理しましょう。\n",
    "$$ {\\bf{log}}  \\frac{y}{1-y} = f(\\bm{x}) $$\n",
    "$$ \\frac{y}{1-y} = e^{f(\\bm{x})} $$\n",
    "$$ \\frac{1}{\\frac{1}{y}-1} = e^{f(\\bm{x})} $$\n",
    "$$ \\frac{1}{y}-1 = e^{-f(\\bm{x})} $$\n",
    "$$ \\frac{1}{y} = 1 + e^{-f(\\bm{x})} $$\n",
    "$$ y = \\frac{1}{1 + e^{-f(\\bm{x})}} $$"
   ]
  },
  {
   "cell_type": "markdown",
   "metadata": {},
   "source": [
    "最後の式を **ロジスティック関数（またはロジット関数）** といいます。<br>\n",
    "また$ f(\\bm{x}) = x $ すなわち $ y = \\frac{1}{1 + e^{-x}} $をとくに **シグモイド関数（または標準ロジスティック関数）** といいます。"
   ]
  },
  {
   "cell_type": "markdown",
   "metadata": {},
   "source": [
    "$y$は元々確率を表す変数なのでロジスティック関数（もちろんシグモイド関数も）確率を表す関数と言えるわけです。<br>\n",
    "また、ソフトマックス関数はシグモイド関数を多クラスに拡張しただけなので、こちらも確率を表す関数になります。"
   ]
  }
 ],
 "metadata": {
  "interpreter": {
   "hash": "17bd3a429686b74a901a4d9de95693c08cda164688043dd00d2aee3205f2120b"
  },
  "kernelspec": {
   "display_name": "Python 3.7.6 64-bit ('base': conda)",
   "language": "python",
   "name": "python3"
  },
  "language_info": {
   "codemirror_mode": {
    "name": "ipython",
    "version": 3
   },
   "file_extension": ".py",
   "mimetype": "text/x-python",
   "name": "python",
   "nbconvert_exporter": "python",
   "pygments_lexer": "ipython3",
   "version": "3.7.6"
  },
  "orig_nbformat": 4
 },
 "nbformat": 4,
 "nbformat_minor": 2
}
