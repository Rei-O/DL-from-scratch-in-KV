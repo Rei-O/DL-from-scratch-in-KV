{
 "cells": [
  {
   "cell_type": "markdown",
   "metadata": {},
   "source": [
    "# 第3章 ニューラルネットワーク"
   ]
  },
  {
   "cell_type": "markdown",
   "metadata": {},
   "source": [
    "## サマリー\n",
    "\n",
    "* パーセプトロンでは入力信号の線形関数に活性化関数で変換して出力結果を出す。\n",
    "* 単純パーセプトロンの活性化関数は専らステップ関数\n",
    "* 多層パーセプトロンの活性化関数はシグモイド関数かReLU関数\n"
   ]
  },
  {
   "cell_type": "markdown",
   "metadata": {},
   "source": [
    "## ニューラルネットワークを実装しよう"
   ]
  },
  {
   "cell_type": "markdown",
   "metadata": {},
   "source": [
    "### 第1層（活性化関数なし）\n",
    "![第1層（活性化関数なし）](multilayer_perceptron_l0tol1_noActFnc.png)"
   ]
  },
  {
   "cell_type": "code",
   "execution_count": null,
   "metadata": {},
   "outputs": [],
   "source": [
    "import numpy as np\n",
    "\n",
    "#==========第1層==========\n",
    "# 入力データ\n",
    "X = np.array([0.5, 0.2])\n",
    "\n",
    "# 重み\n",
    "W1 = np.array([[0.2, 0.1, 0.5],[0.4, 0.2, 0.6]])\n",
    "\n",
    "# バイアス\n",
    "B1 = np.array([0.2, 0.4, 0])\n",
    "\n",
    "\n",
    "# 出力結果\n",
    "A1 = np.dot(X, W1) + B1\n",
    "print(f\"A1 : {A1}\")"
   ]
  },
  {
   "cell_type": "markdown",
   "metadata": {},
   "source": [
    "### 第1層\n",
    "![第1層](multilayer_perceptron_l0tol1.png)"
   ]
  },
  {
   "cell_type": "code",
   "execution_count": null,
   "metadata": {},
   "outputs": [],
   "source": [
    "#====活性化関数：シグモイド関数==== \n",
    "def sigmoid(x):\n",
    "    return 1 / (1 + np.exp(-x))\n",
    "\n",
    "# 出力結果\n",
    "Z1 = sigmoid(A1)\n",
    "print(f\"Z1 : {Z1}\")"
   ]
  },
  {
   "cell_type": "markdown",
   "metadata": {},
   "source": [
    "### 第2層\n",
    "![第2層](multilayer_perceptron_l1tol2.png)"
   ]
  },
  {
   "cell_type": "code",
   "execution_count": null,
   "metadata": {},
   "outputs": [],
   "source": [
    "#==========第2層===========\n",
    "# 重み\n",
    "W2 = np.array([[0.3, 0.2], [0.2, 0.7], [1.0, 0.6]])\n",
    "\n",
    "# バイアス\n",
    "B2 = np.array([1.0, 0.2])\n",
    "\n",
    "\n",
    "# 出力結果\n",
    "A2 = np.dot(Z1, W2) + B2\n",
    "print(f\"A2 : {A2}\")\n",
    "\n",
    "Z2 = sigmoid(A2)\n",
    "print(f\"Z2 : {Z2}\")"
   ]
  },
  {
   "cell_type": "markdown",
   "metadata": {},
   "source": [
    "### 出力層\n",
    "![出力層](multilayer_perceptron_l2tol3.png)"
   ]
  },
  {
   "cell_type": "code",
   "execution_count": null,
   "metadata": {},
   "outputs": [],
   "source": [
    "#==========出力層==========\n",
    "# 重み\n",
    "W3 = np.array([[0.5, 0], [0.1, 0.7]])\n",
    "\n",
    "# バイアス\n",
    "B3 = np.array([1.0, 0.2])\n",
    "\n",
    "\n",
    "# 出力結果\n",
    "A3 = np.dot(Z2, W3) + B3\n",
    "print(f\"A3 : {A3}\")\n",
    "\n",
    "y = sigmoid(A3)\n",
    "print(f\"y : {y}\")"
   ]
  },
  {
   "cell_type": "markdown",
   "metadata": {},
   "source": [
    "## 出力層の設計\n",
    "\n",
    "* 分類問題⇒ソフトマックス関数\n",
    "* 回帰問題⇒恒等関数"
   ]
  },
  {
   "cell_type": "markdown",
   "metadata": {},
   "source": [
    "### ソフトマックス関数\n"
   ]
  },
  {
   "cell_type": "markdown",
   "metadata": {},
   "source": [
    "■定義<br>\n",
    "![ソフトマックス関数](soft_max_fnc.png)<br>\n",
    "* 滑らかな（＝ソフトな）曲線となり、1つの出力値が最大となるため、「ソフトマックス関数」と呼ばれるらしい。\n",
    "* n=2のときシグモイド関数になる\n",
    "* C^∞級関数\n",
    "* 0~1なので出力結果を確率っぽく扱える（Aが70%、Bが25%みたいな説明が出来る）（※本当に確率の定義を満たしているのかは要確認）\n",
    "* 0~1かつ単調増加なので、__元の出力値の大小関係を保存しつつ正規化が可能__（元の出力値が負になる場合も考慮すると単純に出力値を足し合わせたり、絶対値を足したりすることが出来ないことが分かる）\n",
    "* 指数関数の計算はコンピュータにとってそれなりに負担なため、学習時には使用せず予測時に使用する"
   ]
  },
  {
   "cell_type": "markdown",
   "metadata": {},
   "source": [
    "#### ソフトマックス関数におけるオーバーフローの考慮\n",
    "\n",
    "* 指数関数を使用するので容易にオーバーフローが起こる\n",
    "* 大きな数同士での掛け算、割り算は計算が不安定になるので極力避ける\n",
    "* 指数部を同じ数で足し引きしてもソフトマックス関数の出力値は変わらないため、オーバーフロー防止として入力の最大値で入力値を引く"
   ]
  },
  {
   "cell_type": "code",
   "execution_count": null,
   "metadata": {},
   "outputs": [],
   "source": [
    "import numpy as np\n",
    "\n",
    "# ソフトマックス関数\n",
    "def softmax(X):\n",
    "    exp_X = np.exp(X)\n",
    "    sum_exp_X = np.sum(exp_X)\n",
    "    return exp_X / sum_exp_X\n",
    "\n",
    "y = softmax([1000, 1001, 1002])\n",
    "print(y)\n",
    "# > [nan nan nan]\n",
    "\n",
    "\n",
    "# ソフトマックス関数（オーバーフロー抑止）\n",
    "def softmax(X):\n",
    "    c = np.max(X)\n",
    "    exp_X = np.exp(X-c)\n",
    "    sum_exp_X = np.sum(exp_X)\n",
    "    return exp_X / sum_exp_X\n",
    "\n",
    "y = softmax([1000, 1001, 1002])\n",
    "print(y)\n",
    "# > [0.09003057 0.24472847 0.66524096]"
   ]
  },
  {
   "cell_type": "markdown",
   "metadata": {},
   "source": [
    "### 高速化とバッチ処理\n",
    "\n",
    "バッチ処理により同時に複数処理を行う方が高速になる。理由は以下：\n",
    "* nupmyには大きな配列の計算最適化の仕組みがある\n",
    "* データ読込のオーバーヘッドが短縮できる"
   ]
  },
  {
   "cell_type": "markdown",
   "metadata": {},
   "source": []
  }
 ],
 "metadata": {
  "interpreter": {
   "hash": "17bd3a429686b74a901a4d9de95693c08cda164688043dd00d2aee3205f2120b"
  },
  "kernelspec": {
   "display_name": "Python 3.7.6 64-bit ('base': conda)",
   "language": "python",
   "name": "python3"
  },
  "language_info": {
   "codemirror_mode": {
    "name": "ipython",
    "version": 3
   },
   "file_extension": ".py",
   "mimetype": "text/x-python",
   "name": "python",
   "nbconvert_exporter": "python",
   "pygments_lexer": "ipython3",
   "version": "3.7.6"
  },
  "orig_nbformat": 4
 },
 "nbformat": 4,
 "nbformat_minor": 2
}
