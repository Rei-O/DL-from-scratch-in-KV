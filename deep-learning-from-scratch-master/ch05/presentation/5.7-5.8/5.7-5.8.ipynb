{
 "cells": [
  {
   "cell_type": "markdown",
   "metadata": {},
   "source": [
    "# 鎌田担当会 5.7.1-5.8"
   ]
  },
  {
   "cell_type": "markdown",
   "metadata": {},
   "source": [
    "## 今回の概要"
   ]
  },
  {
   "cell_type": "markdown",
   "metadata": {},
   "source": [
    "5.7章では、これまで実装したレイアを組み合わせてニューラルネットワークを構築する。<br>\n",
    "\n",
    "ニューラルネットワークで行う処理を\"レイヤ\"単位で実装<br>\n",
    "　・ReLUレイヤ<br>\n",
    "　・Softmax-with-Lossレイヤ<br>\n",
    "　・Affineレイヤ<br>\n",
    "　・Softmaxレイヤ<br>\n",
    "\n",
    "上記レイヤには、forwardとbackwardというメソッドが実装されており、<br>\n",
    "データを順方向と逆方向に伝播することで、重みパラメータの勾配を効率的に求めることができる<br>\n",
    "\n",
    "上記レイヤを自由に組み合わせることで自分の好きなネットワークを簡単に作ることできる<br>"
   ]
  },
  {
   "cell_type": "markdown",
   "metadata": {},
   "source": [
    "<img src=\"algorithm.png\">"
   ]
  },
  {
   "cell_type": "markdown",
   "metadata": {},
   "source": [
    "## 5.7.2 誤差逆伝播法に対応したニューラルネットワークの実装"
   ]
  },
  {
   "cell_type": "markdown",
   "metadata": {},
   "source": [
    "import pprint\n",
    "import sys, os\n",
    "from pathlib import Path\n",
    "sys.path.append('..')\n",
    "pprint.pprint( sys.path )"
   ]
  },
  {
   "cell_type": "markdown",
   "metadata": {},
   "source": [
    "#os.path.exists('/Users/msykm/Desktop/deep-learning-from-scratch-master/common/presentation')\n",
    "os.path.exists('../../../common/presentation')"
   ]
  },
  {
   "cell_type": "code",
   "execution_count": 1,
   "metadata": {},
   "outputs": [],
   "source": [
    "import sys, os\n",
    "from pathlib import Path\n",
    "#sys.path.append(os.pardir)  # 親ディレクトリのファイルをインポートするための設定\n",
    "sys.path.append(\"../../../\")\n",
    "import numpy as np\n",
    "from common.presentation.layers import * \n",
    "from common.presentation.gradient import numerical_gradient\n",
    "from collections import OrderedDict"
   ]
  },
  {
   "cell_type": "code",
   "execution_count": 2,
   "metadata": {},
   "outputs": [],
   "source": [
    "class TwoLayerNet:\n",
    "    #-------------------------------------------------\n",
    "    # __init__:初期化を行う\n",
    "    #     @self\n",
    "    #     @input_size:入力層のニューロンの数\n",
    "    #     @hidden_size:隠れ層のニューロンの数\n",
    "    #     @output_size:出力層のニューロンの数\n",
    "    #     @weight_init_std:重み初期化時のガウス分布スケール\n",
    "    #-------------------------------------------------\n",
    "    def __init__(self, input_size, hidden_size, output_size, weight_init_std = 0.01):\n",
    "        # params:ニューラルネットのパラメータを保持する辞書型変数\n",
    "        # 重みの初期化\n",
    "        \n",
    "        self.params = {}\n",
    "        self.params['W1'] = weight_init_std * np.random.randn(input_size, hidden_size) # np.random.randnは平均0、標準偏差1の正規分布の乱数を生成する関数 初めにweight_init_std=0.01を掛けるのは大きすぎるから       \n",
    "        self.params['b1'] = np.zeros(hidden_size) # zeros要素がすべてゼロの配列を作成\n",
    "        self.params['W2'] = weight_init_std * np.random.randn(hidden_size, output_size) \n",
    "        self.params['b2'] = np.zeros(output_size)\n",
    "\n",
    "        self.layers = OrderedDict()       \n",
    "        self.layers['Affine1'] = Affine(self.params['W1'], self.params['b1'])\n",
    "        self.layers['Relu1'] = Relu()\n",
    "        self.layers['Affine2'] = Affine(self.params['W2'], self.params['b2'])\n",
    "        # layer:ニューラルネットワークのレイヤを保持する「順序付き」辞書型変数\n",
    "        # レイヤの生成:順序付きで保存しているのがポイント（Affine1→Relu1→Affine2の順）\n",
    "        #           これにより順伝播ではそのまま、逆伝播では逆からレイヤを呼び出すだけでOK\n",
    "        # 注意点:     要素をまとめて追加した場合は順序を記憶してくれない\n",
    "\n",
    "        self.lastLayer = SoftmaxWithLoss()\n",
    "        # ニューラルネットワークの最後のレイヤ:ここではSoftmaxWithLossレイヤ\n",
    "\n",
    "    #-------------------------------------------------\n",
    "    # predict:認識（推論）を行う\n",
    "    #     @self\n",
    "    #     @x:画像データ（入力データ）\n",
    "    #-------------------------------------------------\n",
    "    def predict(self, x):\n",
    "        for layer in self.layers.values():\n",
    "            x = layer.forward(x)\n",
    "\n",
    "        return x\n",
    "    \n",
    "    #-------------------------------------------------\n",
    "    # loss:損失関数を求める\n",
    "    #     @self\n",
    "    #     @x:画像データ（入力データ）\n",
    "    #     @t:教師データ\n",
    "    #-------------------------------------------------\n",
    "    def loss(self, x, t):\n",
    "        y = self.predict(x)\n",
    "        return self.lastLayer.forward(y, t)\n",
    "\n",
    "    #-------------------------------------------------\n",
    "    # accuracy:認識精度を求める\n",
    "    #     @self\n",
    "    #     @x:画像データ（入力データ）\n",
    "    #     @t:教師データ\n",
    "    #-------------------------------------------------\n",
    "    def accuracy(self, x, t):\n",
    "        y = self.predict(x)\n",
    "        y = np.argmax(y, axis=1) # argmaxで、数値が高いラベルのみを取り出す。\n",
    "        if t.ndim != 1 : t = np.argmax(t, axis=1) #.ndim 次元数 #!=でないとき⇒1次元でないとき # argmaxで、正解のラベルを取り出す。\n",
    "\n",
    "        accuracy = np.sum(y == t) / float(x.shape[0]) #y==tがTrueのものを１として合計して、それをデータの総数で割り算する。\n",
    "        return accuracy\n",
    "\n",
    "    #-------------------------------------------------\n",
    "    # numerical_gradient:重みパラメータに対する勾配を数値微分によって求める（〜４章までと同様）\n",
    "    #     @self\n",
    "    #     @x:画像データ（入力データ）\n",
    "    #     @t:教師データ\n",
    "    #-------------------------------------------------\n",
    "    def numerical_gradient(self, x, t):\n",
    "        loss_W = lambda W: self.loss(x, t)\n",
    "\n",
    "        grads = {}\n",
    "        grads['W1'] = numerical_gradient(loss_W, self.params['W1'])\n",
    "        grads['b1'] = numerical_gradient(loss_W, self.params['b1'])\n",
    "        grads['W2'] = numerical_gradient(loss_W, self.params['W2'])\n",
    "        grads['b2'] = numerical_gradient(loss_W, self.params['b2'])\n",
    "\n",
    "        return grads\n",
    "\n",
    "    #-------------------------------------------------\n",
    "    # gradient:重みパラメータに対する勾配を誤差逆伝播法によって求める\n",
    "    #     @self\n",
    "    #     @x:画像データ（入力データ）\n",
    "    #     @t:教師データ\n",
    "    #-------------------------------------------------\n",
    "    def gradient(self, x, t):\n",
    "\n",
    "        # ポイント:実際にレイヤとして実装した伝播を動かしている\n",
    "\n",
    "        # forward:順伝播\n",
    "        self.loss(x, t)\n",
    "\n",
    "        # backward:逆伝播\n",
    "        dout = 1\n",
    "        dout = self.lastLayer.backward(dout)\n",
    "\n",
    "        layers = list(self.layers.values())\n",
    "        layers.reverse()\n",
    "        for layer in layers:\n",
    "            dout = layer.backward(dout)\n",
    "\n",
    "        # 設定\n",
    "        grads = {}\n",
    "        grads['W1'], grads['b1'] = self.layers['Affine1'].dW, self.layers['Affine1'].db\n",
    "        grads['W2'], grads['b2'] = self.layers['Affine2'].dW, self.layers['Affine2'].db\n",
    "\n",
    "        return grads"
   ]
  },
  {
   "cell_type": "markdown",
   "metadata": {},
   "source": [
    "## 5.7.3 誤差逆伝播法の勾配確認"
   ]
  },
  {
   "cell_type": "code",
   "execution_count": 3,
   "metadata": {},
   "outputs": [
    {
     "name": "stdout",
     "output_type": "stream",
     "text": [
      "W1:3.3140429927367865e-10\n",
      "b1:1.9699997220095973e-09\n",
      "W2:4.362229325689349e-09\n",
      "b2:1.4006894387130763e-07\n"
     ]
    }
   ],
   "source": [
    "import sys, os\n",
    "#sys.path.append(os.pardir)  # 親ディレクトリのファイルをインポートするための設定\n",
    "sys.path.append(\"../../../\")\n",
    "import numpy as np\n",
    "from dataset.presentation.mnist import load_mnist\n",
    "from two_layer_net import TwoLayerNet\n",
    "\n",
    "# データの読み込み\n",
    "(x_train, t_train), (x_test, t_test) = load_mnist(normalize=True, one_hot_label=True)\n",
    "\n",
    "network = TwoLayerNet(input_size=784, hidden_size=50, output_size=10)\n",
    "\n",
    "x_batch = x_train[:3]\n",
    "t_batch = t_train[:3]\n",
    "\n",
    "grad_numerical = network.numerical_gradient(x_batch, t_batch)\n",
    "grad_backprop = network.gradient(x_batch, t_batch)\n",
    "\n",
    "for key in grad_numerical.keys():\n",
    "    diff = np.average( np.abs(grad_backprop[key] - grad_numerical[key]) )\n",
    "    print(key + \":\" + str(diff))"
   ]
  },
  {
   "cell_type": "markdown",
   "metadata": {},
   "source": [
    "## 5.7.4 誤差逆伝播法を使った学習"
   ]
  },
  {
   "cell_type": "code",
   "execution_count": 5,
   "metadata": {},
   "outputs": [
    {
     "name": "stdout",
     "output_type": "stream",
     "text": [
      "train acc, test acc | 0.06941666666666667, 0.0681\n",
      "train acc, test acc | 0.9007833333333334, 0.9043\n",
      "train acc, test acc | 0.9212666666666667, 0.9236\n",
      "train acc, test acc | 0.9343, 0.9322\n",
      "train acc, test acc | 0.9462333333333334, 0.9449\n",
      "train acc, test acc | 0.9497, 0.9476\n",
      "train acc, test acc | 0.9571666666666667, 0.9536\n",
      "train acc, test acc | 0.9612166666666667, 0.9566\n",
      "train acc, test acc | 0.96455, 0.959\n",
      "train acc, test acc | 0.9669, 0.963\n",
      "train acc, test acc | 0.9694666666666667, 0.9643\n",
      "train acc, test acc | 0.9717166666666667, 0.9677\n",
      "train acc, test acc | 0.9738666666666667, 0.9677\n",
      "train acc, test acc | 0.9750666666666666, 0.9691\n",
      "train acc, test acc | 0.9771666666666666, 0.97\n",
      "train acc, test acc | 0.9778833333333333, 0.9695\n",
      "train acc, test acc | 0.9786, 0.9712\n"
     ]
    }
   ],
   "source": [
    "import sys, os\n",
    "sys.path.append(os.pardir)\n",
    "\n",
    "import numpy as np\n",
    "from dataset.presentation.mnist import load_mnist\n",
    "from two_layer_net import TwoLayerNet\n",
    "\n",
    "# データの読み込み\n",
    "(x_train, t_train), (x_test, t_test) = load_mnist(normalize=True, one_hot_label=True)\n",
    "\n",
    "network = TwoLayerNet(input_size=784, hidden_size=50, output_size=10) #hidden_sizeは任意の数可能　PCの性能で適当に変えてください。\n",
    "\n",
    "iters_num = 10000 #訓練データ数\n",
    "train_size = x_train.shape[0]\n",
    "batch_size = 100\n",
    "learning_rate = 0.1\n",
    "\n",
    "train_loss_list = []\n",
    "train_acc_list = []\n",
    "test_acc_list = []\n",
    "\n",
    "iter_per_epoch = max(train_size / batch_size, 1)\n",
    "\n",
    "for i in range(iters_num):\n",
    "    batch_mask = np.random.choice(train_size, batch_size)\n",
    "    x_batch = x_train[batch_mask]\n",
    "    t_batch = t_train[batch_mask]\n",
    "\n",
    "    # 勾配\n",
    "    #grad = network.numerical_gradient(x_batch, t_batch)\n",
    "    grad = network.gradient(x_batch, t_batch)\n",
    "\n",
    "    # 更新\n",
    "    for key in ('W1', 'b1', 'W2', 'b2'):\n",
    "        network.params[key] -= learning_rate * grad[key]\n",
    "\n",
    "    loss = network.loss(x_batch, t_batch)\n",
    "    train_loss_list.append(loss)\n",
    "\n",
    "    if i % iter_per_epoch == 0:\n",
    "        train_acc = network.accuracy(x_train, t_train)\n",
    "        test_acc = network.accuracy(x_test, t_test)\n",
    "        train_acc_list.append(train_acc)\n",
    "        test_acc_list.append(test_acc)\n",
    "        print(\"train acc, test acc | \" + str(train_acc) + \", \" + str(test_acc))"
   ]
  },
  {
   "cell_type": "code",
   "execution_count": 6,
   "metadata": {},
   "outputs": [
    {
     "data": {
      "image/png": "[encoded data removed]",
      "text/plain": [
       "<Figure size 864x432 with 2 Axes>"
      ]
     },
     "metadata": {
      "needs_background": "light"
     },
     "output_type": "display_data"
    }
   ],
   "source": [
    "# グラフの描画\n",
    "import matplotlib.pyplot as plt\n",
    "markers = {'train': 'o', 'test': 's'}\n",
    "x1 = np.arange(len(train_loss_list))\n",
    "x2 = np.arange(len(train_acc_list))\n",
    "\n",
    "\n",
    "# Figureオブジェクトを作成\n",
    "fig = plt.figure(figsize=(12, 6))\n",
    "\n",
    "# 1×2のfigureにオブジェクトを追加\n",
    "ax = fig.add_subplot(1, 2, 1)\n",
    "bx = fig.add_subplot(1, 2, 2)\n",
    "\n",
    "# サブプロットaxのグラフのx軸、y軸にラベルを設定する\n",
    "ax.set_xlabel(\"iteration\")\n",
    "ax.set_ylabel(\"loss\")\n",
    "bx.set_xlabel(\"epochs\")\n",
    "bx.set_ylabel(\"accuracy\")\n",
    "\n",
    "# データx, yをグラフにプロットする\n",
    "ax.plot(x1, train_loss_list)\n",
    "bx.plot(x2, train_acc_list, label='train acc')\n",
    "bx.plot(x2, test_acc_list, label='test acc', linestyle='--')\n",
    "plt.legend(loc='lower right')\n",
    "plt.show()"
   ]
  },
  {
   "cell_type": "markdown",
   "metadata": {},
   "source": [
    "## まとめ"
   ]
  },
  {
   "cell_type": "markdown",
   "metadata": {},
   "source": [
    "※概要再掲\n",
    "ニューラルネットワークで行う処理を\"レイヤ\"単位で実装<br>\n",
    "　・ReLUレイヤ<br>\n",
    "　・Softmax-with-Lossレイヤ<br>\n",
    "　・Affineレイヤ<br>\n",
    "　・Softmaxレイヤ<br>\n",
    "\n",
    "上記レイヤには、forwardとbackwardというメソッドが実装されており、<br>\n",
    "データを順方向と逆方向に伝播することで、重みパラメータの勾配を効率的に求めることができる<br>\n",
    "\n",
    "上記レイヤを自由に組み合わせることで自分の好きなネットワークを簡単に作ることできる<br>"
   ]
  },
  {
   "cell_type": "code",
   "execution_count": null,
   "metadata": {},
   "outputs": [],
   "source": []
  }
 ],
 "metadata": {
  "interpreter": {
   "hash": "97ae724bfa85b9b34df7982b8bb8c7216f435b92902d749e4263f71162bea840"
  },
  "kernelspec": {
   "display_name": "Python 3",
   "language": "python",
   "name": "python3"
  },
  "language_info": {
   "codemirror_mode": {
    "name": "ipython",
    "version": 3
   },
   "file_extension": ".py",
   "mimetype": "text/x-python",
   "name": "python",
   "nbconvert_exporter": "python",
   "pygments_lexer": "ipython3",
   "version": "3.8.5"
  }
 },
 "nbformat": 4,
 "nbformat_minor": 4
}
