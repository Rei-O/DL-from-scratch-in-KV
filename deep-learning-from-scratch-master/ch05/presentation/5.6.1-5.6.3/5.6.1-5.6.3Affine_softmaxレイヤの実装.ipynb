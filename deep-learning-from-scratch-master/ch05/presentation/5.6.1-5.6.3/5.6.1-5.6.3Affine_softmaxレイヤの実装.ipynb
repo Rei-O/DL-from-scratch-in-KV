{
  "nbformat": 4,
  "nbformat_minor": 0,
  "metadata": {
    "colab": {
      "name": "5.6章Affine_softmaxレイヤの実装.ipynb",
      "provenance": [],
      "collapsed_sections": []
    },
    "kernelspec": {
      "name": "python3",
      "display_name": "Python 3"
    },
    "language_info": {
      "name": "python"
    }
  },
  "cells": [
    {
      "cell_type": "code",
      "execution_count": 1,
      "metadata": {
        "id": "8ArlUdam--M-"
      },
      "outputs": [],
      "source": [
        "import numpy as np"
      ]
    },
    {
      "cell_type": "markdown",
      "source": [
        "# 5.6章Affine_softmaxレイヤの実装"
      ],
      "metadata": {
        "id": "fwj4kDkXOnnw"
      }
    },
    {
      "cell_type": "code",
      "source": [
        "X = np.random.rand(2) # 入力\n",
        "w = np.random.rand(2,3) # 重み\n",
        "B = np.random.rand(3) #バイアス\n",
        "\n",
        "X.shape # 1行×2列\n",
        "w.shape # (2行×3列)\n",
        "B.shape #(1行×3列)\n",
        "Y = np.dot(X,w) + B\n"
      ],
      "metadata": {
        "id": "fw9WiqjG_Dvj"
      },
      "execution_count": null,
      "outputs": []
    },
    {
      "cell_type": "code",
      "source": [
        "print(X)\n",
        "print(w)\n",
        "print(B)"
      ],
      "metadata": {
        "colab": {
          "base_uri": "https://localhost:8080/"
        },
        "id": "kZCKcZF8_qBi",
        "outputId": "d3d55b38-eafe-4a43-b407-3b1857caa96a"
      },
      "execution_count": null,
      "outputs": [
        {
          "output_type": "stream",
          "name": "stdout",
          "text": [
            "[0.26569111 0.34219913]\n",
            "[[0.29082061 0.60015105 0.39132849]\n",
            " [0.06553866 0.32253918 0.80189848]]\n",
            "[0.81765224 0.30516209 0.9446015 ]\n"
          ]
        }
      ]
    },
    {
      "cell_type": "code",
      "source": [
        "print(np.dot(X,w))"
      ],
      "metadata": {
        "colab": {
          "base_uri": "https://localhost:8080/"
        },
        "id": "8TEvucD1BkDa",
        "outputId": "e371f04a-3c6d-4852-bd75-0a939ce7b08c"
      },
      "execution_count": null,
      "outputs": [
        {
          "output_type": "stream",
          "name": "stdout",
          "text": [
            "[0.09969572 0.26982742 0.37838146]\n"
          ]
        }
      ]
    },
    {
      "cell_type": "code",
      "source": [
        "print(Y)"
      ],
      "metadata": {
        "colab": {
          "base_uri": "https://localhost:8080/"
        },
        "id": "9fQEizu9JzNT",
        "outputId": "9a1e1f8e-4fc2-4c88-e031-30e72e024bd9"
      },
      "execution_count": null,
      "outputs": [
        {
          "output_type": "execute_result",
          "data": {
            "text/plain": [
              "array([0.91734797, 0.57498952, 1.32298296])"
            ]
          },
          "metadata": {},
          "execution_count": 15
        }
      ]
    },
    {
      "cell_type": "markdown",
      "source": [
        "## 5.6.2.バッチ版Affineレイヤ"
      ],
      "metadata": {
        "id": "yALMv7omMXWW"
      }
    },
    {
      "cell_type": "code",
      "source": [
        "# バッチサイズを指定\n",
        "batch_size = 2\n",
        "\n",
        "# 前の層のニューロン数を指定\n",
        "before = 2\n",
        "\n",
        "# 次の層のニューロン数を指定\n",
        "next = 3"
      ],
      "metadata": {
        "id": "EpPSDAkqOLkB"
      },
      "execution_count": 5,
      "outputs": []
    },
    {
      "cell_type": "code",
      "source": [
        "# (仮の)入力を作成\n",
        "X = np.random.rand(batch_size, before)\n",
        "print(X.shape)\n",
        "\n",
        "# (仮の)重みを作成\n",
        "W = np.random.rand(before, next)\n",
        "print(W.shape)\n",
        "\n",
        "# (仮の)バイアスを作成\n",
        "b = np.random.rand(next)\n",
        "print(b.shape)"
      ],
      "metadata": {
        "colab": {
          "base_uri": "https://localhost:8080/"
        },
        "id": "dfsivMC0OYG_",
        "outputId": "f9886cf6-feaf-4598-bea9-28acbc178757"
      },
      "execution_count": 6,
      "outputs": [
        {
          "output_type": "stream",
          "name": "stdout",
          "text": [
            "(2, 2)\n",
            "(2, 3)\n",
            "(3,)\n"
          ]
        }
      ]
    },
    {
      "cell_type": "code",
      "source": [
        "# 重み付き和を計算\n",
        "Y = np.dot(X, W) + b\n",
        "print(Y.shape)"
      ],
      "metadata": {
        "colab": {
          "base_uri": "https://localhost:8080/"
        },
        "id": "IKJekmOMOgAR",
        "outputId": "e0014744-6aab-4a06-dc77-459d2d239cad"
      },
      "execution_count": 7,
      "outputs": [
        {
          "output_type": "stream",
          "name": "stdout",
          "text": [
            "(2, 3)\n"
          ]
        }
      ]
    },
    {
      "cell_type": "markdown",
      "source": [
        "#### 続いて、逆伝播を考える。\n",
        "- 逆伝播の際には、それぞれのデータの逆伝播の値が、バイアスの要素に集約される必要がある。"
      ],
      "metadata": {
        "id": "l3UvL0skNCwe"
      }
    },
    {
      "cell_type": "code",
      "source": [
        "# (仮の)逆伝播の入力を作成\n",
        "dY = np.random.rand(before, next)\n",
        "print(dY.shape)"
      ],
      "metadata": {
        "colab": {
          "base_uri": "https://localhost:8080/"
        },
        "id": "kfswzSHNJuSF",
        "outputId": "a7b1c0ed-ed69-428b-899c-f9a87cbe8075"
      },
      "execution_count": 11,
      "outputs": [
        {
          "output_type": "stream",
          "name": "stdout",
          "text": [
            "(2, 3)\n"
          ]
        }
      ]
    },
    {
      "cell_type": "code",
      "source": [
        "# 順伝播の入力の勾配を計算\n",
        "dX = np.dot(dY, W.T) \n",
        "print(dX.shape)\n",
        "\n",
        "# 重みの勾配を計算\n",
        "dW = np.dot(X.T, dY)\n",
        "print(dW.shape)\n",
        "\n",
        "# バイアスの勾配を計算\n",
        "db = np.sum(dY, axis=0)\n",
        "print(db.shape)"
      ],
      "metadata": {
        "colab": {
          "base_uri": "https://localhost:8080/"
        },
        "id": "GshEtGcaP-A1",
        "outputId": "33d0dae2-fcf4-4d3c-ae85-f117752b4380"
      },
      "execution_count": 12,
      "outputs": [
        {
          "output_type": "stream",
          "name": "stdout",
          "text": [
            "(2, 2)\n",
            "(2, 3)\n",
            "(3,)\n"
          ]
        }
      ]
    },
    {
      "cell_type": "code",
      "source": [
        ""
      ],
      "metadata": {
        "id": "mKE91OijP-N_"
      },
      "execution_count": null,
      "outputs": []
    },
    {
      "cell_type": "code",
      "source": [
        "# Affineレイヤの実装\n",
        "class Affine:\n",
        "    # 初期化メソッド\n",
        "    def __init__(self, W, b):\n",
        "        # パラメータを保存\n",
        "        self.W = W # 重み\n",
        "        self.b = b # バイアス\n",
        "        \n",
        "        # 入力と勾配を初期化\n",
        "        self.x = None  # 順伝播の入力\n",
        "        self.dW = None # 重みの勾配\n",
        "        self.db = None # バイアスの勾配\n",
        "    \n",
        "    # 順伝播メソッド\n",
        "    def forward(self, x):\n",
        "        # 順伝播の入力を保存\n",
        "        self.x = x\n",
        "        \n",
        "        # 重み付き和を計算\n",
        "        out = np.dot(x, self.W) + self.b\n",
        "        return out\n",
        "    \n",
        "    # 逆伝播メソッド\n",
        "    def backward(self, dout):\n",
        "        # 勾配を計算\n",
        "        dx = np.dot(dout, self.W.T)      # 順伝播の入力の勾配\n",
        "        self.dW = np.dot(self.x.T, dout) # 重みの勾配\n",
        "        self.db = np.sum(dout, axis=0)   # バイアスの勾配\n",
        "        \n",
        "        # 順伝播の入力の勾配を出力\n",
        "        return dx"
      ],
      "metadata": {
        "id": "UtmbMg-_9Cji"
      },
      "execution_count": 2,
      "outputs": []
    },
    {
      "cell_type": "code",
      "source": [
        "# Affineレイヤのインスタンスを作成\n",
        "layer = Affine(W, b)\n",
        "print(layer.x)\n",
        "print(layer.W.shape)\n",
        "print(layer.b.shape)"
      ],
      "metadata": {
        "colab": {
          "base_uri": "https://localhost:8080/"
        },
        "id": "GC5DTlja8YnB",
        "outputId": "b41cb3b3-4d1f-4daa-b406-ca5a4a7702a9"
      },
      "execution_count": 8,
      "outputs": [
        {
          "output_type": "stream",
          "name": "stdout",
          "text": [
            "None\n",
            "(2, 3)\n",
            "(3,)\n"
          ]
        }
      ]
    },
    {
      "cell_type": "code",
      "source": [
        "# 順伝播を計算\n",
        "Y = layer.forward(X)\n",
        "print(Y.shape)"
      ],
      "metadata": {
        "colab": {
          "base_uri": "https://localhost:8080/"
        },
        "id": "dPXg8xx18a9C",
        "outputId": "88b73ee6-7a9a-4304-afc9-7f32ea860ad2"
      },
      "execution_count": 9,
      "outputs": [
        {
          "output_type": "stream",
          "name": "stdout",
          "text": [
            "(2, 3)\n"
          ]
        }
      ]
    },
    {
      "cell_type": "code",
      "source": [
        "# 逆伝播を計算\n",
        "dX = layer.backward(dY)\n",
        "print(dX.shape)\n",
        "print(layer.dW.shape)\n",
        "print(layer.db.shape)"
      ],
      "metadata": {
        "colab": {
          "base_uri": "https://localhost:8080/"
        },
        "id": "qjuTgioz8c_K",
        "outputId": "e9fc2113-7590-48ce-f64f-3c03a3585561"
      },
      "execution_count": 13,
      "outputs": [
        {
          "output_type": "stream",
          "name": "stdout",
          "text": [
            "(2, 2)\n",
            "(2, 3)\n",
            "(3,)\n"
          ]
        }
      ]
    },
    {
      "cell_type": "markdown",
      "source": [
        "## 5.6.3 Softmax-with-Lossレイヤ"
      ],
      "metadata": {
        "id": "QQnaNgJ1Xh-W"
      }
    },
    {
      "cell_type": "code",
      "source": [
        "# Softmax 3.5.2ソフトマックス関数の実装上の注意\n",
        "def softmax(a):\n",
        "  c = np.max(a)\n",
        "  exp_a = np.exp(a-c)\n",
        "  sum_exp_a = np.sum(exp_a)\n",
        "  y = exp_a / sum_exp_a\n",
        "  return y"
      ],
      "metadata": {
        "id": "YFeT05iDMbgf"
      },
      "execution_count": 14,
      "outputs": []
    },
    {
      "cell_type": "code",
      "source": [
        "# cross_entropy_error 4.2.4バッチ対応版交差エントロピー誤差の実装\n",
        "def cross_entropy_error(y, t):\n",
        "  if y.ndim ==1:\n",
        "    t = t.reshape(1,t.size)\n",
        "    y = y.reshape(1,y.size)\n",
        "  \n",
        "  batch_size = y.shape[0]\n",
        "  return -np.sum( t * np.log( y + 1e-7)) / batch_size"
      ],
      "metadata": {
        "id": "0K1MGBNKXsOZ"
      },
      "execution_count": 15,
      "outputs": []
    },
    {
      "cell_type": "code",
      "source": [
        "# Softmax-with-Lossレイヤの実装\n",
        "class SoftmaxWithLoss:\n",
        "    # 初期化メソッド\n",
        "    def __init__(self):\n",
        "        # 変数を初期化\n",
        "        self.loss = None # 交差エントロピー誤差\n",
        "        self.y = None # ニューラルネットワークの出力\n",
        "        self.t = None # 教師ラベル\n",
        "    \n",
        "    # 順伝播メソッド\n",
        "    def forward(self, x, t):\n",
        "        # 教師ラベルを保存\n",
        "        self.t = t\n",
        "        \n",
        "        # ソフトマックス関数による活性化(正規化)\n",
        "        self.y = softmax(x)\n",
        "        \n",
        "        # 交差エントロピー誤差を計算\n",
        "        self.loss = cross_entropy_error(self.y, self.t)\n",
        "        return self.loss\n",
        "    \n",
        "    # 逆伝播メソッド\n",
        "    def backward(self, dout=1):\n",
        "        # バッチサイズを取得\n",
        "        batch_size = self.t.shape[0]\n",
        "        \n",
        "        # 順伝播の入力の勾配を計算\n",
        "        dx = (self.y - self.t) / batch_size\n",
        "        return dx"
      ],
      "metadata": {
        "id": "W9M9fXVCXsRB"
      },
      "execution_count": 20,
      "outputs": []
    },
    {
      "cell_type": "code",
      "source": [
        ""
      ],
      "metadata": {
        "id": "kmdhPui1Qvi9"
      },
      "execution_count": null,
      "outputs": []
    },
    {
      "cell_type": "code",
      "source": [
        "#バッチサイズを3として実装\n",
        "# (仮の)入力を作成\n",
        "A = np.array([\n",
        "    [1.0, 3.0, 5.0, 7.0, 9.0, 1.5, 3.5, 5.5, 7.5, 9.5], \n",
        "    [1.0, 1.0, 1.0, 1.0, 1.0, 1.0, 1.0, 1.0, 1.0, 1.0], \n",
        "    [-10.0, -8.0, -6.0, -4.0,-2.0, 0.0, 2.0, 4.0, 6.0, 8.0]\n",
        "])\n",
        "print(A.shape)\n",
        "\n",
        "# (仮の)教師データを作成\n",
        "T = np.array([\n",
        "    [0, 0, 0, 0, 0, 0, 0, 1, 0, 0], \n",
        "    [0, 0, 0, 0, 1, 0, 0, 0, 0, 0], \n",
        "    [0, 0, 0, 0, 0, 0, 0, 0, 0, 1]\n",
        "])\n",
        "print(T.shape)"
      ],
      "metadata": {
        "colab": {
          "base_uri": "https://localhost:8080/"
        },
        "id": "H9I_0c4DQvue",
        "outputId": "49833fba-967f-43a6-8c0f-1d4fd8b3075b"
      },
      "execution_count": 17,
      "outputs": [
        {
          "output_type": "stream",
          "name": "stdout",
          "text": [
            "(3, 10)\n",
            "(3, 10)\n"
          ]
        }
      ]
    },
    {
      "cell_type": "code",
      "source": [
        "# ソフトマックス関数による活性化\n",
        "Y = softmax(A)\n",
        "print(np.round(Y, 3))\n",
        "print(np.sum(Y, axis=1)) # 正規化の確認したのち、交差エントロピー誤差を計算\n",
        "\n",
        "# 交差エントロピー誤差を計算\n",
        "L = cross_entropy_error(Y, T)\n",
        "print(L)"
      ],
      "metadata": {
        "colab": {
          "base_uri": "https://localhost:8080/"
        },
        "id": "MTZMXoIpQvw7",
        "outputId": "31c4cffa-511f-4add-c55a-bbf752708326"
      },
      "execution_count": 37,
      "outputs": [
        {
          "output_type": "stream",
          "name": "stdout",
          "text": [
            "[[0.    0.001 0.005 0.039 0.286 0.    0.001 0.009 0.064 0.472]\n",
            " [0.    0.    0.    0.    0.    0.    0.    0.    0.    0.   ]\n",
            " [0.    0.    0.    0.    0.    0.    0.    0.002 0.014 0.105]]\n",
            "[0.87719998 0.00096067 0.12183935]\n",
            "5.416781025822352\n"
          ]
        }
      ]
    },
    {
      "cell_type": "code",
      "source": [
        "# バッチサイズを取得\n",
        "batch_size = T.shape[0]\n",
        "print(batch_size)\n",
        "\n",
        "# 逆伝播\n",
        "dA = (Y - T) / batch_size\n",
        "print(np.round(dA, 2))\n",
        "print(dA.shape)"
      ],
      "metadata": {
        "colab": {
          "base_uri": "https://localhost:8080/"
        },
        "id": "OGUwfW30Qvzq",
        "outputId": "f1b7704d-c2de-4ac2-d213-d02af3ee15ab"
      },
      "execution_count": 38,
      "outputs": [
        {
          "output_type": "stream",
          "name": "stdout",
          "text": [
            "3\n",
            "[[ 0.    0.    0.    0.01  0.1   0.    0.   -0.33  0.02  0.16]\n",
            " [ 0.    0.    0.    0.   -0.33  0.    0.    0.    0.    0.  ]\n",
            " [ 0.    0.    0.    0.    0.    0.    0.    0.    0.   -0.3 ]]\n",
            "(3, 10)\n"
          ]
        }
      ]
    },
    {
      "cell_type": "code",
      "source": [
        "# Softmax-with-Lossレイヤのインスタンスを作成\n",
        "layer = SoftmaxWithLoss()"
      ],
      "metadata": {
        "id": "wWbVWf2ZRar_"
      },
      "execution_count": 21,
      "outputs": []
    },
    {
      "cell_type": "code",
      "source": [
        "# 順伝播を計算\n",
        "L = layer.forward(A, T)\n",
        "print(np.round(layer.y, 2))\n",
        "print(np.sum(layer.y, axis=1)) # 正規化の確認\n",
        "print(layer.loss)\n",
        "print(L)"
      ],
      "metadata": {
        "colab": {
          "base_uri": "https://localhost:8080/"
        },
        "id": "abLlAuS8Raua",
        "outputId": "c91c0eb0-47f1-4bad-e8f5-c9b3366bd800"
      },
      "execution_count": 39,
      "outputs": [
        {
          "output_type": "stream",
          "name": "stdout",
          "text": [
            "[[0.   0.   0.01 0.04 0.29 0.   0.   0.01 0.06 0.47]\n",
            " [0.   0.   0.   0.   0.   0.   0.   0.   0.   0.  ]\n",
            " [0.   0.   0.   0.   0.   0.   0.   0.   0.01 0.11]]\n",
            "[0.87719998 0.00096067 0.12183935]\n",
            "5.416781025822352\n",
            "5.416781025822352\n"
          ]
        }
      ]
    },
    {
      "cell_type": "code",
      "source": [
        "# 逆伝播を計算\n",
        "dA = layer.backward()\n",
        "print(np.round(dA, 3))"
      ],
      "metadata": {
        "colab": {
          "base_uri": "https://localhost:8080/"
        },
        "id": "ukG1oS47Raw6",
        "outputId": "5f324d85-f8cb-4691-9d27-b054c337adb5"
      },
      "execution_count": 40,
      "outputs": [
        {
          "output_type": "stream",
          "name": "stdout",
          "text": [
            "[[ 0.     0.     0.002  0.013  0.095  0.     0.    -0.33   0.021  0.157]\n",
            " [ 0.     0.     0.     0.    -0.333  0.     0.     0.     0.     0.   ]\n",
            " [ 0.     0.     0.     0.     0.     0.     0.     0.001  0.005 -0.298]]\n"
          ]
        }
      ]
    },
    {
      "cell_type": "code",
      "source": [
        ""
      ],
      "metadata": {
        "id": "czK_KRHhSIGJ"
      },
      "execution_count": null,
      "outputs": []
    },
    {
      "cell_type": "code",
      "source": [
        ""
      ],
      "metadata": {
        "id": "03zz30jLSIIi"
      },
      "execution_count": null,
      "outputs": []
    },
    {
      "cell_type": "code",
      "source": [
        ""
      ],
      "metadata": {
        "id": "eePxFk2CSIKz"
      },
      "execution_count": null,
      "outputs": []
    },
    {
      "cell_type": "code",
      "source": [
        ""
      ],
      "metadata": {
        "id": "CoRo6uIWSIMz"
      },
      "execution_count": null,
      "outputs": []
    },
    {
      "cell_type": "code",
      "source": [
        ""
      ],
      "metadata": {
        "id": "W8VYk3T9SIOq"
      },
      "execution_count": null,
      "outputs": []
    },
    {
      "cell_type": "markdown",
      "source": [
        "## 参考資料"
      ],
      "metadata": {
        "id": "GniVhkDSNIFS"
      }
    },
    {
      "cell_type": "markdown",
      "source": [
        "[5.6.3：Softmax-with-Lossレイヤの実装【ゼロつく1のノート(実装)】](https://www.anarchive-beta.com/entry/2020/08/05/180000)"
      ],
      "metadata": {
        "id": "V_tKOHo8RZ3B"
      }
    },
    {
      "cell_type": "code",
      "source": [
        ""
      ],
      "metadata": {
        "id": "yu6dkSsKNJf1"
      },
      "execution_count": null,
      "outputs": []
    },
    {
      "cell_type": "markdown",
      "source": [
        "[ニューラルネットがわかりやすくまとめてある。初学者向け](https://tutorials.chainer.org/ja/13_Basics_of_Neural_Networks.html#ref_note5)"
      ],
      "metadata": {
        "id": "oRmukgFkNKPs"
      }
    },
    {
      "cell_type": "code",
      "source": [
        ""
      ],
      "metadata": {
        "id": "cgfuRajzNQhU"
      },
      "execution_count": null,
      "outputs": []
    }
  ]
}