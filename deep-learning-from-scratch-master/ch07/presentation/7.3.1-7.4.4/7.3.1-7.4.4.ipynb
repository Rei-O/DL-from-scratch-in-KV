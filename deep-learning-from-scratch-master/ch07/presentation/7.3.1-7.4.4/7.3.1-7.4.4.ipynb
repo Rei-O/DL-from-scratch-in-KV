{
 "cells": [
  {
   "cell_type": "markdown",
   "id": "22316ee0-e240-4f5b-b447-3b53878dc1b9",
   "metadata": {},
   "source": [
    "## 7.3 プーリング層"
   ]
  },
  {
   "cell_type": "markdown",
   "id": "97ccfd5f-3dc4-4c88-8dd4-a1566a45d371",
   "metadata": {},
   "source": [
    "![CNNによるネットワークの例](fig/CNNによるネットワークの例.png)"
   ]
  },
  {
   "cell_type": "markdown",
   "id": "31967d92-9569-4789-b869-a93b19251209",
   "metadata": {},
   "source": [
    "◆Maxプーリングの処理手順 <br>\n",
    "![Maxプーリングの処理手順](fig/Maxプーリングの処理手順.png)<br>\n",
    "上記例では2×2の領域に対して最大となる要素を取り出している。<br>\n",
    "*Maxプーリングの他に、Averageプーリング(対象領域の平均)等あり。<br>\n",
    "*画像認識の分野では主にMaxプーリングが使用される。<br>\n",
    "*その為、本書で「プーリング層」という場合は、Maxプーリングを指すものとする。<br>\n",
    "*プーリングとは\n",
    "https://toukeigaku-jouhou.info/2018/04/22/pooling/"
   ]
  },
  {
   "cell_type": "markdown",
   "id": "7b150240-15d3-4129-92e8-1910ac5007d6",
   "metadata": {},
   "source": [
    "### 7.3.1 プーリング層の特徴"
   ]
  },
  {
   "cell_type": "markdown",
   "id": "5abc538b-e93c-492d-894a-c212b1e798b7",
   "metadata": {},
   "source": [
    "(1)学習するパラメータがない<br>\n",
    "&nbsp;&nbsp;&nbsp;&nbsp;&nbsp;&nbsp;\n",
    "対象領域から最大値(もしくは平均値)を取るだけの処理<br><br>\n",
    "(2)チャンネル数は変化しない<br>\n",
    "&nbsp;&nbsp;&nbsp;&nbsp;&nbsp;&nbsp;\n",
    "プーリングの演算によって入力データと出力データのチャンネル数は変化しない<br>\n",
    "![プーリングではチャンネル数は変わらない](fig/プーリングではチャンネル数は変わらない.png)<br><br>\n",
    "(3)微小な位置変化に対してロバスト(頑健)<br>\n",
    "&nbsp;&nbsp;&nbsp;&nbsp;&nbsp;&nbsp;\n",
    "入力データの小さなズレに対して、プーリングは同じような結果を返す。<br>\n",
    "![微小な位置変化に対してロバスト](fig/微小な位置変化に対してロバスト.png)<br>\n",
    "上図のような3×3のプーリングの場合、入力データが横方向に1要素分だけずれた場合でも、出力は同じような結果になる。<br>"
   ]
  },
  {
   "cell_type": "markdown",
   "id": "230b04e8-b7cc-461a-8368-f5929b75e2ad",
   "metadata": {},
   "source": [
    "## 7.4 Convolution/Poolingレイヤの実装"
   ]
  },
  {
   "cell_type": "markdown",
   "id": "9d0bf15a-419e-425e-a3fc-fc96fce3f375",
   "metadata": {},
   "source": [
    "畳み込み層とプーリング層の実装を行なっていく。<br>\n",
    "ここで実装するクラスにも、forwardとbackwardというメソッドを持たせ、モジュールとして利用できるようにする。<br>"
   ]
  },
  {
   "cell_type": "markdown",
   "id": "df253989-88bb-4bad-b82f-588694a73791",
   "metadata": {},
   "source": [
    "### 7.4.1 4次元配列"
   ]
  },
  {
   "cell_type": "markdown",
   "id": "cd9f3dd5-46b2-479c-9345-bbd2c961d5ba",
   "metadata": {},
   "source": [
    "<h4>復習"
   ]
  },
  {
   "cell_type": "markdown",
   "id": "be0687a9-6e91-4c7a-b2d7-638ba32ecee9",
   "metadata": {},
   "source": [
    "<!-- ◆出力が1枚の特徴量マップ(=チャンネル数が1の特徴マップ)<br>\n",
    "![出力が1枚の特徴マップ](fig/出力が1枚の特徴マップ.png)<br><br>\n",
    "◆出力が複数(=チャンネル数が複数)<br>\n",
    "![出力が複数](fig/出力が複数.png)<br> -->\n",
    "<!-- ◆バイアス項も追加<br><br> -->\n",
    "![畳み込み演算の処理フロー](fig/畳み込み演算の処理フロー.png)<br>"
   ]
  },
  {
   "cell_type": "markdown",
   "id": "8b249c57-cb43-4fa5-b789-e66bfbcf6caa",
   "metadata": {},
   "source": [
    "データの形状が(10, 1, 28, 28)の場合、高さ28・横幅28で１チャンネルのデータが10個ある場合に対応"
   ]
  },
  {
   "cell_type": "code",
   "execution_count": 13,
   "id": "f2511882-9de9-4fca-9d75-58a67b7b075b",
   "metadata": {},
   "outputs": [
    {
     "data": {
      "text/plain": [
       "(10, 1, 28, 28)"
      ]
     },
     "execution_count": 13,
     "metadata": {},
     "output_type": "execute_result"
    }
   ],
   "source": [
    "import numpy as np\n",
    "x=np.random.rand(10,1,28,28)\n",
    "x.shape"
   ]
  },
  {
   "cell_type": "code",
   "execution_count": 14,
   "id": "8aa04a4d-9172-453d-aab6-c7495dc292d9",
   "metadata": {},
   "outputs": [
    {
     "name": "stdout",
     "output_type": "stream",
     "text": [
      "x[0].shape : (1, 28, 28)\n",
      "\n",
      "x[1].shape : (1, 28, 28)\n",
      "\n"
     ]
    }
   ],
   "source": [
    "print(f'x[0].shape : {x[0].shape}\\n')\n",
    "print(f'x[1].shape : {x[1].shape}\\n')"
   ]
  },
  {
   "cell_type": "markdown",
   "id": "b552d164-73eb-4913-8d0c-8c555d8ef738",
   "metadata": {},
   "source": [
    "### 7.4.2 im2colによる展開"
   ]
  },
  {
   "cell_type": "markdown",
   "id": "38472777-6d72-4a65-9a11-dda31a21196d",
   "metadata": {},
   "source": [
    "im2colという関数を使って入力データを４次元から２次元に変換する過程の説明"
   ]
  },
  {
   "cell_type": "markdown",
   "id": "9d962bbd-8424-4960-9f40-16fedd2e45ca",
   "metadata": {},
   "source": [
    "◆ゼロから作るDeep Learning 3より<br><br>\n",
    "![ゼロから作るDeepLearning3](fig/ゼロから作るDeepLearning3.png)<br>\n",
    "◆入力データとカーネルの行列の積による計算<br><br>\n",
    "![入力データとカーネルの行列の積による計算](fig/入力データとカーネルの行列の積による計算.png)<br>"
   ]
  },
  {
   "cell_type": "markdown",
   "id": "b67f8a4d-18fd-4a90-9250-6ae590a5a9d5",
   "metadata": {},
   "source": [
    "以下参考URL<br>\n",
    "https://qiita.com/omiita/items/01855ff13cc6d3720ea4<br>\n",
    "https://qiita.com/daizutabi/items/856042fb1ea9da150741<br>\n",
    "https://qiita.com/jun40vn/items/be48afbdd9da19f1e43e<br>"
   ]
  },
  {
   "cell_type": "markdown",
   "id": "8c8e3142-f6e3-486b-b81f-ef3ebb241847",
   "metadata": {},
   "source": [
    "◆4次元配列<br><br>\n",
    "![4次元配列](fig/4次元配列.png)<br><br>\n",
    "上記例は高さ2,幅3の画像が、チャネル数2(横方向),バッチ数3(縦方向)で並んでると解釈できる"
   ]
  },
  {
   "cell_type": "markdown",
   "id": "53485777-4ef2-4fe1-9478-6f1661e6e779",
   "metadata": {},
   "source": [
    "◆im2colによる展開<br>\n",
    " フィルタサイズがFH=2, FW=2の場合にim2col関数でXを2次元配列に変換した結果<br>\n",
    "![im2colによる展開](fig/im2colによる展開.png)<br>"
   ]
  },
  {
   "cell_type": "markdown",
   "id": "7cadb268-bfeb-46f8-8b6b-da14c41eb612",
   "metadata": {},
   "source": [
    "◆im2colによる展開(色付き)<br>\n",
    " フィルタサイズがFH=2, FW2の場合にim2col関数でXを2次元配列に変換した結果<br>\n",
    "![im2colによる展開色付き](fig/im2colによる展開色付き.png)<br>"
   ]
  },
  {
   "cell_type": "markdown",
   "id": "1fc09688-ceaf-45f8-afdd-82e696bd96e4",
   "metadata": {},
   "source": [
    "◆im2colによる展開(図付き)<br>\n",
    "![四次元から２次元へ](fig/四次元から２次元へ.png)<br>"
   ]
  },
  {
   "cell_type": "markdown",
   "id": "3a20999e-3ee4-4fd1-8486-a91e69ec8be6",
   "metadata": {},
   "source": [
    "・列数は上記の通りフィルタの要素数に等しくなる(C×FH×FW)。上記例の場合は、2×2×2=8"
   ]
  },
  {
   "cell_type": "markdown",
   "id": "4ddbc90a-7664-436b-90ee-afea9150794e",
   "metadata": {},
   "source": [
    "・行数<br>\n",
    "以下の公式を使うとOH=1, OW=2で、出力される一つの画像の画素数が2となる。これがバッチ数3個分繰り返されるので、行数は2×3=6となる。"
   ]
  },
  {
   "cell_type": "markdown",
   "id": "980ad91f-3afd-4dbd-a527-69bf63d29fd5",
   "metadata": {},
   "source": [
    "$$\n",
    "OH = \\frac{H + 2P -FH}{S} + 1 \\\\\n",
    "OW = \\frac{W + 2P -FW}{S} + 1 \\\\\n",
    "$$"
   ]
  },
  {
   "cell_type": "markdown",
   "id": "6cb0ffad-1277-42e6-8c8c-e9eba73c7576",
   "metadata": {},
   "source": [
    "結果的に、入力の4次元配列(N,C,H,W)は以下の二次元配列となる。<br>\n",
    "(N×OH×OW, C×FH×FW)=(6, 8)"
   ]
  },
  {
   "cell_type": "code",
   "execution_count": 10,
   "id": "596f9aeb-a40b-477f-993a-a0ae72eadfe8",
   "metadata": {},
   "outputs": [],
   "source": [
    "import numpy as np\n",
    "def im2col(input_data, filter_h, filter_w, stride=1, pad=0):\n",
    "    \"\"\"\n",
    "    Parameters\n",
    "    ----------\n",
    "    input_data : (データ数, チャンネル, 高さ, 幅)の4次元配列からなる入力データ\n",
    "    filter_h : フィルターの高さ\n",
    "    filter_w : フィルターの幅\n",
    "    stride : ストライド\n",
    "    pad : パディング\n",
    "\n",
    "    Returns\n",
    "    -------\n",
    "    col : 2次元配列\n",
    "    \"\"\"\n",
    "    N, C, H, W = input_data.shape\n",
    "    out_h = (H + 2*pad - filter_h)//stride + 1\n",
    "    out_w = (W + 2*pad - filter_w)//stride + 1\n",
    "\n",
    "    img = np.pad(input_data, [(0,0), (0,0), (pad, pad), (pad, pad)], 'constant')\n",
    "    col = np.zeros((N, C, filter_h, filter_w, out_h, out_w))\n",
    "\n",
    "    for y in range(filter_h):\n",
    "        y_max = y + stride*out_h\n",
    "        for x in range(filter_w):\n",
    "            x_max = x + stride*out_w\n",
    "            col[:, :, y, x, :, :] = img[:, :, y:y_max:stride, x:x_max:stride]\n",
    "\n",
    "    col = col.transpose(0, 4, 5, 1, 2, 3).reshape(N*out_h*out_w, -1)\n",
    "    return col"
   ]
  },
  {
   "cell_type": "code",
   "execution_count": 11,
   "id": "915bed16-330b-4400-8d5a-a23f0fb21401",
   "metadata": {},
   "outputs": [
    {
     "name": "stdout",
     "output_type": "stream",
     "text": [
      "(9, 75)\n"
     ]
    }
   ],
   "source": [
    "x1 = np.random.rand(1, 3, 7, 7)\n",
    "col1 = im2col(x1, 5, 5, stride=1, pad=0)\n",
    "print(col1.shape)"
   ]
  },
  {
   "cell_type": "code",
   "execution_count": null,
   "id": "d7a6f99f-ef20-44ed-86ea-d388f65a6d5c",
   "metadata": {},
   "outputs": [],
   "source": []
  },
  {
   "cell_type": "code",
   "execution_count": 12,
   "id": "1e0bce61-b78d-47a8-90ad-9de5ab4da218",
   "metadata": {},
   "outputs": [
    {
     "name": "stdout",
     "output_type": "stream",
     "text": [
      "(90, 75)\n"
     ]
    }
   ],
   "source": [
    "x2 = np.random.rand(10, 3, 7, 7) # 10 個のデータ\n",
    "col2 = im2col(x2, 5, 5, stride=1, pad=0)\n",
    "print(col2.shape)"
   ]
  },
  {
   "cell_type": "code",
   "execution_count": null,
   "id": "6c166eec-7f6f-4713-9545-88e6cd88b009",
   "metadata": {},
   "outputs": [],
   "source": []
  },
  {
   "cell_type": "markdown",
   "id": "c267ae67-cb3f-4b2d-85a6-cb8b1ffd5de6",
   "metadata": {},
   "source": [
    "### 7.4.3 Convolutionレイヤの実装"
   ]
  },
  {
   "cell_type": "markdown",
   "id": "8a33f394-7c4f-43df-9fb0-71d6807d3c3a",
   "metadata": {},
   "source": []
  },
  {
   "cell_type": "code",
   "execution_count": 3,
   "id": "a7c547d4-77fc-4fd5-a376-ca82515262c2",
   "metadata": {},
   "outputs": [],
   "source": [
    "class Convolution:\n",
    "    def __init__(self, W, b, stride=1, pad=0):\n",
    "        \"\"\"Convolutionレイヤー\n",
    "\n",
    "        Args:\n",
    "            W (numpy.ndarray): フィルター（重み）、形状は(FN, C, FH, FW)。\n",
    "            b (numpy.ndarray): バイアス、形状は(FN)。\n",
    "            stride (int, optional): ストライド、デフォルトは1。\n",
    "            pad (int, optional): パディング、デフォルトは0。\n",
    "        \"\"\"     \n",
    "        self.W = W\n",
    "        self.b = b\n",
    "        self.stride = stride\n",
    "        self.pad = pad\n",
    "   \n",
    "        # 中間データ（backward時に使用）\n",
    "        self.x = None   \n",
    "        self.col = None\n",
    "        self.col_W = None\n",
    "        \n",
    "        # 重み・バイアスパラメータの勾配\n",
    "        self.dW = None\n",
    "        self.db = None\n",
    "\n",
    "    def forward(self, x):\n",
    "        \"\"\"順伝播\n",
    "\n",
    "        Args:\n",
    "            x (numpy.ndarray): 入力。形状は(N, C, H, W)。\n",
    "\n",
    "        Returns:\n",
    "            numpy.ndarray: 出力。形状は(N, FN, OH, OW)。\n",
    "        \"\"\"       \n",
    "        FN, C, FH, FW = self.W.shape  # FN:フィルター数、C:チャンネル数、FH:フィルターの高さ、FW:幅\n",
    "        N, C, H, W = x.shape  # N:バッチサイズ、x_C:チャンネル数、H：入力データの高さ、W:幅\n",
    "        \n",
    "        # ①出力サイズの計算\n",
    "        out_h = 1 + int((H + 2*self.pad - FH) / self.stride)\n",
    "        out_w = 1 + int((W + 2*self.pad - FW) / self.stride)\n",
    "\n",
    "        # ②im2colで画像データを行列データに変換\n",
    "        # (N, C, H, W) → (N * OH * OW, C * FH * FW)\n",
    "        col = im2col(x, FH, FW, self.stride, self.pad)\n",
    "        \n",
    "        # ③フィルターをreshapeして2次元配列に展開\n",
    "        # (FN, C, FH, FW) → (C * FH * FW, FN)\n",
    "        col_W = self.W.reshape(FN, -1).T\n",
    "\n",
    "        # ④行列演算で出力を計算\n",
    "        # 出力を算出（col_x, col_W, bに対する計算は、Affineレイヤーと全く同じ）\n",
    "        # (N * OH * OW, C * FH * FW)・(C * FH * FW, FN) → (N * OH * OW, FN)\n",
    "        out = np.dot(col, col_W) + self.b2\n",
    "        \n",
    "        # ⑤出力の形を整える\n",
    "        # (N * OH * OW, FN) → (N, OH, OW, FN) → (N, FN, OH, OW)\n",
    "        out = out.reshape(N, out_h, out_w, -1).transpose(0, 3, 1, 2)\n",
    "\n",
    "        # 逆伝播のために保存\n",
    "        self.x = x\n",
    "        self.col = col\n",
    "        self.col_W = col_W\n",
    "\n",
    "        return out\n",
    "\n",
    "    def backward(self, dout):\n",
    "        FN, C, FH, FW = self.W.shape\n",
    "        dout = dout.transpose(0,2,3,1).reshape(-1, FN)\n",
    "\n",
    "        self.db = np.sum(dout, axis=0)\n",
    "        self.dW = np.dot(self.col.T, dout)\n",
    "        self.dW = self.dW.transpose(1, 0).reshape(FN, C, FH, FW)\n",
    "\n",
    "        dcol = np.dot(dout, self.col_W.T)\n",
    "        dx = col2im(dcol, self.x.shape, FH, FW, self.stride, self.pad)\n",
    "\n",
    "        return dx"
   ]
  },
  {
   "cell_type": "markdown",
   "id": "eca5c344-82c5-4a4b-9aef-6df5aad93d1d",
   "metadata": {},
   "source": [
    "①出力サイズの計算式<br>\n",
    "$$\n",
    "OH = \\frac{H + 2P -FH}{S} + 1 \\\\\n",
    "OW = \\frac{W + 2P -FW}{S} + 1 \\\\\n",
    "$$"
   ]
  },
  {
   "cell_type": "markdown",
   "id": "8382d191-e534-4e56-831a-3dfae5a9b1b5",
   "metadata": {},
   "source": [
    "③フィルターをreshapeして2次元配列に展開<br>\n",
    "![フィルターreshape](fig/フィルターreshape.png)<br>"
   ]
  },
  {
   "cell_type": "markdown",
   "id": "20f716a0-2352-4108-bf89-c9da1de40752",
   "metadata": {},
   "source": []
  },
  {
   "cell_type": "markdown",
   "id": "2f77ada0-f95b-4a76-9db2-56241ee9fab1",
   "metadata": {},
   "source": [
    "![XW](fig/XW.png)<br>"
   ]
  },
  {
   "cell_type": "markdown",
   "id": "92ac581d-0504-40db-b98d-3143703b81ae",
   "metadata": {},
   "source": [
    "④行列演算で出力を計算"
   ]
  },
  {
   "cell_type": "markdown",
   "id": "1631803e-7b8b-4c80-b1d0-fe6770744815",
   "metadata": {},
   "source": [
    "<h4> Ŷ =X̂ ⋅Ŵ +B"
   ]
  },
  {
   "cell_type": "markdown",
   "id": "61c4955b-fdc0-495b-ab56-60643e90d397",
   "metadata": {},
   "source": [
    "<table>\n",
    "<thead><tr>\n",
    "<th style=\"text-align:left\">2次元化した配列</th>\n",
    "<th style=\"text-align:left\">行数</th>\n",
    "<th style=\"text-align:left\">列数</th>\n",
    "</tr>\n",
    "</thead>\n",
    "<tbody>\n",
    "<tr>\n",
    "<td style=\"text-align:left\">X̂</td>\n",
    "<td style=\"text-align:left\">N×OH×OW</td>\n",
    "<td style=\"text-align:left\">C×FH×FW</td>\n",
    "</tr>\n",
    "<tr>\n",
    "<td style=\"text-align:left\">Ŵ</td>\n",
    "<td style=\"text-align:left\">C×FH×FW</td>\n",
    "<td style=\"text-align:left\">FN</td>\n",
    "</tr>\n",
    "<tr>\n",
    "<td style=\"text-align:left\">Ŷ</td>\n",
    "<td style=\"text-align:left\">N×OH×OW</td>\n",
    "<td style=\"text-align:left\">FN</td>\n",
    "</tr>\n",
    "</tbody>\n",
    "</table>"
   ]
  },
  {
   "cell_type": "code",
   "execution_count": null,
   "id": "1807f3e5-7d0b-4367-9020-6bffa06a3c0e",
   "metadata": {},
   "outputs": [],
   "source": []
  },
  {
   "cell_type": "code",
   "execution_count": null,
   "id": "e8b0ddb9-23f1-4b84-a3f7-41705ec1e3dc",
   "metadata": {},
   "outputs": [],
   "source": []
  },
  {
   "cell_type": "markdown",
   "id": "809f1d3f-4bfa-4d97-90c6-06815034ffbf",
   "metadata": {},
   "source": [
    "### 7.4.4 Poolingレイヤの実装"
   ]
  },
  {
   "cell_type": "markdown",
   "id": "1230709d-77f5-4acb-abe8-00129248348a",
   "metadata": {},
   "source": [
    "\n"
   ]
  },
  {
   "cell_type": "code",
   "execution_count": 13,
   "id": "39c2de16-72ac-452e-a290-e4243d360a1a",
   "metadata": {},
   "outputs": [],
   "source": [
    "\n",
    "class Pooling:\n",
    "    def __init__(self, pool_h, pool_w, stride=2, pad=0):\n",
    "        self.pool_h = pool_h\n",
    "        self.pool_w = pool_w\n",
    "        self.stride = stride\n",
    "        self.pad = pad\n",
    "        \n",
    "        self.x = None\n",
    "        self.arg_max = None\n",
    "\n",
    "    def forward(self, x):\n",
    "        N, C, H, W = x.shape\n",
    "        out_h = int(1 + (H - self.pool_h) / self.stride)\n",
    "        out_w = int(1 + (W - self.pool_w) / self.stride)\n",
    "\n",
    "        col = im2col(x, self.pool_h, self.pool_w, self.stride, self.pad)\n",
    "        col = col.reshape(-1, self.pool_h*self.pool_w)\n",
    "\n",
    "        arg_max = np.argmax(col, axis=1)\n",
    "        out = np.max(col, axis=1)\n",
    "        out = out.reshape(N, out_h, out_w, C).transpose(0, 3, 1, 2)\n",
    "\n",
    "        self.x = x\n",
    "        self.arg_max = arg_max\n",
    "\n",
    "        return out\n",
    "\n",
    "    def backward(self, dout):\n",
    "        dout = dout.transpose(0, 2, 3, 1)\n",
    "        \n",
    "        pool_size = self.pool_h * self.pool_w\n",
    "        dmax = np.zeros((dout.size, pool_size))\n",
    "        dmax[np.arange(self.arg_max.size), self.arg_max.flatten()] = dout.flatten()\n",
    "        dmax = dmax.reshape(dout.shape + (pool_size,)) \n",
    "        \n",
    "        dcol = dmax.reshape(dmax.shape[0] * dmax.shape[1] * dmax.shape[2], -1)\n",
    "        dx = col2im(dcol, self.x.shape, self.pool_h, self.pool_w, self.stride, self.pad)\n",
    "        \n",
    "        return dx\n"
   ]
  },
  {
   "cell_type": "code",
   "execution_count": null,
   "id": "7f6f41c6-dab5-4750-9679-13d4b1edfa8f",
   "metadata": {},
   "outputs": [],
   "source": []
  },
  {
   "cell_type": "code",
   "execution_count": null,
   "id": "30584c7a-0960-454e-a6ab-4a01d003f543",
   "metadata": {},
   "outputs": [],
   "source": []
  },
  {
   "cell_type": "code",
   "execution_count": null,
   "id": "759bf6bd-24d0-4c74-8a88-b04166f75794",
   "metadata": {},
   "outputs": [],
   "source": []
  },
  {
   "cell_type": "code",
   "execution_count": null,
   "id": "027b284a-40f7-4b37-a57b-671dec516079",
   "metadata": {},
   "outputs": [],
   "source": []
  }
 ],
 "metadata": {
  "kernelspec": {
   "display_name": "Python 3",
   "language": "python",
   "name": "python3"
  },
  "language_info": {
   "codemirror_mode": {
    "name": "ipython",
    "version": 3
   },
   "file_extension": ".py",
   "mimetype": "text/x-python",
   "name": "python",
   "nbconvert_exporter": "python",
   "pygments_lexer": "ipython3",
   "version": "3.8.8"
  }
 },
 "nbformat": 4,
 "nbformat_minor": 5
}
