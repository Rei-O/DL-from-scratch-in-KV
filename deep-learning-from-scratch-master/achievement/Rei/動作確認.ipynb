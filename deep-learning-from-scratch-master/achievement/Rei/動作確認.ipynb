{
 "cells": [
  {
   "cell_type": "markdown",
   "metadata": {},
   "source": [
    "# Reras"
   ]
  },
  {
   "cell_type": "code",
   "execution_count": null,
   "metadata": {},
   "outputs": [],
   "source": [
    "from reras.models import NuralNet\n",
    "from reras.layers import *\n",
    "from pathlib import Path\n",
    "sys.path.append(os.path.join(os.path.join(Path().resolve(), '..'), '..'))  # 親ディレクトリの親ディレクトリのファイルをインポートするための設定\n",
    "from dataset.presentation.mnist import load_mnist\n",
    "\n",
    "(x_train, t_train), (x_test, t_test) = load_mnist(normalize=True, flatten=False, one_hot_label=True)\n",
    "\n",
    "# CNNのモデルを作成する\n",
    "model = NuralNet()\n",
    "model.add(Input(x_train.shape[1:]))\n",
    "model.add(Conv2D(64, (3,3), activation='relu'))\n",
    "model.add(MaxPooling2D(filter_size=(2,2),stride=2))\n",
    "model.add(Conv2D(32, (2,2), activation='relu'))\n",
    "model.add(MaxPooling2D(filter_size=(2,2),stride=2))\n",
    "model.add(Flatten())\n",
    "model.add(Dense(output_units=128, activation='relu'))\n",
    "model.add(Dense(output_units=10, activation='identify'))\n",
    "\n",
    "# 任意のオプティマイザと損失関数を設定してモデルをコンパイルする\n",
    "model.compile(optimizer='adam', loss='categorical_crossentropy' \\\n",
    "    , metrics='accuracy', output_units=10, batch_size=32)\n",
    "\n",
    "# レイヤ構成を表示\n",
    "model.summary()\n",
    "\n",
    "# モデルをトレーニングする\n",
    "model.fit(x_train=x_train, x_test=x_test, t_train=t_train, t_test=t_test, epochs=5)\n",
    "\n",
    "# テストデータで精度を確認する\n",
    "model.evalute(x_test, t_test)"
   ]
  },
  {
   "cell_type": "markdown",
   "metadata": {},
   "source": [
    "# Keras"
   ]
  },
  {
   "cell_type": "code",
   "execution_count": null,
   "metadata": {},
   "outputs": [],
   "source": [
    "\n",
    "import tensorflow as tf\n",
    "from tensorflow.keras.layers import Input, Conv2D, MaxPooling2D, Flatten, Dense\n",
    "\n",
    "# 0~9の手書き文字MNISTのデータセットを読み込む\n",
    "(training_images, training_labels), (test_images, test_labels) = tf.keras.datasets.mnist.load_data()\n",
    "# 画像データの形式を変更する\n",
    "training_images = training_images.reshape(training_images.shape[0], 28, 28, 1)\n",
    "test_images = test_images.reshape(test_images.shape[0], 28, 28, 1)\n",
    "# 画像データを正規化する\n",
    "training_images = training_images / 255.0\n",
    "test_images = test_images / 255.0\n",
    "# ラベルデータを1-of-K表現にする\n",
    "training_labels = tf.keras.utils.to_categorical(training_labels)\n",
    "test_labels = tf.keras.utils.to_categorical(test_labels)\n",
    "\n",
    "# CNNのモデルを作成する\n",
    "model = tf.keras.models.Sequential()\n",
    "model.add(Input(shape=(28, 28, 1)))\n",
    "model.add(Conv2D(64, (3,3), activation='relu'))\n",
    "model.add(MaxPooling2D(2,2))\n",
    "model.add(Conv2D(32, (3,3), activation='relu'))\n",
    "model.add(MaxPooling2D(2,2))\n",
    "model.add(Flatten())\n",
    "model.add(Dense(128, activation='relu'))\n",
    "model.add(Dense(10, activation='softmax'))\n",
    "\n",
    "# 任意のオプティマイザと損失関数を設定してモデルをコンパイルする\n",
    "model.compile(optimizer='adam', loss='categorical_crossentropy' \\\n",
    "    , metrics=['accuracy'])\n",
    "\n",
    "# モデルを表示する\n",
    "model.summary()\n",
    "\n",
    "# モデルをトレーニングする\n",
    "model.fit(training_images, training_labels, epochs=5)\n",
    "\n",
    "# テストデータで精度を確認する\n",
    "test_loss = model.evaluate(test_images, test_labels)\n"
   ]
  }
 ],
 "metadata": {
  "interpreter": {
   "hash": "86c3969cb8e4d6528009ba441e3b227910147fcb8261d5b261fbcbb462fd60ef"
  },
  "kernelspec": {
   "display_name": "Python 3.7.6 ('base')",
   "language": "python",
   "name": "python3"
  },
  "language_info": {
   "name": "python",
   "version": "3.7.6"
  },
  "orig_nbformat": 4
 },
 "nbformat": 4,
 "nbformat_minor": 2
}
