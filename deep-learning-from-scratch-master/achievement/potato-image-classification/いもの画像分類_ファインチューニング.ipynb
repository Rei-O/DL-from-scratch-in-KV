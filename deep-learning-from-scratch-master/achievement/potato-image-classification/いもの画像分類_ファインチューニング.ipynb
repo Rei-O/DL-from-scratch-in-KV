{
  "nbformat": 4,
  "nbformat_minor": 0,
  "metadata": {
    "colab": {
      "name": "いもの画像分類_ファインチューニング.ipynb",
      "provenance": []
    },
    "kernelspec": {
      "name": "python3",
      "display_name": "Python 3"
    },
    "language_info": {
      "name": "python"
    }
  },
  "cells": [
    {
      "cell_type": "markdown",
      "source": [
        "# 環境構築"
      ],
      "metadata": {
        "id": "dqYjVugTPFdd"
      }
    },
    {
      "cell_type": "markdown",
      "source": [
        "### GPU&バージョン確認\n",
        "\n",
        "GPUインスタンスに接続できているかを確認します．接続できれば、“GPUゲットだぜ！”と表示"
      ],
      "metadata": {
        "id": "GfCOp0rpPHAr"
      }
    },
    {
      "cell_type": "code",
      "source": [
        "import tensorflow as tf\n",
        "\n",
        "if tf.test.gpu_device_name() == \"/device:GPU:0\":\n",
        "  print(\"GPUゲットだぜ！\")\n",
        "else:\n",
        "  print(\"逃した…\")\n",
        "\n",
        "print(\"TensorFlow:\", tf.__version__)"
      ],
      "metadata": {
        "colab": {
          "base_uri": "https://localhost:8080/"
        },
        "id": "AhUrkslAsn-A",
        "outputId": "e49ea701-0d4c-4404-9714-18e209e52a62"
      },
      "execution_count": 1,
      "outputs": [
        {
          "output_type": "stream",
          "name": "stdout",
          "text": [
            "逃した…\n",
            "TensorFlow: 2.8.0\n"
          ]
        }
      ]
    },
    {
      "cell_type": "code",
      "execution_count": 2,
      "metadata": {
        "colab": {
          "base_uri": "https://localhost:8080/"
        },
        "id": "H3BIBgfyrz2b",
        "outputId": "e355d25f-78f8-4448-d743-55227ee94d96"
      },
      "outputs": [
        {
          "output_type": "stream",
          "name": "stdout",
          "text": [
            "Mounted at /content/drive\n"
          ]
        }
      ],
      "source": [
        "#ドライブをマウントする\n",
        "from google.colab import drive\n",
        "drive.mount('/content/drive')"
      ]
    },
    {
      "cell_type": "markdown",
      "source": [
        "### データセットの読み込み\n",
        "\n",
        "画像データは255で割ることにより値が0.0-1.0に収まるように変換します．\n",
        "\n",
        "ラベルデータは，One-Hot形式に変換します．"
      ],
      "metadata": {
        "id": "d6tiGhfUPV22"
      }
    },
    {
      "cell_type": "code",
      "source": [
        "#カレントディレクトリに移動\n",
        "%cd \"/content/drive/My Drive/Colab Notebooks\""
      ],
      "metadata": {
        "colab": {
          "base_uri": "https://localhost:8080/"
        },
        "id": "9jXvrecYr3Vm",
        "outputId": "08b32fb9-23b8-44dd-fde2-4045811d0dd0"
      },
      "execution_count": 3,
      "outputs": [
        {
          "output_type": "stream",
          "name": "stdout",
          "text": [
            "/content/drive/My Drive/Colab Notebooks\n"
          ]
        }
      ]
    },
    {
      "cell_type": "code",
      "source": [
        "import os\n",
        "import cv2\n",
        "import numpy as np\n",
        "import glob as glob\n",
        "from sklearn.model_selection import train_test_split\n",
        "from keras.utils import np_utils\n",
        "\n",
        "\n",
        "#フォルダをクラス名にする\n",
        "path_1 = \"img/training\"\n",
        "path_2 = \"img/testing\"\n",
        "folders = os.listdir(path_1)\n",
        "\n",
        "#フォルダ名を抽出\n",
        "classes = [f for f in folders if os.path.isdir(os.path.join(path_1, f))]\n",
        "n_classes = len(classes)\n",
        "\n",
        "\n",
        "#画像とラベルの格納\n",
        "X_train = []\n",
        "Y_train = []\n",
        "X_test = []\n",
        "Y_test = []\n",
        "\n",
        "#訓練画像を読み込みリサイズする\n",
        "for label,class_name in enumerate(classes):\n",
        "  files = glob.glob(path_1 + \"/\" +  class_name + \"/*\")\n",
        "  for file in files:\n",
        "    img = cv2.imread(file)\n",
        "    img = cv2.resize(img,dsize=(224,224))\n",
        "    X_train.append(img)\n",
        "    Y_train.append(label)\n",
        "\n",
        "#精度を上げるために正規化\n",
        "X_train = np.array(X_train)\n",
        "X_train = X_train.astype('float32')\n",
        "X_train /= 255.0\n",
        "\n",
        "#ラベルの変換\n",
        "Y_train = np.array(Y_train)\n",
        "Y_train = np_utils.to_categorical(Y_train,n_classes)\n",
        "Y_train[:5]\n",
        "\n",
        "#テスト画像を読み込みリサイズする\n",
        "for label,class_name in enumerate(classes):\n",
        "  files = glob.glob(path_2 + \"/\" +  class_name + \"/*\")\n",
        "  for file in files:\n",
        "    img = cv2.imread(file)\n",
        "    img = cv2.resize(img,dsize=(224,224))\n",
        "    X_test.append(img)\n",
        "    Y_test.append(label)\n",
        "\n",
        "#精度を上げるために正規化\n",
        "X_test = np.array(X_test)\n",
        "X_test = X_test.astype('float32')\n",
        "X_test /= 255.0\n",
        "\n",
        "#ラベルの変換\n",
        "Y_test = np.array(Y_test)\n",
        "Y_test = np_utils.to_categorical(Y_test,n_classes)\n",
        "Y_test[:5]\n",
        "\n",
        "#学習データの数と特徴量\n",
        "print(X_train.shape)\n",
        "#テストデータの数と特徴量\n",
        "print(X_test.shape)\n",
        "#学習データ数とクラス\n",
        "print(Y_train.shape)\n",
        "#テストデータ数とクラス\n",
        "print(Y_test.shape)"
      ],
      "metadata": {
        "colab": {
          "base_uri": "https://localhost:8080/"
        },
        "id": "s9lj9XtHr_8H",
        "outputId": "14ef8851-5639-40c1-c1c7-bd331746fa27"
      },
      "execution_count": 4,
      "outputs": [
        {
          "output_type": "stream",
          "name": "stdout",
          "text": [
            "(258, 224, 224, 3)\n",
            "(50, 224, 224, 3)\n",
            "(258, 5)\n",
            "(50, 5)\n"
          ]
        }
      ]
    },
    {
      "cell_type": "markdown",
      "source": [
        "# VGG16によるファインチューニング\n",
        "\n"
      ],
      "metadata": {
        "id": "68Z8SKkZPbLt"
      }
    },
    {
      "cell_type": "code",
      "source": [
        "from keras.applications.vgg16 import VGG16\n",
        "from keras.models import Sequential\n",
        "from keras.models import model_from_json\n",
        "from keras.models import Model\n",
        "from keras.layers import Input, Activation, merge, Dense, Flatten, Dropout\n",
        "from tensorflow.keras.optimizers import Adam\n",
        "\n",
        "#vgg16\n",
        "input_tensor = Input(shape=(224,224,3))\n",
        "#最後の1000の層を省く\n",
        "base_model = VGG16(weights='imagenet', input_tensor=input_tensor,include_top=False)\n",
        "\n",
        "\n",
        "#後付けで入れたい層の作成\n",
        "top_model = Sequential()\n",
        "top_model.add(Flatten(input_shape=base_model.output_shape[1:]))\n",
        "top_model.add(Dense(n_classes, activation='softmax'))\n",
        "\n",
        "\n",
        "#結合\n",
        "model = Model(inputs=base_model.input, outputs=top_model(base_model.output))\n",
        "\n",
        "\n",
        "#学習させない層\n",
        "for layer in model.layers[:15]:\n",
        "  layer.trainable = False\n",
        "\n",
        "print('# layers=', len(model.layers))\n",
        "\n",
        "model.compile(loss='categorical_crossentropy',optimizer='adam',metrics=['accuracy'])\n",
        "\n",
        "model.summary()"
      ],
      "metadata": {
        "colab": {
          "base_uri": "https://localhost:8080/"
        },
        "id": "xM_G8daCshnY",
        "outputId": "98adb2e0-6ac5-4233-8962-9638b27936fe"
      },
      "execution_count": 5,
      "outputs": [
        {
          "output_type": "stream",
          "name": "stdout",
          "text": [
            "Downloading data from https://storage.googleapis.com/tensorflow/keras-applications/vgg16/vgg16_weights_tf_dim_ordering_tf_kernels_notop.h5\n",
            "58892288/58889256 [==============================] - 2s 0us/step\n",
            "58900480/58889256 [==============================] - 2s 0us/step\n",
            "# layers= 20\n",
            "Model: \"model\"\n",
            "_________________________________________________________________\n",
            " Layer (type)                Output Shape              Param #   \n",
            "=================================================================\n",
            " input_1 (InputLayer)        [(None, 224, 224, 3)]     0         \n",
            "                                                                 \n",
            " block1_conv1 (Conv2D)       (None, 224, 224, 64)      1792      \n",
            "                                                                 \n",
            " block1_conv2 (Conv2D)       (None, 224, 224, 64)      36928     \n",
            "                                                                 \n",
            " block1_pool (MaxPooling2D)  (None, 112, 112, 64)      0         \n",
            "                                                                 \n",
            " block2_conv1 (Conv2D)       (None, 112, 112, 128)     73856     \n",
            "                                                                 \n",
            " block2_conv2 (Conv2D)       (None, 112, 112, 128)     147584    \n",
            "                                                                 \n",
            " block2_pool (MaxPooling2D)  (None, 56, 56, 128)       0         \n",
            "                                                                 \n",
            " block3_conv1 (Conv2D)       (None, 56, 56, 256)       295168    \n",
            "                                                                 \n",
            " block3_conv2 (Conv2D)       (None, 56, 56, 256)       590080    \n",
            "                                                                 \n",
            " block3_conv3 (Conv2D)       (None, 56, 56, 256)       590080    \n",
            "                                                                 \n",
            " block3_pool (MaxPooling2D)  (None, 28, 28, 256)       0         \n",
            "                                                                 \n",
            " block4_conv1 (Conv2D)       (None, 28, 28, 512)       1180160   \n",
            "                                                                 \n",
            " block4_conv2 (Conv2D)       (None, 28, 28, 512)       2359808   \n",
            "                                                                 \n",
            " block4_conv3 (Conv2D)       (None, 28, 28, 512)       2359808   \n",
            "                                                                 \n",
            " block4_pool (MaxPooling2D)  (None, 14, 14, 512)       0         \n",
            "                                                                 \n",
            " block5_conv1 (Conv2D)       (None, 14, 14, 512)       2359808   \n",
            "                                                                 \n",
            " block5_conv2 (Conv2D)       (None, 14, 14, 512)       2359808   \n",
            "                                                                 \n",
            " block5_conv3 (Conv2D)       (None, 14, 14, 512)       2359808   \n",
            "                                                                 \n",
            " block5_pool (MaxPooling2D)  (None, 7, 7, 512)         0         \n",
            "                                                                 \n",
            " sequential (Sequential)     (None, 5)                 125445    \n",
            "                                                                 \n",
            "=================================================================\n",
            "Total params: 14,840,133\n",
            "Trainable params: 7,204,869\n",
            "Non-trainable params: 7,635,264\n",
            "_________________________________________________________________\n"
          ]
        }
      ]
    },
    {
      "cell_type": "code",
      "source": [
        "#学習データで学習\n",
        "model.fit(X_train, Y_train, epochs=20, batch_size=16, validation_data=(X_test, Y_test))"
      ],
      "metadata": {
        "colab": {
          "base_uri": "https://localhost:8080/"
        },
        "id": "PVraNPkjtEf1",
        "outputId": "263a6320-2ffa-44f0-ad4d-f9c55ee18352"
      },
      "execution_count": 6,
      "outputs": [
        {
          "output_type": "stream",
          "name": "stdout",
          "text": [
            "Epoch 1/20\n",
            "17/17 [==============================] - 186s 11s/step - loss: 2.3702 - accuracy: 0.1977 - val_loss: 1.6380 - val_accuracy: 0.2000\n",
            "Epoch 2/20\n",
            "17/17 [==============================] - 183s 11s/step - loss: 1.5738 - accuracy: 0.2791 - val_loss: 1.7773 - val_accuracy: 0.2000\n",
            "Epoch 3/20\n",
            "17/17 [==============================] - 184s 11s/step - loss: 1.6322 - accuracy: 0.2752 - val_loss: 1.6691 - val_accuracy: 0.2000\n",
            "Epoch 4/20\n",
            "17/17 [==============================] - 183s 11s/step - loss: 1.5644 - accuracy: 0.2868 - val_loss: 1.6695 - val_accuracy: 0.2000\n",
            "Epoch 5/20\n",
            "17/17 [==============================] - 183s 11s/step - loss: 1.5586 - accuracy: 0.2791 - val_loss: 1.6095 - val_accuracy: 0.2000\n",
            "Epoch 6/20\n",
            "17/17 [==============================] - 183s 11s/step - loss: 1.6081 - accuracy: 0.1822 - val_loss: 1.6095 - val_accuracy: 0.2000\n",
            "Epoch 7/20\n",
            "17/17 [==============================] - 183s 11s/step - loss: 1.6064 - accuracy: 0.2868 - val_loss: 1.6096 - val_accuracy: 0.2000\n",
            "Epoch 8/20\n",
            "17/17 [==============================] - 183s 11s/step - loss: 1.6045 - accuracy: 0.2868 - val_loss: 1.6097 - val_accuracy: 0.2000\n",
            "Epoch 9/20\n",
            "17/17 [==============================] - 184s 11s/step - loss: 1.6027 - accuracy: 0.2868 - val_loss: 1.6099 - val_accuracy: 0.2000\n",
            "Epoch 10/20\n",
            "17/17 [==============================] - 183s 11s/step - loss: 1.6013 - accuracy: 0.2868 - val_loss: 1.6100 - val_accuracy: 0.2000\n",
            "Epoch 11/20\n",
            "17/17 [==============================] - 183s 11s/step - loss: 1.6001 - accuracy: 0.2868 - val_loss: 1.6102 - val_accuracy: 0.2000\n",
            "Epoch 12/20\n",
            "17/17 [==============================] - 183s 11s/step - loss: 1.5987 - accuracy: 0.2868 - val_loss: 1.6105 - val_accuracy: 0.2000\n",
            "Epoch 13/20\n",
            "17/17 [==============================] - 183s 11s/step - loss: 1.5972 - accuracy: 0.2868 - val_loss: 1.6108 - val_accuracy: 0.2000\n",
            "Epoch 14/20\n",
            "17/17 [==============================] - 184s 11s/step - loss: 1.5957 - accuracy: 0.2868 - val_loss: 1.6111 - val_accuracy: 0.2000\n",
            "Epoch 15/20\n",
            "17/17 [==============================] - 183s 11s/step - loss: 1.5947 - accuracy: 0.2868 - val_loss: 1.6114 - val_accuracy: 0.2000\n",
            "Epoch 16/20\n",
            "17/17 [==============================] - 183s 11s/step - loss: 1.5935 - accuracy: 0.2868 - val_loss: 1.6117 - val_accuracy: 0.2000\n",
            "Epoch 17/20\n",
            "17/17 [==============================] - 183s 11s/step - loss: 1.5925 - accuracy: 0.2868 - val_loss: 1.6121 - val_accuracy: 0.2000\n",
            "Epoch 18/20\n",
            "17/17 [==============================] - 183s 11s/step - loss: 1.5914 - accuracy: 0.2868 - val_loss: 1.6125 - val_accuracy: 0.2000\n",
            "Epoch 19/20\n",
            "17/17 [==============================] - 185s 11s/step - loss: 1.5904 - accuracy: 0.2868 - val_loss: 1.6128 - val_accuracy: 0.2000\n",
            "Epoch 20/20\n",
            "17/17 [==============================] - 184s 11s/step - loss: 1.5896 - accuracy: 0.2868 - val_loss: 1.6132 - val_accuracy: 0.2000\n"
          ]
        },
        {
          "output_type": "execute_result",
          "data": {
            "text/plain": [
              "<keras.callbacks.History at 0x7f9aef8211d0>"
            ]
          },
          "metadata": {},
          "execution_count": 6
        }
      ]
    },
    {
      "cell_type": "code",
      "source": [
        "import pickle\n",
        "#クラス名の保存\n",
        "pickle.dump(classes, open('classes.sav', 'wb'))\n",
        "#モデルの保存\n",
        "model.save('cnn3.h5')"
      ],
      "metadata": {
        "id": "JHkm3h-RtF_0"
      },
      "execution_count": 7,
      "outputs": []
    },
    {
      "cell_type": "markdown",
      "source": [
        "テストデータの所属確率を計算"
      ],
      "metadata": {
        "id": "5qmAVRipp1DQ"
      }
    },
    {
      "cell_type": "code",
      "source": [
        "# テストデータのクラスへの所属確率\n",
        "a_pred_P = model.predict(X_test, batch_size=128, verbose=1)\n",
        "# テストデータの所属クラスID(0-4)\n",
        "classes_x = np.argmax(a_pred_P,axis=1)\n",
        "print(classes_x)\n",
        "# テストデータのクラスへの所属確率をNumPy形式で保存\n",
        "np.save('Potato-Feature-Pred.npy', a_pred_P)\n",
        "# DNN特徴量で訓練したニューラルネットワークでの平均分類精度の計算\n",
        "accuracy = model.evaluate(X_test, Y_test, batch_size=128, verbose=1)\n",
        "print('分類精度:DNN(VGG16) = {:.4f}'.format(accuracy[1]))"
      ],
      "metadata": {
        "colab": {
          "base_uri": "https://localhost:8080/"
        },
        "id": "WZeTyRKsp9Sf",
        "outputId": "1d875805-ff7b-4be1-f468-0c275b084f46"
      },
      "execution_count": 9,
      "outputs": [
        {
          "output_type": "stream",
          "name": "stdout",
          "text": [
            "1/1 [==============================] - 27s 27s/step\n",
            "[2 2 2 2 2 2 2 2 2 2 2 2 2 2 2 2 2 2 2 2 2 2 2 2 2 2 2 2 2 2 2 2 2 2 2 2 2\n",
            " 2 2 2 2 2 2 2 2 2 2 2 2 2]\n",
            "1/1 [==============================] - 25s 25s/step - loss: 1.6132 - accuracy: 0.2000\n",
            "分類精度:DNN(VGG16) = 0.2000\n"
          ]
        }
      ]
    },
    {
      "cell_type": "code",
      "source": [
        "# Matplotlibのフォントの制御（大きさや種類）\n",
        "import matplotlib.pyplot as plt \n",
        "import matplotlib.font_manager as fm\n",
        "import matplotlib.patheffects as path_effects"
      ],
      "metadata": {
        "id": "qCnkmBF0qHYX"
      },
      "execution_count": 10,
      "outputs": []
    },
    {
      "cell_type": "code",
      "source": [
        "%matplotlib inline\n",
        "import matplotlib.pyplot as plt\n",
        "from matplotlib import pylab\n",
        "from sklearn.metrics import confusion_matrix\n",
        "import itertools\n",
        "def plot_confusion_matrix_vgg(cm, classes,\n",
        "                          normalize=False,\n",
        "                          title='Confusion Matrix',\n",
        "                          cmap=plt.cm.Oranges):\n",
        "    \"\"\"\n",
        "    This function prints and plots the confusion matrix.\n",
        "    Normalization can be applied by setting `normalize=True`.\n",
        "    \"\"\"\n",
        "    plt.figure(figsize=(14,10))\n",
        "    plt.imshow(cm, interpolation='nearest', cmap=cmap)\n",
        "    plt.title(title,fontsize=25)\n",
        "    cb = plt.colorbar()\n",
        "    cb.ax.tick_params(labelsize=15)\n",
        "    tick_marks = np.arange(len(classes))\n",
        "    plt.xticks(tick_marks, classes, rotation=45,fontsize=15)\n",
        "    plt.yticks(tick_marks, classes,fontsize=15)\n",
        "\n",
        "    if normalize:\n",
        "        cm = cm.astype('float') / cm.sum(axis=1)[:, np.newaxis]\n",
        "\n",
        "    thresh = cm.max() / 2.\n",
        "    for i, j in itertools.product(range(cm.shape[0]), range(cm.shape[1])):\n",
        "        plt.text(j, i, cm[i, j],\n",
        "                 horizontalalignment=\"center\", fontsize=15,\n",
        "                 color=\"white\" if cm[i, j] > thresh else \"black\")\n",
        "\n",
        "    #plt.tight_layout()\n",
        "    plt.ylabel('predicted value',fontsize=25)\n",
        "    plt.xlabel('true value',fontsize=25)\n",
        "    plt.savefig('potato-vgg-ConfusionMatrix_FT.jpg')\n",
        "    plt.savefig('potato-vgg-ConfusionMatrix_FT.pdf')"
      ],
      "metadata": {
        "id": "pIYBwVo_qKti"
      },
      "execution_count": 11,
      "outputs": []
    },
    {
      "cell_type": "code",
      "source": [
        "# ファインチューニングで訓練したニューラルネットワークでの予測手法の混合行列計算と描画\n",
        "test_truth = np.argmax(Y_test,axis=1)\n",
        "a_cm = confusion_matrix(classes_x, test_truth) \n",
        "plot_confusion_matrix_vgg(a_cm, classes=classes, title='DNN Feature Value(VGG16)')\n",
        "plt.show() "
      ],
      "metadata": {
        "colab": {
          "base_uri": "https://localhost:8080/",
          "height": 726
        },
        "id": "cdLjSwZkqUdh",
        "outputId": "1fc91ae8-efe1-4768-ac32-90b6a9931b50"
      },
      "execution_count": 12,
      "outputs": [
        {
          "output_type": "display_data",
          "data": {
            "text/plain": [
              "<Figure size 1008x720 with 2 Axes>"
            ],
            "image/png": "[encoded data removed]"
          },
          "metadata": {
            "needs_background": "light"
          }
        }
      ]
    }
  ]
}