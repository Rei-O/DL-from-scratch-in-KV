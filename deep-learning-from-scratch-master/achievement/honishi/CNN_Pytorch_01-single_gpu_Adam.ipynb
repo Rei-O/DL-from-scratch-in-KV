{
 "cells": [
  {
   "cell_type": "code",
   "execution_count": 1,
   "metadata": {
    "id": "SK2aCCVAc9bl"
   },
   "outputs": [],
   "source": [
    "#!pip install opencv-contrib-python"
   ]
  },
  {
   "cell_type": "code",
   "execution_count": 2,
   "metadata": {
    "id": "Qm9krud37SaT"
   },
   "outputs": [],
   "source": [
    "#!pip install Pillow"
   ]
  },
  {
   "cell_type": "code",
   "execution_count": 3,
   "metadata": {
    "id": "rM6Qgc68dair"
   },
   "outputs": [],
   "source": [
    "import os\n",
    "import numpy as np\n",
    "import pandas as pd\n",
    "import matplotlib.pyplot as plt\n",
    "%matplotlib inline\n",
    "import glob\n",
    "import cv2\n",
    "#from google.colab.patches import cv2_imshow\n",
    "import torch\n",
    "import torchvision\n",
    "import torch.nn as nn\n",
    "from torchvision import transforms\n",
    "from sklearn.model_selection import train_test_split\n",
    "from torch.utils.data import TensorDataset, DataLoader, Dataset\n",
    "from torch import optim\n",
    "\n",
    "from PIL import Image\n",
    "import shutil\n",
    "import glob\n",
    "import re\n",
    "\n",
    "from tqdm import tqdm"
   ]
  },
  {
   "cell_type": "code",
   "execution_count": 4,
   "metadata": {
    "id": "0nQIl_CN7SaU"
   },
   "outputs": [],
   "source": [
    "if os.path.exists(\"./train_aug\") == True:\n",
    "    shutil.rmtree(\"./train_aug\")\n",
    "if os.path.exists(\"./train_orig\") == True:\n",
    "    shutil.rmtree(\"./train_orig\")"
   ]
  },
  {
   "cell_type": "code",
   "execution_count": 5,
   "metadata": {
    "id": "aAaZMNJZddd7"
   },
   "outputs": [],
   "source": [
    "BASE_PATH = '.'"
   ]
  },
  {
   "cell_type": "code",
   "execution_count": 6,
   "metadata": {
    "id": "lsmP1ABy7SaV",
    "outputId": "226011db-4a22-4181-c6df-685f8b1860e1"
   },
   "outputs": [
    {
     "data": {
      "text/plain": [
       "'./train_aug'"
      ]
     },
     "execution_count": 6,
     "metadata": {},
     "output_type": "execute_result"
    }
   ],
   "source": [
    "shutil.copytree(f\"{BASE_PATH}/train\", f\"{BASE_PATH}/train_orig\")\n",
    "shutil.copytree(f\"{BASE_PATH}/train\", f\"{BASE_PATH}/train_aug\")"
   ]
  },
  {
   "cell_type": "code",
   "execution_count": 7,
   "metadata": {
    "colab": {
     "base_uri": "https://localhost:8080/"
    },
    "executionInfo": {
     "elapsed": 1217,
     "status": "ok",
     "timestamp": 1634829610160,
     "user": {
      "displayName": "Hiroyuki Onishi",
      "photoUrl": "https://lh3.googleusercontent.com/a/default-user=s64",
      "userId": "06117648582669754644"
     },
     "user_tz": -540
    },
    "id": "tbsNSTIrv0BO",
    "outputId": "63dd7d9b-74ef-4295-b4f5-77c7c6f1f475",
    "tags": []
   },
   "outputs": [
    {
     "name": "stdout",
     "output_type": "stream",
     "text": [
      "Sun May 29 20:30:56 2022       \n",
      "+-----------------------------------------------------------------------------+\n",
      "| NVIDIA-SMI 510.68.02    Driver Version: 512.77       CUDA Version: 11.6     |\n",
      "|-------------------------------+----------------------+----------------------+\n",
      "| GPU  Name        Persistence-M| Bus-Id        Disp.A | Volatile Uncorr. ECC |\n",
      "| Fan  Temp  Perf  Pwr:Usage/Cap|         Memory-Usage | GPU-Util  Compute M. |\n",
      "|                               |                      |               MIG M. |\n",
      "|===============================+======================+======================|\n",
      "|   0  NVIDIA GeForce ...  On   | 00000000:0B:00.0  On |                  N/A |\n",
      "| 37%   54C    P8    23W / 370W |  17077MiB / 24576MiB |     15%      Default |\n",
      "|                               |                      |                  N/A |\n",
      "+-------------------------------+----------------------+----------------------+\n",
      "|   1  NVIDIA GeForce ...  On   | 00000000:0C:00.0 Off |                  N/A |\n",
      "|  0%   37C    P8    18W / 370W |   8596MiB / 24576MiB |      0%      Default |\n",
      "|                               |                      |                  N/A |\n",
      "+-------------------------------+----------------------+----------------------+\n",
      "                                                                               \n",
      "+-----------------------------------------------------------------------------+\n",
      "| Processes:                                                                  |\n",
      "|  GPU   GI   CI        PID   Type   Process name                  GPU Memory |\n",
      "|        ID   ID                                                   Usage      |\n",
      "|=============================================================================|\n",
      "|    0   N/A  N/A       328      C   /python3.9                      N/A      |\n",
      "|    0   N/A  N/A       328      C   /python3.9                      N/A      |\n",
      "|    0   N/A  N/A      6880      C   /python3.9                      N/A      |\n",
      "|    0   N/A  N/A      6932      C   /python3.9                      N/A      |\n",
      "|    0   N/A  N/A      6932      C   /python3.9                      N/A      |\n",
      "|    1   N/A  N/A       328      C   /python3.9                      N/A      |\n",
      "|    1   N/A  N/A       328      C   /python3.9                      N/A      |\n",
      "|    1   N/A  N/A      6880      C   /python3.9                      N/A      |\n",
      "|    1   N/A  N/A      6932      C   /python3.9                      N/A      |\n",
      "|    1   N/A  N/A      6932      C   /python3.9                      N/A      |\n",
      "+-----------------------------------------------------------------------------+\n"
     ]
    }
   ],
   "source": [
    "!nvidia-smi"
   ]
  },
  {
   "cell_type": "code",
   "execution_count": 8,
   "metadata": {
    "colab": {
     "base_uri": "https://localhost:8080/"
    },
    "executionInfo": {
     "elapsed": 22,
     "status": "ok",
     "timestamp": 1634829610161,
     "user": {
      "displayName": "Hiroyuki Onishi",
      "photoUrl": "https://lh3.googleusercontent.com/a/default-user=s64",
      "userId": "06117648582669754644"
     },
     "user_tz": -540
    },
    "id": "hINR9veXVSuY",
    "outputId": "407c03b6-2bd9-4ae3-f7c3-d950ae3279c5"
   },
   "outputs": [
    {
     "name": "stdout",
     "output_type": "stream",
     "text": [
      "cuda:0\n"
     ]
    }
   ],
   "source": [
    "device = torch.device(\"cuda:0\" if torch.cuda.is_available() else \"cpu\")\n",
    "#device = \"cpu\"\n",
    "'''\n",
    "gpu_ids = [0, 1]\n",
    "if torch.cuda.is_available():\n",
    "    device = torch.device(f'cuda:{gpu_ids[0]}')\n",
    "else:\n",
    "    device = torch.device('cpu')\n",
    "'''\n",
    "print(device)"
   ]
  },
  {
   "cell_type": "code",
   "execution_count": 9,
   "metadata": {
    "id": "MRPFDvDxdksg"
   },
   "outputs": [],
   "source": [
    "train_df = pd.read_csv(f'{BASE_PATH}/train_master.tsv', sep='\\t')"
   ]
  },
  {
   "cell_type": "code",
   "execution_count": 10,
   "metadata": {
    "colab": {
     "base_uri": "https://localhost:8080/",
     "height": 419
    },
    "executionInfo": {
     "elapsed": 21,
     "status": "ok",
     "timestamp": 1634829610162,
     "user": {
      "displayName": "Hiroyuki Onishi",
      "photoUrl": "https://lh3.googleusercontent.com/a/default-user=s64",
      "userId": "06117648582669754644"
     },
     "user_tz": -540
    },
    "id": "c2LPIq_6dqyv",
    "outputId": "9d98e821-733e-45ea-8bed-ccf082e89d33"
   },
   "outputs": [
    {
     "data": {
      "text/html": [
       "<div>\n",
       "<style scoped>\n",
       "    .dataframe tbody tr th:only-of-type {\n",
       "        vertical-align: middle;\n",
       "    }\n",
       "\n",
       "    .dataframe tbody tr th {\n",
       "        vertical-align: top;\n",
       "    }\n",
       "\n",
       "    .dataframe thead th {\n",
       "        text-align: right;\n",
       "    }\n",
       "</style>\n",
       "<table border=\"1\" class=\"dataframe\">\n",
       "  <thead>\n",
       "    <tr style=\"text-align: right;\">\n",
       "      <th></th>\n",
       "      <th>id</th>\n",
       "      <th>userid</th>\n",
       "      <th>pose</th>\n",
       "      <th>expression</th>\n",
       "      <th>eyes</th>\n",
       "    </tr>\n",
       "  </thead>\n",
       "  <tbody>\n",
       "    <tr>\n",
       "      <th>0</th>\n",
       "      <td>train_0000.jpg</td>\n",
       "      <td>choon</td>\n",
       "      <td>straight</td>\n",
       "      <td>angry</td>\n",
       "      <td>open</td>\n",
       "    </tr>\n",
       "    <tr>\n",
       "      <th>1</th>\n",
       "      <td>train_0001.jpg</td>\n",
       "      <td>kk49</td>\n",
       "      <td>straight</td>\n",
       "      <td>angry</td>\n",
       "      <td>open</td>\n",
       "    </tr>\n",
       "    <tr>\n",
       "      <th>2</th>\n",
       "      <td>train_0002.jpg</td>\n",
       "      <td>phoebe</td>\n",
       "      <td>right</td>\n",
       "      <td>sad</td>\n",
       "      <td>sunglasses</td>\n",
       "    </tr>\n",
       "    <tr>\n",
       "      <th>3</th>\n",
       "      <td>train_0003.jpg</td>\n",
       "      <td>kawamura</td>\n",
       "      <td>left</td>\n",
       "      <td>neutral</td>\n",
       "      <td>sunglasses</td>\n",
       "    </tr>\n",
       "    <tr>\n",
       "      <th>4</th>\n",
       "      <td>train_0004.jpg</td>\n",
       "      <td>an2i</td>\n",
       "      <td>left</td>\n",
       "      <td>happy</td>\n",
       "      <td>sunglasses</td>\n",
       "    </tr>\n",
       "    <tr>\n",
       "      <th>...</th>\n",
       "      <td>...</td>\n",
       "      <td>...</td>\n",
       "      <td>...</td>\n",
       "      <td>...</td>\n",
       "      <td>...</td>\n",
       "    </tr>\n",
       "    <tr>\n",
       "      <th>307</th>\n",
       "      <td>train_0307.jpg</td>\n",
       "      <td>karyadi</td>\n",
       "      <td>straight</td>\n",
       "      <td>neutral</td>\n",
       "      <td>open</td>\n",
       "    </tr>\n",
       "    <tr>\n",
       "      <th>308</th>\n",
       "      <td>train_0308.jpg</td>\n",
       "      <td>kk49</td>\n",
       "      <td>straight</td>\n",
       "      <td>neutral</td>\n",
       "      <td>open</td>\n",
       "    </tr>\n",
       "    <tr>\n",
       "      <th>309</th>\n",
       "      <td>train_0309.jpg</td>\n",
       "      <td>karyadi</td>\n",
       "      <td>left</td>\n",
       "      <td>neutral</td>\n",
       "      <td>sunglasses</td>\n",
       "    </tr>\n",
       "    <tr>\n",
       "      <th>310</th>\n",
       "      <td>train_0310.jpg</td>\n",
       "      <td>at33</td>\n",
       "      <td>left</td>\n",
       "      <td>happy</td>\n",
       "      <td>open</td>\n",
       "    </tr>\n",
       "    <tr>\n",
       "      <th>311</th>\n",
       "      <td>train_0311.jpg</td>\n",
       "      <td>danieln</td>\n",
       "      <td>left</td>\n",
       "      <td>angry</td>\n",
       "      <td>open</td>\n",
       "    </tr>\n",
       "  </tbody>\n",
       "</table>\n",
       "<p>312 rows × 5 columns</p>\n",
       "</div>"
      ],
      "text/plain": [
       "                 id    userid      pose expression        eyes\n",
       "0    train_0000.jpg     choon  straight      angry        open\n",
       "1    train_0001.jpg      kk49  straight      angry        open\n",
       "2    train_0002.jpg    phoebe     right        sad  sunglasses\n",
       "3    train_0003.jpg  kawamura      left    neutral  sunglasses\n",
       "4    train_0004.jpg      an2i      left      happy  sunglasses\n",
       "..              ...       ...       ...        ...         ...\n",
       "307  train_0307.jpg   karyadi  straight    neutral        open\n",
       "308  train_0308.jpg      kk49  straight    neutral        open\n",
       "309  train_0309.jpg   karyadi      left    neutral  sunglasses\n",
       "310  train_0310.jpg      at33      left      happy        open\n",
       "311  train_0311.jpg   danieln      left      angry        open\n",
       "\n",
       "[312 rows x 5 columns]"
      ]
     },
     "execution_count": 10,
     "metadata": {},
     "output_type": "execute_result"
    }
   ],
   "source": [
    "train_df"
   ]
  },
  {
   "cell_type": "code",
   "execution_count": 11,
   "metadata": {
    "colab": {
     "base_uri": "https://localhost:8080/",
     "height": 419
    },
    "executionInfo": {
     "elapsed": 19,
     "status": "ok",
     "timestamp": 1634829610163,
     "user": {
      "displayName": "Hiroyuki Onishi",
      "photoUrl": "https://lh3.googleusercontent.com/a/default-user=s64",
      "userId": "06117648582669754644"
     },
     "user_tz": -540
    },
    "id": "WFwSQ0Y2s5Tp",
    "outputId": "66150321-5606-44ce-f495-bc6caa68e800"
   },
   "outputs": [
    {
     "data": {
      "text/html": [
       "<div>\n",
       "<style scoped>\n",
       "    .dataframe tbody tr th:only-of-type {\n",
       "        vertical-align: middle;\n",
       "    }\n",
       "\n",
       "    .dataframe tbody tr th {\n",
       "        vertical-align: top;\n",
       "    }\n",
       "\n",
       "    .dataframe thead th {\n",
       "        text-align: right;\n",
       "    }\n",
       "</style>\n",
       "<table border=\"1\" class=\"dataframe\">\n",
       "  <thead>\n",
       "    <tr style=\"text-align: right;\">\n",
       "      <th></th>\n",
       "      <th>id</th>\n",
       "      <th>userid</th>\n",
       "      <th>pose</th>\n",
       "      <th>expression</th>\n",
       "      <th>eyes</th>\n",
       "    </tr>\n",
       "  </thead>\n",
       "  <tbody>\n",
       "    <tr>\n",
       "      <th>0</th>\n",
       "      <td>train_0000.jpg</td>\n",
       "      <td>2</td>\n",
       "      <td>1</td>\n",
       "      <td>1</td>\n",
       "      <td>1</td>\n",
       "    </tr>\n",
       "    <tr>\n",
       "      <th>1</th>\n",
       "      <td>train_0001.jpg</td>\n",
       "      <td>11</td>\n",
       "      <td>1</td>\n",
       "      <td>1</td>\n",
       "      <td>1</td>\n",
       "    </tr>\n",
       "    <tr>\n",
       "      <th>2</th>\n",
       "      <td>train_0002.jpg</td>\n",
       "      <td>7</td>\n",
       "      <td>3</td>\n",
       "      <td>0</td>\n",
       "      <td>0</td>\n",
       "    </tr>\n",
       "    <tr>\n",
       "      <th>3</th>\n",
       "      <td>train_0003.jpg</td>\n",
       "      <td>0</td>\n",
       "      <td>2</td>\n",
       "      <td>2</td>\n",
       "      <td>0</td>\n",
       "    </tr>\n",
       "    <tr>\n",
       "      <th>4</th>\n",
       "      <td>train_0004.jpg</td>\n",
       "      <td>3</td>\n",
       "      <td>2</td>\n",
       "      <td>3</td>\n",
       "      <td>0</td>\n",
       "    </tr>\n",
       "    <tr>\n",
       "      <th>...</th>\n",
       "      <td>...</td>\n",
       "      <td>...</td>\n",
       "      <td>...</td>\n",
       "      <td>...</td>\n",
       "      <td>...</td>\n",
       "    </tr>\n",
       "    <tr>\n",
       "      <th>307</th>\n",
       "      <td>train_0307.jpg</td>\n",
       "      <td>14</td>\n",
       "      <td>1</td>\n",
       "      <td>2</td>\n",
       "      <td>1</td>\n",
       "    </tr>\n",
       "    <tr>\n",
       "      <th>308</th>\n",
       "      <td>train_0308.jpg</td>\n",
       "      <td>11</td>\n",
       "      <td>1</td>\n",
       "      <td>2</td>\n",
       "      <td>1</td>\n",
       "    </tr>\n",
       "    <tr>\n",
       "      <th>309</th>\n",
       "      <td>train_0309.jpg</td>\n",
       "      <td>14</td>\n",
       "      <td>2</td>\n",
       "      <td>2</td>\n",
       "      <td>0</td>\n",
       "    </tr>\n",
       "    <tr>\n",
       "      <th>310</th>\n",
       "      <td>train_0310.jpg</td>\n",
       "      <td>4</td>\n",
       "      <td>2</td>\n",
       "      <td>3</td>\n",
       "      <td>1</td>\n",
       "    </tr>\n",
       "    <tr>\n",
       "      <th>311</th>\n",
       "      <td>train_0311.jpg</td>\n",
       "      <td>6</td>\n",
       "      <td>2</td>\n",
       "      <td>1</td>\n",
       "      <td>1</td>\n",
       "    </tr>\n",
       "  </tbody>\n",
       "</table>\n",
       "<p>312 rows × 5 columns</p>\n",
       "</div>"
      ],
      "text/plain": [
       "                 id  userid  pose  expression  eyes\n",
       "0    train_0000.jpg       2     1           1     1\n",
       "1    train_0001.jpg      11     1           1     1\n",
       "2    train_0002.jpg       7     3           0     0\n",
       "3    train_0003.jpg       0     2           2     0\n",
       "4    train_0004.jpg       3     2           3     0\n",
       "..              ...     ...   ...         ...   ...\n",
       "307  train_0307.jpg      14     1           2     1\n",
       "308  train_0308.jpg      11     1           2     1\n",
       "309  train_0309.jpg      14     2           2     0\n",
       "310  train_0310.jpg       4     2           3     1\n",
       "311  train_0311.jpg       6     2           1     1\n",
       "\n",
       "[312 rows x 5 columns]"
      ]
     },
     "execution_count": 11,
     "metadata": {},
     "output_type": "execute_result"
    }
   ],
   "source": [
    "# label-encoding\n",
    "# 1.userid\n",
    "for i, name in enumerate(train_df.userid.value_counts().index.tolist()):\n",
    "    train_df.replace({\"userid\":{name:i}}, inplace=True)\n",
    "# 2.pose\n",
    "train_df.replace({\"pose\":{\"up\":0,\"straight\":1,\"left\":2,\"right\":3}}, inplace=True)\n",
    "# 3.expression\n",
    "train_df.replace({\"expression\":{\"sad\":0,\"angry\":1,\"neutral\":2,\"happy\":3}}, inplace=True)\n",
    "# 4.eyes\n",
    "train_df.replace({\"eyes\":{\"sunglasses\":0,\"open\":1}}, inplace=True)\n",
    "train_df"
   ]
  },
  {
   "cell_type": "code",
   "execution_count": 12,
   "metadata": {
    "id": "1QCWCye1irNp"
   },
   "outputs": [],
   "source": [
    "train_imgs = [] # 画像イメージを入れる箱"
   ]
  },
  {
   "cell_type": "code",
   "execution_count": 13,
   "metadata": {
    "colab": {
     "base_uri": "https://localhost:8080/"
    },
    "executionInfo": {
     "elapsed": 15,
     "status": "ok",
     "timestamp": 1634829610164,
     "user": {
      "displayName": "Hiroyuki Onishi",
      "photoUrl": "https://lh3.googleusercontent.com/a/default-user=s64",
      "userId": "06117648582669754644"
     },
     "user_tz": -540
    },
    "id": "nyQzZZyaj_xP",
    "outputId": "014da4dc-0a02-4960-f478-07f2239766e7"
   },
   "outputs": [
    {
     "name": "stdout",
     "output_type": "stream",
     "text": [
      "312\n"
     ]
    }
   ],
   "source": [
    "# フォルダ内のファイルの個数を返す\n",
    "DIR = f'{BASE_PATH}/train/'\n",
    "print(sum(os.path.isfile(os.path.join(DIR, name)) for name in os.listdir(DIR)))\n",
    "image_sum = sum(os.path.isfile(os.path.join(DIR, name)) for name in os.listdir(DIR))"
   ]
  },
  {
   "cell_type": "code",
   "execution_count": 14,
   "metadata": {
    "colab": {
     "base_uri": "https://localhost:8080/",
     "height": 35
    },
    "executionInfo": {
     "elapsed": 14,
     "status": "ok",
     "timestamp": 1634829610165,
     "user": {
      "displayName": "Hiroyuki Onishi",
      "photoUrl": "https://lh3.googleusercontent.com/a/default-user=s64",
      "userId": "06117648582669754644"
     },
     "user_tz": -540
    },
    "id": "kVVlo8-gnuZA",
    "outputId": "10da8621-9a81-4029-fd09-becbcbf168db"
   },
   "outputs": [
    {
     "data": {
      "text/plain": [
       "'0000'"
      ]
     },
     "execution_count": 14,
     "metadata": {},
     "output_type": "execute_result"
    }
   ],
   "source": [
    "str(0).zfill(4)  # ファイル名は4桁の数字 0001 etc."
   ]
  },
  {
   "cell_type": "code",
   "execution_count": 15,
   "metadata": {
    "id": "w4Q7tVS4d8G-",
    "tags": []
   },
   "outputs": [],
   "source": [
    "# cv2.imread:カラー画像のファイルを読み込むと、行（高さ） x 列（幅） x 色（3）の三次元のndarrayとなる。\n",
    "for i in range(image_sum):\n",
    "    train_img = cv2.imread(f'{BASE_PATH}/train/train_{str(i).zfill(4)}.jpg')\n",
    "    train_imgs.append(train_img)"
   ]
  },
  {
   "cell_type": "code",
   "execution_count": 16,
   "metadata": {
    "colab": {
     "base_uri": "https://localhost:8080/",
     "height": 137
    },
    "executionInfo": {
     "elapsed": 9,
     "status": "ok",
     "timestamp": 1634829611141,
     "user": {
      "displayName": "Hiroyuki Onishi",
      "photoUrl": "https://lh3.googleusercontent.com/a/default-user=s64",
      "userId": "06117648582669754644"
     },
     "user_tz": -540
    },
    "id": "-_fpPS_BiJR_",
    "outputId": "8cdb67e0-5562-49fd-c52d-c06596f24b5e"
   },
   "outputs": [
    {
     "data": {
      "text/plain": [
       "<matplotlib.image.AxesImage at 0x7fcec2bb31c0>"
      ]
     },
     "execution_count": 16,
     "metadata": {},
     "output_type": "execute_result"
    },
    {
     "data": {
      "image/png": "[encoded data removed]",
      "text/plain": [
       "<Figure size 432x288 with 1 Axes>"
      ]
     },
     "metadata": {
      "needs_background": "light"
     },
     "output_type": "display_data"
    }
   ],
   "source": [
    "#cv2_imshow(train_imgs[0])\n",
    "plt.imshow(train_imgs[0])"
   ]
  },
  {
   "cell_type": "markdown",
   "metadata": {
    "id": "PKnC4Y987Sab"
   },
   "source": [
    "img = train_imgs[0] # モザイク\n",
    "resize_img = cv2.resize(img,(img.shape[1] // 10, img.shape[0] // 10))\n",
    "plt.imshow(resize_img)\n",
    "resize_img.shape"
   ]
  },
  {
   "cell_type": "code",
   "execution_count": 17,
   "metadata": {
    "id": "MKpdHzjE7Sac"
   },
   "outputs": [],
   "source": [
    "## Data Augmentation"
   ]
  },
  {
   "cell_type": "code",
   "execution_count": 18,
   "metadata": {
    "id": "iIFT9nXU7Sad"
   },
   "outputs": [],
   "source": [
    "#!mkdir train_aug\n",
    "# os.mkdir(\"./train_aug\")"
   ]
  },
  {
   "cell_type": "code",
   "execution_count": 19,
   "metadata": {
    "id": "WHghpN4k7Sad"
   },
   "outputs": [],
   "source": [
    "for i in range(len(train_imgs)):\n",
    "    img = train_imgs[i]\n",
    "    flip_img1 = cv2.flip(img, 0)\n",
    "    cv2.imwrite(f'{BASE_PATH}/train_aug/train_{str(i).zfill(4)}_flip1.jpg', flip_img1)\n",
    "    \n",
    "    flip_img2 = cv2.flip(img, 1)\n",
    "    cv2.imwrite(f'{BASE_PATH}/train_aug/train_{str(i).zfill(4)}_flip2.jpg', flip_img2)\n",
    "    \n",
    "    flip_img3 = cv2.flip(img, -1)\n",
    "    cv2.imwrite(f'{BASE_PATH}/train_aug/train_{str(i).zfill(4)}_flip3.jpg', flip_img3)\n",
    "    \n",
    "    mat = cv2.getRotationMatrix2D(tuple(np.array([img.shape[1] / 2, img.shape[0] /2])), 45, 1) #45度回転\n",
    "    mat2 = cv2.getRotationMatrix2D(tuple(np.array([img.shape[1] / 2, img.shape[0] /2])), 315, 1) #45度回転\n",
    "    rotation_img = cv2.warpAffine(img, mat, (img.shape[1], img.shape[0]))\n",
    "    rotation_img2 = cv2.warpAffine(img, mat2, (img.shape[1], img.shape[0]))\n",
    "    cv2.imwrite(f'{BASE_PATH}/train_aug/train_{str(i).zfill(4)}_rotate.jpg', rotation_img)\n",
    "    cv2.imwrite(f'{BASE_PATH}/train_aug/train_{str(i).zfill(4)}_rotate2.jpg', rotation_img2)"
   ]
  },
  {
   "cell_type": "code",
   "execution_count": 20,
   "metadata": {
    "colab": {
     "base_uri": "https://localhost:8080/"
    },
    "executionInfo": {
     "elapsed": 9,
     "status": "ok",
     "timestamp": 1634829611142,
     "user": {
      "displayName": "Hiroyuki Onishi",
      "photoUrl": "https://lh3.googleusercontent.com/a/default-user=s64",
      "userId": "06117648582669754644"
     },
     "user_tz": -540
    },
    "id": "nYfrkJlMmfI4",
    "outputId": "b860acbb-e1b2-4886-a707-3c68ad4ccea9"
   },
   "outputs": [
    {
     "data": {
      "text/plain": [
       "(120, 128, 3)"
      ]
     },
     "execution_count": 20,
     "metadata": {},
     "output_type": "execute_result"
    }
   ],
   "source": [
    "train_imgs[0].shape # OpenCVのフォーマットは Height, Width, Channel の順. Pytorch は Channel, Height, Weidth を期待"
   ]
  },
  {
   "cell_type": "code",
   "execution_count": 21,
   "metadata": {
    "id": "9y5QV-bB7Sae"
   },
   "outputs": [],
   "source": [
    "train_aug_imgs = []"
   ]
  },
  {
   "cell_type": "code",
   "execution_count": 22,
   "metadata": {
    "id": "CUlQie1a7Sae",
    "tags": []
   },
   "outputs": [],
   "source": [
    "for i in range(image_sum):\n",
    "    train_img = cv2.imread(f'{BASE_PATH}/train_aug/train_{str(i).zfill(4)}.jpg')\n",
    "    train_aug_imgs.append(train_img)\n",
    "    \n",
    "    train_img1 = cv2.imread(f'{BASE_PATH}/train_aug/train_{str(i).zfill(4)}_flip1.jpg')\n",
    "    train_aug_imgs.append(train_img1)\n",
    "    \n",
    "    train_img2 = cv2.imread(f'{BASE_PATH}/train_aug/train_{str(i).zfill(4)}_flip2.jpg')\n",
    "    train_aug_imgs.append(train_img2)\n",
    "    \n",
    "    train_img3 = cv2.imread(f'{BASE_PATH}/train_aug/train_{str(i).zfill(4)}_flip3.jpg')\n",
    "    train_aug_imgs.append(train_img3)\n",
    "    \n",
    "    train_img4 = cv2.imread(f'{BASE_PATH}/train_aug/train_{str(i).zfill(4)}_rotate.jpg')\n",
    "    train_aug_imgs.append(train_img4)\n",
    "    \n",
    "    train_img5 = cv2.imread(f'{BASE_PATH}/train_aug/train_{str(i).zfill(4)}_rotate2.jpg')\n",
    "    train_aug_imgs.append(train_img5)"
   ]
  },
  {
   "cell_type": "code",
   "execution_count": 23,
   "metadata": {
    "id": "DoTUq3e27Sae",
    "outputId": "c1442080-1f09-4d29-982c-64445f1864c8",
    "tags": []
   },
   "outputs": [
    {
     "data": {
      "text/plain": [
       "1872"
      ]
     },
     "execution_count": 23,
     "metadata": {},
     "output_type": "execute_result"
    }
   ],
   "source": [
    "len(train_aug_imgs)"
   ]
  },
  {
   "cell_type": "code",
   "execution_count": 24,
   "metadata": {
    "id": "hlrpQeHz7Saf",
    "outputId": "76688dc0-db08-421e-b07d-92c292a8c8ec"
   },
   "outputs": [
    {
     "data": {
      "image/png": "[encoded data removed]",
      "text/plain": [
       "<Figure size 1008x360 with 7 Axes>"
      ]
     },
     "metadata": {
      "needs_background": "light"
     },
     "output_type": "display_data"
    }
   ],
   "source": [
    "plt.figure(figsize=(14,5)) # グラフのサイズ(x,y)\n",
    "\n",
    "plt.subplot(3,3,1)\n",
    "plt.imshow(train_aug_imgs[0])\n",
    "\n",
    "plt.subplot(3,3,2)\n",
    "plt.imshow(train_aug_imgs[1])\n",
    "\n",
    "plt.subplot(3,3,3)\n",
    "plt.imshow(train_aug_imgs[2])\n",
    "\n",
    "plt.subplot(3,3,4)\n",
    "plt.imshow(train_aug_imgs[3])\n",
    "\n",
    "plt.subplot(3,3,5)\n",
    "plt.imshow(train_aug_imgs[4])\n",
    "\n",
    "plt.subplot(3,3,6)\n",
    "plt.imshow(train_aug_imgs[5])\n",
    "\n",
    "plt.subplot(3,3,7)\n",
    "plt.imshow(train_aug_imgs[6])\n",
    "\n",
    "plt.show()"
   ]
  },
  {
   "cell_type": "code",
   "execution_count": 25,
   "metadata": {
    "id": "_eTO6BRUj2dF"
   },
   "outputs": [],
   "source": [
    "for i in range(len(train_aug_imgs)):\n",
    "    train_aug_imgs[i] = train_aug_imgs[i].transpose(2,0,1)"
   ]
  },
  {
   "cell_type": "code",
   "execution_count": 26,
   "metadata": {},
   "outputs": [],
   "source": [
    "def process_images(file_path):\n",
    "    img =  torch.Tensor(file_path).float().to(device)\n",
    "    return img"
   ]
  },
  {
   "cell_type": "code",
   "execution_count": 27,
   "metadata": {
    "id": "V923PAxsRsx4"
   },
   "outputs": [
    {
     "name": "stderr",
     "output_type": "stream",
     "text": [
      "/tmp/ipykernel_13380/322310155.py:1: UserWarning: Creating a tensor from a list of numpy.ndarrays is extremely slow. Please consider converting the list to a single numpy.ndarray with numpy.array() before converting to a tensor. (Triggered internally at  /opt/conda/conda-bld/pytorch_1646755888534/work/torch/csrc/utils/tensor_new.cpp:210.)\n",
      "  X = torch.Tensor(train_aug_imgs).float().to(device)\n"
     ]
    }
   ],
   "source": [
    "X = torch.Tensor(train_aug_imgs).float().to(device)"
   ]
  },
  {
   "cell_type": "code",
   "execution_count": 28,
   "metadata": {
    "colab": {
     "base_uri": "https://localhost:8080/"
    },
    "executionInfo": {
     "elapsed": 23,
     "status": "ok",
     "timestamp": 1634829613487,
     "user": {
      "displayName": "Hiroyuki Onishi",
      "photoUrl": "https://lh3.googleusercontent.com/a/default-user=s64",
      "userId": "06117648582669754644"
     },
     "user_tz": -540
    },
    "id": "_dVTyMFtS3ae",
    "outputId": "395611f9-9089-40f5-81e9-c513b13003ef"
   },
   "outputs": [
    {
     "data": {
      "text/plain": [
       "torch.Size([1872, 3, 120, 128])"
      ]
     },
     "execution_count": 28,
     "metadata": {},
     "output_type": "execute_result"
    }
   ],
   "source": [
    "X.shape"
   ]
  },
  {
   "cell_type": "code",
   "execution_count": 29,
   "metadata": {
    "id": "L0RnU_hJ7Sag",
    "outputId": "16bce923-4499-4fc1-ca95-5ad9aca9f3ef",
    "tags": []
   },
   "outputs": [
    {
     "data": {
      "text/plain": [
       "['train_0000.jpg',\n",
       " 'train_0000_flip1.jpg',\n",
       " 'train_0000_flip2.jpg',\n",
       " 'train_0000_flip3.jpg',\n",
       " 'train_0000_rotate.jpg',\n",
       " 'train_0000_rotate2.jpg',\n",
       " 'train_0001.jpg',\n",
       " 'train_0001_flip1.jpg',\n",
       " 'train_0001_flip2.jpg',\n",
       " 'train_0001_flip3.jpg',\n",
       " 'train_0001_rotate.jpg',\n",
       " 'train_0001_rotate2.jpg',\n",
       " 'train_0002.jpg',\n",
       " 'train_0002_flip1.jpg',\n",
       " 'train_0002_flip2.jpg',\n",
       " 'train_0002_flip3.jpg',\n",
       " 'train_0002_rotate.jpg',\n",
       " 'train_0002_rotate2.jpg',\n",
       " 'train_0003.jpg',\n",
       " 'train_0003_flip1.jpg',\n",
       " 'train_0003_flip2.jpg',\n",
       " 'train_0003_flip3.jpg',\n",
       " 'train_0003_rotate.jpg',\n",
       " 'train_0003_rotate2.jpg',\n",
       " 'train_0004.jpg',\n",
       " 'train_0004_flip1.jpg',\n",
       " 'train_0004_flip2.jpg',\n",
       " 'train_0004_flip3.jpg',\n",
       " 'train_0004_rotate.jpg',\n",
       " 'train_0004_rotate2.jpg',\n",
       " 'train_0005.jpg',\n",
       " 'train_0005_flip1.jpg',\n",
       " 'train_0005_flip2.jpg',\n",
       " 'train_0005_flip3.jpg',\n",
       " 'train_0005_rotate.jpg',\n",
       " 'train_0005_rotate2.jpg',\n",
       " 'train_0006.jpg',\n",
       " 'train_0006_flip1.jpg',\n",
       " 'train_0006_flip2.jpg',\n",
       " 'train_0006_flip3.jpg',\n",
       " 'train_0006_rotate.jpg',\n",
       " 'train_0006_rotate2.jpg',\n",
       " 'train_0007.jpg',\n",
       " 'train_0007_flip1.jpg',\n",
       " 'train_0007_flip2.jpg',\n",
       " 'train_0007_flip3.jpg',\n",
       " 'train_0007_rotate.jpg',\n",
       " 'train_0007_rotate2.jpg',\n",
       " 'train_0008.jpg',\n",
       " 'train_0008_flip1.jpg',\n",
       " 'train_0008_flip2.jpg',\n",
       " 'train_0008_flip3.jpg',\n",
       " 'train_0008_rotate.jpg',\n",
       " 'train_0008_rotate2.jpg',\n",
       " 'train_0009.jpg',\n",
       " 'train_0009_flip1.jpg',\n",
       " 'train_0009_flip2.jpg',\n",
       " 'train_0009_flip3.jpg',\n",
       " 'train_0009_rotate.jpg',\n",
       " 'train_0009_rotate2.jpg',\n",
       " 'train_0010.jpg',\n",
       " 'train_0010_flip1.jpg',\n",
       " 'train_0010_flip2.jpg',\n",
       " 'train_0010_flip3.jpg',\n",
       " 'train_0010_rotate.jpg',\n",
       " 'train_0010_rotate2.jpg',\n",
       " 'train_0011.jpg',\n",
       " 'train_0011_flip1.jpg',\n",
       " 'train_0011_flip2.jpg',\n",
       " 'train_0011_flip3.jpg',\n",
       " 'train_0011_rotate.jpg',\n",
       " 'train_0011_rotate2.jpg',\n",
       " 'train_0012.jpg',\n",
       " 'train_0012_flip1.jpg',\n",
       " 'train_0012_flip2.jpg',\n",
       " 'train_0012_flip3.jpg',\n",
       " 'train_0012_rotate.jpg',\n",
       " 'train_0012_rotate2.jpg',\n",
       " 'train_0013.jpg',\n",
       " 'train_0013_flip1.jpg',\n",
       " 'train_0013_flip2.jpg',\n",
       " 'train_0013_flip3.jpg',\n",
       " 'train_0013_rotate.jpg',\n",
       " 'train_0013_rotate2.jpg',\n",
       " 'train_0014.jpg',\n",
       " 'train_0014_flip1.jpg',\n",
       " 'train_0014_flip2.jpg',\n",
       " 'train_0014_flip3.jpg',\n",
       " 'train_0014_rotate.jpg',\n",
       " 'train_0014_rotate2.jpg',\n",
       " 'train_0015.jpg',\n",
       " 'train_0015_flip1.jpg',\n",
       " 'train_0015_flip2.jpg',\n",
       " 'train_0015_flip3.jpg',\n",
       " 'train_0015_rotate.jpg',\n",
       " 'train_0015_rotate2.jpg',\n",
       " 'train_0016.jpg',\n",
       " 'train_0016_flip1.jpg',\n",
       " 'train_0016_flip2.jpg',\n",
       " 'train_0016_flip3.jpg',\n",
       " 'train_0016_rotate.jpg',\n",
       " 'train_0016_rotate2.jpg',\n",
       " 'train_0017.jpg',\n",
       " 'train_0017_flip1.jpg',\n",
       " 'train_0017_flip2.jpg',\n",
       " 'train_0017_flip3.jpg',\n",
       " 'train_0017_rotate.jpg',\n",
       " 'train_0017_rotate2.jpg',\n",
       " 'train_0018.jpg',\n",
       " 'train_0018_flip1.jpg',\n",
       " 'train_0018_flip2.jpg',\n",
       " 'train_0018_flip3.jpg',\n",
       " 'train_0018_rotate.jpg',\n",
       " 'train_0018_rotate2.jpg',\n",
       " 'train_0019.jpg',\n",
       " 'train_0019_flip1.jpg',\n",
       " 'train_0019_flip2.jpg',\n",
       " 'train_0019_flip3.jpg',\n",
       " 'train_0019_rotate.jpg',\n",
       " 'train_0019_rotate2.jpg',\n",
       " 'train_0020.jpg',\n",
       " 'train_0020_flip1.jpg',\n",
       " 'train_0020_flip2.jpg',\n",
       " 'train_0020_flip3.jpg',\n",
       " 'train_0020_rotate.jpg',\n",
       " 'train_0020_rotate2.jpg',\n",
       " 'train_0021.jpg',\n",
       " 'train_0021_flip1.jpg',\n",
       " 'train_0021_flip2.jpg',\n",
       " 'train_0021_flip3.jpg',\n",
       " 'train_0021_rotate.jpg',\n",
       " 'train_0021_rotate2.jpg',\n",
       " 'train_0022.jpg',\n",
       " 'train_0022_flip1.jpg',\n",
       " 'train_0022_flip2.jpg',\n",
       " 'train_0022_flip3.jpg',\n",
       " 'train_0022_rotate.jpg',\n",
       " 'train_0022_rotate2.jpg',\n",
       " 'train_0023.jpg',\n",
       " 'train_0023_flip1.jpg',\n",
       " 'train_0023_flip2.jpg',\n",
       " 'train_0023_flip3.jpg',\n",
       " 'train_0023_rotate.jpg',\n",
       " 'train_0023_rotate2.jpg',\n",
       " 'train_0024.jpg',\n",
       " 'train_0024_flip1.jpg',\n",
       " 'train_0024_flip2.jpg',\n",
       " 'train_0024_flip3.jpg',\n",
       " 'train_0024_rotate.jpg',\n",
       " 'train_0024_rotate2.jpg',\n",
       " 'train_0025.jpg',\n",
       " 'train_0025_flip1.jpg',\n",
       " 'train_0025_flip2.jpg',\n",
       " 'train_0025_flip3.jpg',\n",
       " 'train_0025_rotate.jpg',\n",
       " 'train_0025_rotate2.jpg',\n",
       " 'train_0026.jpg',\n",
       " 'train_0026_flip1.jpg',\n",
       " 'train_0026_flip2.jpg',\n",
       " 'train_0026_flip3.jpg',\n",
       " 'train_0026_rotate.jpg',\n",
       " 'train_0026_rotate2.jpg',\n",
       " 'train_0027.jpg',\n",
       " 'train_0027_flip1.jpg',\n",
       " 'train_0027_flip2.jpg',\n",
       " 'train_0027_flip3.jpg',\n",
       " 'train_0027_rotate.jpg',\n",
       " 'train_0027_rotate2.jpg',\n",
       " 'train_0028.jpg',\n",
       " 'train_0028_flip1.jpg',\n",
       " 'train_0028_flip2.jpg',\n",
       " 'train_0028_flip3.jpg',\n",
       " 'train_0028_rotate.jpg',\n",
       " 'train_0028_rotate2.jpg',\n",
       " 'train_0029.jpg',\n",
       " 'train_0029_flip1.jpg',\n",
       " 'train_0029_flip2.jpg',\n",
       " 'train_0029_flip3.jpg',\n",
       " 'train_0029_rotate.jpg',\n",
       " 'train_0029_rotate2.jpg',\n",
       " 'train_0030.jpg',\n",
       " 'train_0030_flip1.jpg',\n",
       " 'train_0030_flip2.jpg',\n",
       " 'train_0030_flip3.jpg',\n",
       " 'train_0030_rotate.jpg',\n",
       " 'train_0030_rotate2.jpg',\n",
       " 'train_0031.jpg',\n",
       " 'train_0031_flip1.jpg',\n",
       " 'train_0031_flip2.jpg',\n",
       " 'train_0031_flip3.jpg',\n",
       " 'train_0031_rotate.jpg',\n",
       " 'train_0031_rotate2.jpg',\n",
       " 'train_0032.jpg',\n",
       " 'train_0032_flip1.jpg',\n",
       " 'train_0032_flip2.jpg',\n",
       " 'train_0032_flip3.jpg',\n",
       " 'train_0032_rotate.jpg',\n",
       " 'train_0032_rotate2.jpg',\n",
       " 'train_0033.jpg',\n",
       " 'train_0033_flip1.jpg',\n",
       " 'train_0033_flip2.jpg',\n",
       " 'train_0033_flip3.jpg',\n",
       " 'train_0033_rotate.jpg',\n",
       " 'train_0033_rotate2.jpg',\n",
       " 'train_0034.jpg',\n",
       " 'train_0034_flip1.jpg',\n",
       " 'train_0034_flip2.jpg',\n",
       " 'train_0034_flip3.jpg',\n",
       " 'train_0034_rotate.jpg',\n",
       " 'train_0034_rotate2.jpg',\n",
       " 'train_0035.jpg',\n",
       " 'train_0035_flip1.jpg',\n",
       " 'train_0035_flip2.jpg',\n",
       " 'train_0035_flip3.jpg',\n",
       " 'train_0035_rotate.jpg',\n",
       " 'train_0035_rotate2.jpg',\n",
       " 'train_0036.jpg',\n",
       " 'train_0036_flip1.jpg',\n",
       " 'train_0036_flip2.jpg',\n",
       " 'train_0036_flip3.jpg',\n",
       " 'train_0036_rotate.jpg',\n",
       " 'train_0036_rotate2.jpg',\n",
       " 'train_0037.jpg',\n",
       " 'train_0037_flip1.jpg',\n",
       " 'train_0037_flip2.jpg',\n",
       " 'train_0037_flip3.jpg',\n",
       " 'train_0037_rotate.jpg',\n",
       " 'train_0037_rotate2.jpg',\n",
       " 'train_0038.jpg',\n",
       " 'train_0038_flip1.jpg',\n",
       " 'train_0038_flip2.jpg',\n",
       " 'train_0038_flip3.jpg',\n",
       " 'train_0038_rotate.jpg',\n",
       " 'train_0038_rotate2.jpg',\n",
       " 'train_0039.jpg',\n",
       " 'train_0039_flip1.jpg',\n",
       " 'train_0039_flip2.jpg',\n",
       " 'train_0039_flip3.jpg',\n",
       " 'train_0039_rotate.jpg',\n",
       " 'train_0039_rotate2.jpg',\n",
       " 'train_0040.jpg',\n",
       " 'train_0040_flip1.jpg',\n",
       " 'train_0040_flip2.jpg',\n",
       " 'train_0040_flip3.jpg',\n",
       " 'train_0040_rotate.jpg',\n",
       " 'train_0040_rotate2.jpg',\n",
       " 'train_0041.jpg',\n",
       " 'train_0041_flip1.jpg',\n",
       " 'train_0041_flip2.jpg',\n",
       " 'train_0041_flip3.jpg',\n",
       " 'train_0041_rotate.jpg',\n",
       " 'train_0041_rotate2.jpg',\n",
       " 'train_0042.jpg',\n",
       " 'train_0042_flip1.jpg',\n",
       " 'train_0042_flip2.jpg',\n",
       " 'train_0042_flip3.jpg',\n",
       " 'train_0042_rotate.jpg',\n",
       " 'train_0042_rotate2.jpg',\n",
       " 'train_0043.jpg',\n",
       " 'train_0043_flip1.jpg',\n",
       " 'train_0043_flip2.jpg',\n",
       " 'train_0043_flip3.jpg',\n",
       " 'train_0043_rotate.jpg',\n",
       " 'train_0043_rotate2.jpg',\n",
       " 'train_0044.jpg',\n",
       " 'train_0044_flip1.jpg',\n",
       " 'train_0044_flip2.jpg',\n",
       " 'train_0044_flip3.jpg',\n",
       " 'train_0044_rotate.jpg',\n",
       " 'train_0044_rotate2.jpg',\n",
       " 'train_0045.jpg',\n",
       " 'train_0045_flip1.jpg',\n",
       " 'train_0045_flip2.jpg',\n",
       " 'train_0045_flip3.jpg',\n",
       " 'train_0045_rotate.jpg',\n",
       " 'train_0045_rotate2.jpg',\n",
       " 'train_0046.jpg',\n",
       " 'train_0046_flip1.jpg',\n",
       " 'train_0046_flip2.jpg',\n",
       " 'train_0046_flip3.jpg',\n",
       " 'train_0046_rotate.jpg',\n",
       " 'train_0046_rotate2.jpg',\n",
       " 'train_0047.jpg',\n",
       " 'train_0047_flip1.jpg',\n",
       " 'train_0047_flip2.jpg',\n",
       " 'train_0047_flip3.jpg',\n",
       " 'train_0047_rotate.jpg',\n",
       " 'train_0047_rotate2.jpg',\n",
       " 'train_0048.jpg',\n",
       " 'train_0048_flip1.jpg',\n",
       " 'train_0048_flip2.jpg',\n",
       " 'train_0048_flip3.jpg',\n",
       " 'train_0048_rotate.jpg',\n",
       " 'train_0048_rotate2.jpg',\n",
       " 'train_0049.jpg',\n",
       " 'train_0049_flip1.jpg',\n",
       " 'train_0049_flip2.jpg',\n",
       " 'train_0049_flip3.jpg',\n",
       " 'train_0049_rotate.jpg',\n",
       " 'train_0049_rotate2.jpg',\n",
       " 'train_0050.jpg',\n",
       " 'train_0050_flip1.jpg',\n",
       " 'train_0050_flip2.jpg',\n",
       " 'train_0050_flip3.jpg',\n",
       " 'train_0050_rotate.jpg',\n",
       " 'train_0050_rotate2.jpg',\n",
       " 'train_0051.jpg',\n",
       " 'train_0051_flip1.jpg',\n",
       " 'train_0051_flip2.jpg',\n",
       " 'train_0051_flip3.jpg',\n",
       " 'train_0051_rotate.jpg',\n",
       " 'train_0051_rotate2.jpg',\n",
       " 'train_0052.jpg',\n",
       " 'train_0052_flip1.jpg',\n",
       " 'train_0052_flip2.jpg',\n",
       " 'train_0052_flip3.jpg',\n",
       " 'train_0052_rotate.jpg',\n",
       " 'train_0052_rotate2.jpg',\n",
       " 'train_0053.jpg',\n",
       " 'train_0053_flip1.jpg',\n",
       " 'train_0053_flip2.jpg',\n",
       " 'train_0053_flip3.jpg',\n",
       " 'train_0053_rotate.jpg',\n",
       " 'train_0053_rotate2.jpg',\n",
       " 'train_0054.jpg',\n",
       " 'train_0054_flip1.jpg',\n",
       " 'train_0054_flip2.jpg',\n",
       " 'train_0054_flip3.jpg',\n",
       " 'train_0054_rotate.jpg',\n",
       " 'train_0054_rotate2.jpg',\n",
       " 'train_0055.jpg',\n",
       " 'train_0055_flip1.jpg',\n",
       " 'train_0055_flip2.jpg',\n",
       " 'train_0055_flip3.jpg',\n",
       " 'train_0055_rotate.jpg',\n",
       " 'train_0055_rotate2.jpg',\n",
       " 'train_0056.jpg',\n",
       " 'train_0056_flip1.jpg',\n",
       " 'train_0056_flip2.jpg',\n",
       " 'train_0056_flip3.jpg',\n",
       " 'train_0056_rotate.jpg',\n",
       " 'train_0056_rotate2.jpg',\n",
       " 'train_0057.jpg',\n",
       " 'train_0057_flip1.jpg',\n",
       " 'train_0057_flip2.jpg',\n",
       " 'train_0057_flip3.jpg',\n",
       " 'train_0057_rotate.jpg',\n",
       " 'train_0057_rotate2.jpg',\n",
       " 'train_0058.jpg',\n",
       " 'train_0058_flip1.jpg',\n",
       " 'train_0058_flip2.jpg',\n",
       " 'train_0058_flip3.jpg',\n",
       " 'train_0058_rotate.jpg',\n",
       " 'train_0058_rotate2.jpg',\n",
       " 'train_0059.jpg',\n",
       " 'train_0059_flip1.jpg',\n",
       " 'train_0059_flip2.jpg',\n",
       " 'train_0059_flip3.jpg',\n",
       " 'train_0059_rotate.jpg',\n",
       " 'train_0059_rotate2.jpg',\n",
       " 'train_0060.jpg',\n",
       " 'train_0060_flip1.jpg',\n",
       " 'train_0060_flip2.jpg',\n",
       " 'train_0060_flip3.jpg',\n",
       " 'train_0060_rotate.jpg',\n",
       " 'train_0060_rotate2.jpg',\n",
       " 'train_0061.jpg',\n",
       " 'train_0061_flip1.jpg',\n",
       " 'train_0061_flip2.jpg',\n",
       " 'train_0061_flip3.jpg',\n",
       " 'train_0061_rotate.jpg',\n",
       " 'train_0061_rotate2.jpg',\n",
       " 'train_0062.jpg',\n",
       " 'train_0062_flip1.jpg',\n",
       " 'train_0062_flip2.jpg',\n",
       " 'train_0062_flip3.jpg',\n",
       " 'train_0062_rotate.jpg',\n",
       " 'train_0062_rotate2.jpg',\n",
       " 'train_0063.jpg',\n",
       " 'train_0063_flip1.jpg',\n",
       " 'train_0063_flip2.jpg',\n",
       " 'train_0063_flip3.jpg',\n",
       " 'train_0063_rotate.jpg',\n",
       " 'train_0063_rotate2.jpg',\n",
       " 'train_0064.jpg',\n",
       " 'train_0064_flip1.jpg',\n",
       " 'train_0064_flip2.jpg',\n",
       " 'train_0064_flip3.jpg',\n",
       " 'train_0064_rotate.jpg',\n",
       " 'train_0064_rotate2.jpg',\n",
       " 'train_0065.jpg',\n",
       " 'train_0065_flip1.jpg',\n",
       " 'train_0065_flip2.jpg',\n",
       " 'train_0065_flip3.jpg',\n",
       " 'train_0065_rotate.jpg',\n",
       " 'train_0065_rotate2.jpg',\n",
       " 'train_0066.jpg',\n",
       " 'train_0066_flip1.jpg',\n",
       " 'train_0066_flip2.jpg',\n",
       " 'train_0066_flip3.jpg',\n",
       " 'train_0066_rotate.jpg',\n",
       " 'train_0066_rotate2.jpg',\n",
       " 'train_0067.jpg',\n",
       " 'train_0067_flip1.jpg',\n",
       " 'train_0067_flip2.jpg',\n",
       " 'train_0067_flip3.jpg',\n",
       " 'train_0067_rotate.jpg',\n",
       " 'train_0067_rotate2.jpg',\n",
       " 'train_0068.jpg',\n",
       " 'train_0068_flip1.jpg',\n",
       " 'train_0068_flip2.jpg',\n",
       " 'train_0068_flip3.jpg',\n",
       " 'train_0068_rotate.jpg',\n",
       " 'train_0068_rotate2.jpg',\n",
       " 'train_0069.jpg',\n",
       " 'train_0069_flip1.jpg',\n",
       " 'train_0069_flip2.jpg',\n",
       " 'train_0069_flip3.jpg',\n",
       " 'train_0069_rotate.jpg',\n",
       " 'train_0069_rotate2.jpg',\n",
       " 'train_0070.jpg',\n",
       " 'train_0070_flip1.jpg',\n",
       " 'train_0070_flip2.jpg',\n",
       " 'train_0070_flip3.jpg',\n",
       " 'train_0070_rotate.jpg',\n",
       " 'train_0070_rotate2.jpg',\n",
       " 'train_0071.jpg',\n",
       " 'train_0071_flip1.jpg',\n",
       " 'train_0071_flip2.jpg',\n",
       " 'train_0071_flip3.jpg',\n",
       " 'train_0071_rotate.jpg',\n",
       " 'train_0071_rotate2.jpg',\n",
       " 'train_0072.jpg',\n",
       " 'train_0072_flip1.jpg',\n",
       " 'train_0072_flip2.jpg',\n",
       " 'train_0072_flip3.jpg',\n",
       " 'train_0072_rotate.jpg',\n",
       " 'train_0072_rotate2.jpg',\n",
       " 'train_0073.jpg',\n",
       " 'train_0073_flip1.jpg',\n",
       " 'train_0073_flip2.jpg',\n",
       " 'train_0073_flip3.jpg',\n",
       " 'train_0073_rotate.jpg',\n",
       " 'train_0073_rotate2.jpg',\n",
       " 'train_0074.jpg',\n",
       " 'train_0074_flip1.jpg',\n",
       " 'train_0074_flip2.jpg',\n",
       " 'train_0074_flip3.jpg',\n",
       " 'train_0074_rotate.jpg',\n",
       " 'train_0074_rotate2.jpg',\n",
       " 'train_0075.jpg',\n",
       " 'train_0075_flip1.jpg',\n",
       " 'train_0075_flip2.jpg',\n",
       " 'train_0075_flip3.jpg',\n",
       " 'train_0075_rotate.jpg',\n",
       " 'train_0075_rotate2.jpg',\n",
       " 'train_0076.jpg',\n",
       " 'train_0076_flip1.jpg',\n",
       " 'train_0076_flip2.jpg',\n",
       " 'train_0076_flip3.jpg',\n",
       " 'train_0076_rotate.jpg',\n",
       " 'train_0076_rotate2.jpg',\n",
       " 'train_0077.jpg',\n",
       " 'train_0077_flip1.jpg',\n",
       " 'train_0077_flip2.jpg',\n",
       " 'train_0077_flip3.jpg',\n",
       " 'train_0077_rotate.jpg',\n",
       " 'train_0077_rotate2.jpg',\n",
       " 'train_0078.jpg',\n",
       " 'train_0078_flip1.jpg',\n",
       " 'train_0078_flip2.jpg',\n",
       " 'train_0078_flip3.jpg',\n",
       " 'train_0078_rotate.jpg',\n",
       " 'train_0078_rotate2.jpg',\n",
       " 'train_0079.jpg',\n",
       " 'train_0079_flip1.jpg',\n",
       " 'train_0079_flip2.jpg',\n",
       " 'train_0079_flip3.jpg',\n",
       " 'train_0079_rotate.jpg',\n",
       " 'train_0079_rotate2.jpg',\n",
       " 'train_0080.jpg',\n",
       " 'train_0080_flip1.jpg',\n",
       " 'train_0080_flip2.jpg',\n",
       " 'train_0080_flip3.jpg',\n",
       " 'train_0080_rotate.jpg',\n",
       " 'train_0080_rotate2.jpg',\n",
       " 'train_0081.jpg',\n",
       " 'train_0081_flip1.jpg',\n",
       " 'train_0081_flip2.jpg',\n",
       " 'train_0081_flip3.jpg',\n",
       " 'train_0081_rotate.jpg',\n",
       " 'train_0081_rotate2.jpg',\n",
       " 'train_0082.jpg',\n",
       " 'train_0082_flip1.jpg',\n",
       " 'train_0082_flip2.jpg',\n",
       " 'train_0082_flip3.jpg',\n",
       " 'train_0082_rotate.jpg',\n",
       " 'train_0082_rotate2.jpg',\n",
       " 'train_0083.jpg',\n",
       " 'train_0083_flip1.jpg',\n",
       " 'train_0083_flip2.jpg',\n",
       " 'train_0083_flip3.jpg',\n",
       " 'train_0083_rotate.jpg',\n",
       " 'train_0083_rotate2.jpg',\n",
       " 'train_0084.jpg',\n",
       " 'train_0084_flip1.jpg',\n",
       " 'train_0084_flip2.jpg',\n",
       " 'train_0084_flip3.jpg',\n",
       " 'train_0084_rotate.jpg',\n",
       " 'train_0084_rotate2.jpg',\n",
       " 'train_0085.jpg',\n",
       " 'train_0085_flip1.jpg',\n",
       " 'train_0085_flip2.jpg',\n",
       " 'train_0085_flip3.jpg',\n",
       " 'train_0085_rotate.jpg',\n",
       " 'train_0085_rotate2.jpg',\n",
       " 'train_0086.jpg',\n",
       " 'train_0086_flip1.jpg',\n",
       " 'train_0086_flip2.jpg',\n",
       " 'train_0086_flip3.jpg',\n",
       " 'train_0086_rotate.jpg',\n",
       " 'train_0086_rotate2.jpg',\n",
       " 'train_0087.jpg',\n",
       " 'train_0087_flip1.jpg',\n",
       " 'train_0087_flip2.jpg',\n",
       " 'train_0087_flip3.jpg',\n",
       " 'train_0087_rotate.jpg',\n",
       " 'train_0087_rotate2.jpg',\n",
       " 'train_0088.jpg',\n",
       " 'train_0088_flip1.jpg',\n",
       " 'train_0088_flip2.jpg',\n",
       " 'train_0088_flip3.jpg',\n",
       " 'train_0088_rotate.jpg',\n",
       " 'train_0088_rotate2.jpg',\n",
       " 'train_0089.jpg',\n",
       " 'train_0089_flip1.jpg',\n",
       " 'train_0089_flip2.jpg',\n",
       " 'train_0089_flip3.jpg',\n",
       " 'train_0089_rotate.jpg',\n",
       " 'train_0089_rotate2.jpg',\n",
       " 'train_0090.jpg',\n",
       " 'train_0090_flip1.jpg',\n",
       " 'train_0090_flip2.jpg',\n",
       " 'train_0090_flip3.jpg',\n",
       " 'train_0090_rotate.jpg',\n",
       " 'train_0090_rotate2.jpg',\n",
       " 'train_0091.jpg',\n",
       " 'train_0091_flip1.jpg',\n",
       " 'train_0091_flip2.jpg',\n",
       " 'train_0091_flip3.jpg',\n",
       " 'train_0091_rotate.jpg',\n",
       " 'train_0091_rotate2.jpg',\n",
       " 'train_0092.jpg',\n",
       " 'train_0092_flip1.jpg',\n",
       " 'train_0092_flip2.jpg',\n",
       " 'train_0092_flip3.jpg',\n",
       " 'train_0092_rotate.jpg',\n",
       " 'train_0092_rotate2.jpg',\n",
       " 'train_0093.jpg',\n",
       " 'train_0093_flip1.jpg',\n",
       " 'train_0093_flip2.jpg',\n",
       " 'train_0093_flip3.jpg',\n",
       " 'train_0093_rotate.jpg',\n",
       " 'train_0093_rotate2.jpg',\n",
       " 'train_0094.jpg',\n",
       " 'train_0094_flip1.jpg',\n",
       " 'train_0094_flip2.jpg',\n",
       " 'train_0094_flip3.jpg',\n",
       " 'train_0094_rotate.jpg',\n",
       " 'train_0094_rotate2.jpg',\n",
       " 'train_0095.jpg',\n",
       " 'train_0095_flip1.jpg',\n",
       " 'train_0095_flip2.jpg',\n",
       " 'train_0095_flip3.jpg',\n",
       " 'train_0095_rotate.jpg',\n",
       " 'train_0095_rotate2.jpg',\n",
       " 'train_0096.jpg',\n",
       " 'train_0096_flip1.jpg',\n",
       " 'train_0096_flip2.jpg',\n",
       " 'train_0096_flip3.jpg',\n",
       " 'train_0096_rotate.jpg',\n",
       " 'train_0096_rotate2.jpg',\n",
       " 'train_0097.jpg',\n",
       " 'train_0097_flip1.jpg',\n",
       " 'train_0097_flip2.jpg',\n",
       " 'train_0097_flip3.jpg',\n",
       " 'train_0097_rotate.jpg',\n",
       " 'train_0097_rotate2.jpg',\n",
       " 'train_0098.jpg',\n",
       " 'train_0098_flip1.jpg',\n",
       " 'train_0098_flip2.jpg',\n",
       " 'train_0098_flip3.jpg',\n",
       " 'train_0098_rotate.jpg',\n",
       " 'train_0098_rotate2.jpg',\n",
       " 'train_0099.jpg',\n",
       " 'train_0099_flip1.jpg',\n",
       " 'train_0099_flip2.jpg',\n",
       " 'train_0099_flip3.jpg',\n",
       " 'train_0099_rotate.jpg',\n",
       " 'train_0099_rotate2.jpg',\n",
       " 'train_0100.jpg',\n",
       " 'train_0100_flip1.jpg',\n",
       " 'train_0100_flip2.jpg',\n",
       " 'train_0100_flip3.jpg',\n",
       " 'train_0100_rotate.jpg',\n",
       " 'train_0100_rotate2.jpg',\n",
       " 'train_0101.jpg',\n",
       " 'train_0101_flip1.jpg',\n",
       " 'train_0101_flip2.jpg',\n",
       " 'train_0101_flip3.jpg',\n",
       " 'train_0101_rotate.jpg',\n",
       " 'train_0101_rotate2.jpg',\n",
       " 'train_0102.jpg',\n",
       " 'train_0102_flip1.jpg',\n",
       " 'train_0102_flip2.jpg',\n",
       " 'train_0102_flip3.jpg',\n",
       " 'train_0102_rotate.jpg',\n",
       " 'train_0102_rotate2.jpg',\n",
       " 'train_0103.jpg',\n",
       " 'train_0103_flip1.jpg',\n",
       " 'train_0103_flip2.jpg',\n",
       " 'train_0103_flip3.jpg',\n",
       " 'train_0103_rotate.jpg',\n",
       " 'train_0103_rotate2.jpg',\n",
       " 'train_0104.jpg',\n",
       " 'train_0104_flip1.jpg',\n",
       " 'train_0104_flip2.jpg',\n",
       " 'train_0104_flip3.jpg',\n",
       " 'train_0104_rotate.jpg',\n",
       " 'train_0104_rotate2.jpg',\n",
       " 'train_0105.jpg',\n",
       " 'train_0105_flip1.jpg',\n",
       " 'train_0105_flip2.jpg',\n",
       " 'train_0105_flip3.jpg',\n",
       " 'train_0105_rotate.jpg',\n",
       " 'train_0105_rotate2.jpg',\n",
       " 'train_0106.jpg',\n",
       " 'train_0106_flip1.jpg',\n",
       " 'train_0106_flip2.jpg',\n",
       " 'train_0106_flip3.jpg',\n",
       " 'train_0106_rotate.jpg',\n",
       " 'train_0106_rotate2.jpg',\n",
       " 'train_0107.jpg',\n",
       " 'train_0107_flip1.jpg',\n",
       " 'train_0107_flip2.jpg',\n",
       " 'train_0107_flip3.jpg',\n",
       " 'train_0107_rotate.jpg',\n",
       " 'train_0107_rotate2.jpg',\n",
       " 'train_0108.jpg',\n",
       " 'train_0108_flip1.jpg',\n",
       " 'train_0108_flip2.jpg',\n",
       " 'train_0108_flip3.jpg',\n",
       " 'train_0108_rotate.jpg',\n",
       " 'train_0108_rotate2.jpg',\n",
       " 'train_0109.jpg',\n",
       " 'train_0109_flip1.jpg',\n",
       " 'train_0109_flip2.jpg',\n",
       " 'train_0109_flip3.jpg',\n",
       " 'train_0109_rotate.jpg',\n",
       " 'train_0109_rotate2.jpg',\n",
       " 'train_0110.jpg',\n",
       " 'train_0110_flip1.jpg',\n",
       " 'train_0110_flip2.jpg',\n",
       " 'train_0110_flip3.jpg',\n",
       " 'train_0110_rotate.jpg',\n",
       " 'train_0110_rotate2.jpg',\n",
       " 'train_0111.jpg',\n",
       " 'train_0111_flip1.jpg',\n",
       " 'train_0111_flip2.jpg',\n",
       " 'train_0111_flip3.jpg',\n",
       " 'train_0111_rotate.jpg',\n",
       " 'train_0111_rotate2.jpg',\n",
       " 'train_0112.jpg',\n",
       " 'train_0112_flip1.jpg',\n",
       " 'train_0112_flip2.jpg',\n",
       " 'train_0112_flip3.jpg',\n",
       " 'train_0112_rotate.jpg',\n",
       " 'train_0112_rotate2.jpg',\n",
       " 'train_0113.jpg',\n",
       " 'train_0113_flip1.jpg',\n",
       " 'train_0113_flip2.jpg',\n",
       " 'train_0113_flip3.jpg',\n",
       " 'train_0113_rotate.jpg',\n",
       " 'train_0113_rotate2.jpg',\n",
       " 'train_0114.jpg',\n",
       " 'train_0114_flip1.jpg',\n",
       " 'train_0114_flip2.jpg',\n",
       " 'train_0114_flip3.jpg',\n",
       " 'train_0114_rotate.jpg',\n",
       " 'train_0114_rotate2.jpg',\n",
       " 'train_0115.jpg',\n",
       " 'train_0115_flip1.jpg',\n",
       " 'train_0115_flip2.jpg',\n",
       " 'train_0115_flip3.jpg',\n",
       " 'train_0115_rotate.jpg',\n",
       " 'train_0115_rotate2.jpg',\n",
       " 'train_0116.jpg',\n",
       " 'train_0116_flip1.jpg',\n",
       " 'train_0116_flip2.jpg',\n",
       " 'train_0116_flip3.jpg',\n",
       " 'train_0116_rotate.jpg',\n",
       " 'train_0116_rotate2.jpg',\n",
       " 'train_0117.jpg',\n",
       " 'train_0117_flip1.jpg',\n",
       " 'train_0117_flip2.jpg',\n",
       " 'train_0117_flip3.jpg',\n",
       " 'train_0117_rotate.jpg',\n",
       " 'train_0117_rotate2.jpg',\n",
       " 'train_0118.jpg',\n",
       " 'train_0118_flip1.jpg',\n",
       " 'train_0118_flip2.jpg',\n",
       " 'train_0118_flip3.jpg',\n",
       " 'train_0118_rotate.jpg',\n",
       " 'train_0118_rotate2.jpg',\n",
       " 'train_0119.jpg',\n",
       " 'train_0119_flip1.jpg',\n",
       " 'train_0119_flip2.jpg',\n",
       " 'train_0119_flip3.jpg',\n",
       " 'train_0119_rotate.jpg',\n",
       " 'train_0119_rotate2.jpg',\n",
       " 'train_0120.jpg',\n",
       " 'train_0120_flip1.jpg',\n",
       " 'train_0120_flip2.jpg',\n",
       " 'train_0120_flip3.jpg',\n",
       " 'train_0120_rotate.jpg',\n",
       " 'train_0120_rotate2.jpg',\n",
       " 'train_0121.jpg',\n",
       " 'train_0121_flip1.jpg',\n",
       " 'train_0121_flip2.jpg',\n",
       " 'train_0121_flip3.jpg',\n",
       " 'train_0121_rotate.jpg',\n",
       " 'train_0121_rotate2.jpg',\n",
       " 'train_0122.jpg',\n",
       " 'train_0122_flip1.jpg',\n",
       " 'train_0122_flip2.jpg',\n",
       " 'train_0122_flip3.jpg',\n",
       " 'train_0122_rotate.jpg',\n",
       " 'train_0122_rotate2.jpg',\n",
       " 'train_0123.jpg',\n",
       " 'train_0123_flip1.jpg',\n",
       " 'train_0123_flip2.jpg',\n",
       " 'train_0123_flip3.jpg',\n",
       " 'train_0123_rotate.jpg',\n",
       " 'train_0123_rotate2.jpg',\n",
       " 'train_0124.jpg',\n",
       " 'train_0124_flip1.jpg',\n",
       " 'train_0124_flip2.jpg',\n",
       " 'train_0124_flip3.jpg',\n",
       " 'train_0124_rotate.jpg',\n",
       " 'train_0124_rotate2.jpg',\n",
       " 'train_0125.jpg',\n",
       " 'train_0125_flip1.jpg',\n",
       " 'train_0125_flip2.jpg',\n",
       " 'train_0125_flip3.jpg',\n",
       " 'train_0125_rotate.jpg',\n",
       " 'train_0125_rotate2.jpg',\n",
       " 'train_0126.jpg',\n",
       " 'train_0126_flip1.jpg',\n",
       " 'train_0126_flip2.jpg',\n",
       " 'train_0126_flip3.jpg',\n",
       " 'train_0126_rotate.jpg',\n",
       " 'train_0126_rotate2.jpg',\n",
       " 'train_0127.jpg',\n",
       " 'train_0127_flip1.jpg',\n",
       " 'train_0127_flip2.jpg',\n",
       " 'train_0127_flip3.jpg',\n",
       " 'train_0127_rotate.jpg',\n",
       " 'train_0127_rotate2.jpg',\n",
       " 'train_0128.jpg',\n",
       " 'train_0128_flip1.jpg',\n",
       " 'train_0128_flip2.jpg',\n",
       " 'train_0128_flip3.jpg',\n",
       " 'train_0128_rotate.jpg',\n",
       " 'train_0128_rotate2.jpg',\n",
       " 'train_0129.jpg',\n",
       " 'train_0129_flip1.jpg',\n",
       " 'train_0129_flip2.jpg',\n",
       " 'train_0129_flip3.jpg',\n",
       " 'train_0129_rotate.jpg',\n",
       " 'train_0129_rotate2.jpg',\n",
       " 'train_0130.jpg',\n",
       " 'train_0130_flip1.jpg',\n",
       " 'train_0130_flip2.jpg',\n",
       " 'train_0130_flip3.jpg',\n",
       " 'train_0130_rotate.jpg',\n",
       " 'train_0130_rotate2.jpg',\n",
       " 'train_0131.jpg',\n",
       " 'train_0131_flip1.jpg',\n",
       " 'train_0131_flip2.jpg',\n",
       " 'train_0131_flip3.jpg',\n",
       " 'train_0131_rotate.jpg',\n",
       " 'train_0131_rotate2.jpg',\n",
       " 'train_0132.jpg',\n",
       " 'train_0132_flip1.jpg',\n",
       " 'train_0132_flip2.jpg',\n",
       " 'train_0132_flip3.jpg',\n",
       " 'train_0132_rotate.jpg',\n",
       " 'train_0132_rotate2.jpg',\n",
       " 'train_0133.jpg',\n",
       " 'train_0133_flip1.jpg',\n",
       " 'train_0133_flip2.jpg',\n",
       " 'train_0133_flip3.jpg',\n",
       " 'train_0133_rotate.jpg',\n",
       " 'train_0133_rotate2.jpg',\n",
       " 'train_0134.jpg',\n",
       " 'train_0134_flip1.jpg',\n",
       " 'train_0134_flip2.jpg',\n",
       " 'train_0134_flip3.jpg',\n",
       " 'train_0134_rotate.jpg',\n",
       " 'train_0134_rotate2.jpg',\n",
       " 'train_0135.jpg',\n",
       " 'train_0135_flip1.jpg',\n",
       " 'train_0135_flip2.jpg',\n",
       " 'train_0135_flip3.jpg',\n",
       " 'train_0135_rotate.jpg',\n",
       " 'train_0135_rotate2.jpg',\n",
       " 'train_0136.jpg',\n",
       " 'train_0136_flip1.jpg',\n",
       " 'train_0136_flip2.jpg',\n",
       " 'train_0136_flip3.jpg',\n",
       " 'train_0136_rotate.jpg',\n",
       " 'train_0136_rotate2.jpg',\n",
       " 'train_0137.jpg',\n",
       " 'train_0137_flip1.jpg',\n",
       " 'train_0137_flip2.jpg',\n",
       " 'train_0137_flip3.jpg',\n",
       " 'train_0137_rotate.jpg',\n",
       " 'train_0137_rotate2.jpg',\n",
       " 'train_0138.jpg',\n",
       " 'train_0138_flip1.jpg',\n",
       " 'train_0138_flip2.jpg',\n",
       " 'train_0138_flip3.jpg',\n",
       " 'train_0138_rotate.jpg',\n",
       " 'train_0138_rotate2.jpg',\n",
       " 'train_0139.jpg',\n",
       " 'train_0139_flip1.jpg',\n",
       " 'train_0139_flip2.jpg',\n",
       " 'train_0139_flip3.jpg',\n",
       " 'train_0139_rotate.jpg',\n",
       " 'train_0139_rotate2.jpg',\n",
       " 'train_0140.jpg',\n",
       " 'train_0140_flip1.jpg',\n",
       " 'train_0140_flip2.jpg',\n",
       " 'train_0140_flip3.jpg',\n",
       " 'train_0140_rotate.jpg',\n",
       " 'train_0140_rotate2.jpg',\n",
       " 'train_0141.jpg',\n",
       " 'train_0141_flip1.jpg',\n",
       " 'train_0141_flip2.jpg',\n",
       " 'train_0141_flip3.jpg',\n",
       " 'train_0141_rotate.jpg',\n",
       " 'train_0141_rotate2.jpg',\n",
       " 'train_0142.jpg',\n",
       " 'train_0142_flip1.jpg',\n",
       " 'train_0142_flip2.jpg',\n",
       " 'train_0142_flip3.jpg',\n",
       " 'train_0142_rotate.jpg',\n",
       " 'train_0142_rotate2.jpg',\n",
       " 'train_0143.jpg',\n",
       " 'train_0143_flip1.jpg',\n",
       " 'train_0143_flip2.jpg',\n",
       " 'train_0143_flip3.jpg',\n",
       " 'train_0143_rotate.jpg',\n",
       " 'train_0143_rotate2.jpg',\n",
       " 'train_0144.jpg',\n",
       " 'train_0144_flip1.jpg',\n",
       " 'train_0144_flip2.jpg',\n",
       " 'train_0144_flip3.jpg',\n",
       " 'train_0144_rotate.jpg',\n",
       " 'train_0144_rotate2.jpg',\n",
       " 'train_0145.jpg',\n",
       " 'train_0145_flip1.jpg',\n",
       " 'train_0145_flip2.jpg',\n",
       " 'train_0145_flip3.jpg',\n",
       " 'train_0145_rotate.jpg',\n",
       " 'train_0145_rotate2.jpg',\n",
       " 'train_0146.jpg',\n",
       " 'train_0146_flip1.jpg',\n",
       " 'train_0146_flip2.jpg',\n",
       " 'train_0146_flip3.jpg',\n",
       " 'train_0146_rotate.jpg',\n",
       " 'train_0146_rotate2.jpg',\n",
       " 'train_0147.jpg',\n",
       " 'train_0147_flip1.jpg',\n",
       " 'train_0147_flip2.jpg',\n",
       " 'train_0147_flip3.jpg',\n",
       " 'train_0147_rotate.jpg',\n",
       " 'train_0147_rotate2.jpg',\n",
       " 'train_0148.jpg',\n",
       " 'train_0148_flip1.jpg',\n",
       " 'train_0148_flip2.jpg',\n",
       " 'train_0148_flip3.jpg',\n",
       " 'train_0148_rotate.jpg',\n",
       " 'train_0148_rotate2.jpg',\n",
       " 'train_0149.jpg',\n",
       " 'train_0149_flip1.jpg',\n",
       " 'train_0149_flip2.jpg',\n",
       " 'train_0149_flip3.jpg',\n",
       " 'train_0149_rotate.jpg',\n",
       " 'train_0149_rotate2.jpg',\n",
       " 'train_0150.jpg',\n",
       " 'train_0150_flip1.jpg',\n",
       " 'train_0150_flip2.jpg',\n",
       " 'train_0150_flip3.jpg',\n",
       " 'train_0150_rotate.jpg',\n",
       " 'train_0150_rotate2.jpg',\n",
       " 'train_0151.jpg',\n",
       " 'train_0151_flip1.jpg',\n",
       " 'train_0151_flip2.jpg',\n",
       " 'train_0151_flip3.jpg',\n",
       " 'train_0151_rotate.jpg',\n",
       " 'train_0151_rotate2.jpg',\n",
       " 'train_0152.jpg',\n",
       " 'train_0152_flip1.jpg',\n",
       " 'train_0152_flip2.jpg',\n",
       " 'train_0152_flip3.jpg',\n",
       " 'train_0152_rotate.jpg',\n",
       " 'train_0152_rotate2.jpg',\n",
       " 'train_0153.jpg',\n",
       " 'train_0153_flip1.jpg',\n",
       " 'train_0153_flip2.jpg',\n",
       " 'train_0153_flip3.jpg',\n",
       " 'train_0153_rotate.jpg',\n",
       " 'train_0153_rotate2.jpg',\n",
       " 'train_0154.jpg',\n",
       " 'train_0154_flip1.jpg',\n",
       " 'train_0154_flip2.jpg',\n",
       " 'train_0154_flip3.jpg',\n",
       " 'train_0154_rotate.jpg',\n",
       " 'train_0154_rotate2.jpg',\n",
       " 'train_0155.jpg',\n",
       " 'train_0155_flip1.jpg',\n",
       " 'train_0155_flip2.jpg',\n",
       " 'train_0155_flip3.jpg',\n",
       " 'train_0155_rotate.jpg',\n",
       " 'train_0155_rotate2.jpg',\n",
       " 'train_0156.jpg',\n",
       " 'train_0156_flip1.jpg',\n",
       " 'train_0156_flip2.jpg',\n",
       " 'train_0156_flip3.jpg',\n",
       " 'train_0156_rotate.jpg',\n",
       " 'train_0156_rotate2.jpg',\n",
       " 'train_0157.jpg',\n",
       " 'train_0157_flip1.jpg',\n",
       " 'train_0157_flip2.jpg',\n",
       " 'train_0157_flip3.jpg',\n",
       " 'train_0157_rotate.jpg',\n",
       " 'train_0157_rotate2.jpg',\n",
       " 'train_0158.jpg',\n",
       " 'train_0158_flip1.jpg',\n",
       " 'train_0158_flip2.jpg',\n",
       " 'train_0158_flip3.jpg',\n",
       " 'train_0158_rotate.jpg',\n",
       " 'train_0158_rotate2.jpg',\n",
       " 'train_0159.jpg',\n",
       " 'train_0159_flip1.jpg',\n",
       " 'train_0159_flip2.jpg',\n",
       " 'train_0159_flip3.jpg',\n",
       " 'train_0159_rotate.jpg',\n",
       " 'train_0159_rotate2.jpg',\n",
       " 'train_0160.jpg',\n",
       " 'train_0160_flip1.jpg',\n",
       " 'train_0160_flip2.jpg',\n",
       " 'train_0160_flip3.jpg',\n",
       " 'train_0160_rotate.jpg',\n",
       " 'train_0160_rotate2.jpg',\n",
       " 'train_0161.jpg',\n",
       " 'train_0161_flip1.jpg',\n",
       " 'train_0161_flip2.jpg',\n",
       " 'train_0161_flip3.jpg',\n",
       " 'train_0161_rotate.jpg',\n",
       " 'train_0161_rotate2.jpg',\n",
       " 'train_0162.jpg',\n",
       " 'train_0162_flip1.jpg',\n",
       " 'train_0162_flip2.jpg',\n",
       " 'train_0162_flip3.jpg',\n",
       " 'train_0162_rotate.jpg',\n",
       " 'train_0162_rotate2.jpg',\n",
       " 'train_0163.jpg',\n",
       " 'train_0163_flip1.jpg',\n",
       " 'train_0163_flip2.jpg',\n",
       " 'train_0163_flip3.jpg',\n",
       " 'train_0163_rotate.jpg',\n",
       " 'train_0163_rotate2.jpg',\n",
       " 'train_0164.jpg',\n",
       " 'train_0164_flip1.jpg',\n",
       " 'train_0164_flip2.jpg',\n",
       " 'train_0164_flip3.jpg',\n",
       " 'train_0164_rotate.jpg',\n",
       " 'train_0164_rotate2.jpg',\n",
       " 'train_0165.jpg',\n",
       " 'train_0165_flip1.jpg',\n",
       " 'train_0165_flip2.jpg',\n",
       " 'train_0165_flip3.jpg',\n",
       " 'train_0165_rotate.jpg',\n",
       " 'train_0165_rotate2.jpg',\n",
       " 'train_0166.jpg',\n",
       " 'train_0166_flip1.jpg',\n",
       " 'train_0166_flip2.jpg',\n",
       " 'train_0166_flip3.jpg',\n",
       " ...]"
      ]
     },
     "execution_count": 29,
     "metadata": {},
     "output_type": "execute_result"
    }
   ],
   "source": [
    "new_id = sorted(os.listdir('./train_aug'))\n",
    "new_id"
   ]
  },
  {
   "cell_type": "code",
   "execution_count": 30,
   "metadata": {
    "id": "qI2qlNOI7Sag"
   },
   "outputs": [],
   "source": [
    "new_df = pd.DataFrame(new_id)\n",
    "new_df = new_df.rename(columns={0:'id'})"
   ]
  },
  {
   "cell_type": "code",
   "execution_count": 31,
   "metadata": {
    "id": "evx4zpa47Sag"
   },
   "outputs": [],
   "source": [
    "new_df = new_df[['id']]"
   ]
  },
  {
   "cell_type": "code",
   "execution_count": 32,
   "metadata": {
    "id": "ai13JeX27Sag",
    "outputId": "8e0a3593-2df8-423b-ba74-c6a2887c5cd7"
   },
   "outputs": [
    {
     "data": {
      "text/plain": [
       "1872"
      ]
     },
     "execution_count": 32,
     "metadata": {},
     "output_type": "execute_result"
    }
   ],
   "source": [
    "len(new_df)"
   ]
  },
  {
   "cell_type": "code",
   "execution_count": 33,
   "metadata": {
    "id": "WYwVe_0J7Sag"
   },
   "outputs": [],
   "source": [
    "for i in range(len(new_df)):\n",
    "    j = i // 6\n",
    "    new_df.loc[i, 'expression'] = train_df.loc[j, 'expression']"
   ]
  },
  {
   "cell_type": "code",
   "execution_count": 34,
   "metadata": {
    "id": "gN0hGzjJ7Sah",
    "outputId": "1fec2a15-0f3e-4665-e0fb-ea7c7b313500",
    "tags": []
   },
   "outputs": [
    {
     "data": {
      "text/html": [
       "<div>\n",
       "<style scoped>\n",
       "    .dataframe tbody tr th:only-of-type {\n",
       "        vertical-align: middle;\n",
       "    }\n",
       "\n",
       "    .dataframe tbody tr th {\n",
       "        vertical-align: top;\n",
       "    }\n",
       "\n",
       "    .dataframe thead th {\n",
       "        text-align: right;\n",
       "    }\n",
       "</style>\n",
       "<table border=\"1\" class=\"dataframe\">\n",
       "  <thead>\n",
       "    <tr style=\"text-align: right;\">\n",
       "      <th></th>\n",
       "      <th>id</th>\n",
       "      <th>expression</th>\n",
       "    </tr>\n",
       "  </thead>\n",
       "  <tbody>\n",
       "    <tr>\n",
       "      <th>0</th>\n",
       "      <td>train_0000.jpg</td>\n",
       "      <td>1.0</td>\n",
       "    </tr>\n",
       "    <tr>\n",
       "      <th>1</th>\n",
       "      <td>train_0000_flip1.jpg</td>\n",
       "      <td>1.0</td>\n",
       "    </tr>\n",
       "    <tr>\n",
       "      <th>2</th>\n",
       "      <td>train_0000_flip2.jpg</td>\n",
       "      <td>1.0</td>\n",
       "    </tr>\n",
       "    <tr>\n",
       "      <th>3</th>\n",
       "      <td>train_0000_flip3.jpg</td>\n",
       "      <td>1.0</td>\n",
       "    </tr>\n",
       "    <tr>\n",
       "      <th>4</th>\n",
       "      <td>train_0000_rotate.jpg</td>\n",
       "      <td>1.0</td>\n",
       "    </tr>\n",
       "    <tr>\n",
       "      <th>5</th>\n",
       "      <td>train_0000_rotate2.jpg</td>\n",
       "      <td>1.0</td>\n",
       "    </tr>\n",
       "    <tr>\n",
       "      <th>6</th>\n",
       "      <td>train_0001.jpg</td>\n",
       "      <td>1.0</td>\n",
       "    </tr>\n",
       "    <tr>\n",
       "      <th>7</th>\n",
       "      <td>train_0001_flip1.jpg</td>\n",
       "      <td>1.0</td>\n",
       "    </tr>\n",
       "    <tr>\n",
       "      <th>8</th>\n",
       "      <td>train_0001_flip2.jpg</td>\n",
       "      <td>1.0</td>\n",
       "    </tr>\n",
       "    <tr>\n",
       "      <th>9</th>\n",
       "      <td>train_0001_flip3.jpg</td>\n",
       "      <td>1.0</td>\n",
       "    </tr>\n",
       "    <tr>\n",
       "      <th>10</th>\n",
       "      <td>train_0001_rotate.jpg</td>\n",
       "      <td>1.0</td>\n",
       "    </tr>\n",
       "    <tr>\n",
       "      <th>11</th>\n",
       "      <td>train_0001_rotate2.jpg</td>\n",
       "      <td>1.0</td>\n",
       "    </tr>\n",
       "    <tr>\n",
       "      <th>12</th>\n",
       "      <td>train_0002.jpg</td>\n",
       "      <td>0.0</td>\n",
       "    </tr>\n",
       "    <tr>\n",
       "      <th>13</th>\n",
       "      <td>train_0002_flip1.jpg</td>\n",
       "      <td>0.0</td>\n",
       "    </tr>\n",
       "    <tr>\n",
       "      <th>14</th>\n",
       "      <td>train_0002_flip2.jpg</td>\n",
       "      <td>0.0</td>\n",
       "    </tr>\n",
       "    <tr>\n",
       "      <th>15</th>\n",
       "      <td>train_0002_flip3.jpg</td>\n",
       "      <td>0.0</td>\n",
       "    </tr>\n",
       "    <tr>\n",
       "      <th>16</th>\n",
       "      <td>train_0002_rotate.jpg</td>\n",
       "      <td>0.0</td>\n",
       "    </tr>\n",
       "    <tr>\n",
       "      <th>17</th>\n",
       "      <td>train_0002_rotate2.jpg</td>\n",
       "      <td>0.0</td>\n",
       "    </tr>\n",
       "    <tr>\n",
       "      <th>18</th>\n",
       "      <td>train_0003.jpg</td>\n",
       "      <td>2.0</td>\n",
       "    </tr>\n",
       "    <tr>\n",
       "      <th>19</th>\n",
       "      <td>train_0003_flip1.jpg</td>\n",
       "      <td>2.0</td>\n",
       "    </tr>\n",
       "  </tbody>\n",
       "</table>\n",
       "</div>"
      ],
      "text/plain": [
       "                        id  expression\n",
       "0           train_0000.jpg         1.0\n",
       "1     train_0000_flip1.jpg         1.0\n",
       "2     train_0000_flip2.jpg         1.0\n",
       "3     train_0000_flip3.jpg         1.0\n",
       "4    train_0000_rotate.jpg         1.0\n",
       "5   train_0000_rotate2.jpg         1.0\n",
       "6           train_0001.jpg         1.0\n",
       "7     train_0001_flip1.jpg         1.0\n",
       "8     train_0001_flip2.jpg         1.0\n",
       "9     train_0001_flip3.jpg         1.0\n",
       "10   train_0001_rotate.jpg         1.0\n",
       "11  train_0001_rotate2.jpg         1.0\n",
       "12          train_0002.jpg         0.0\n",
       "13    train_0002_flip1.jpg         0.0\n",
       "14    train_0002_flip2.jpg         0.0\n",
       "15    train_0002_flip3.jpg         0.0\n",
       "16   train_0002_rotate.jpg         0.0\n",
       "17  train_0002_rotate2.jpg         0.0\n",
       "18          train_0003.jpg         2.0\n",
       "19    train_0003_flip1.jpg         2.0"
      ]
     },
     "execution_count": 34,
     "metadata": {},
     "output_type": "execute_result"
    }
   ],
   "source": [
    "new_df.head(20)"
   ]
  },
  {
   "cell_type": "code",
   "execution_count": 35,
   "metadata": {
    "id": "IdbVeT287Sah",
    "outputId": "3e1c5751-e09f-413a-da50-e7d8d45d04c2",
    "tags": []
   },
   "outputs": [
    {
     "data": {
      "text/html": [
       "<div>\n",
       "<style scoped>\n",
       "    .dataframe tbody tr th:only-of-type {\n",
       "        vertical-align: middle;\n",
       "    }\n",
       "\n",
       "    .dataframe tbody tr th {\n",
       "        vertical-align: top;\n",
       "    }\n",
       "\n",
       "    .dataframe thead th {\n",
       "        text-align: right;\n",
       "    }\n",
       "</style>\n",
       "<table border=\"1\" class=\"dataframe\">\n",
       "  <thead>\n",
       "    <tr style=\"text-align: right;\">\n",
       "      <th></th>\n",
       "      <th>id</th>\n",
       "      <th>userid</th>\n",
       "      <th>pose</th>\n",
       "      <th>expression</th>\n",
       "      <th>eyes</th>\n",
       "    </tr>\n",
       "  </thead>\n",
       "  <tbody>\n",
       "    <tr>\n",
       "      <th>0</th>\n",
       "      <td>train_0000.jpg</td>\n",
       "      <td>2</td>\n",
       "      <td>1</td>\n",
       "      <td>1</td>\n",
       "      <td>1</td>\n",
       "    </tr>\n",
       "    <tr>\n",
       "      <th>1</th>\n",
       "      <td>train_0001.jpg</td>\n",
       "      <td>11</td>\n",
       "      <td>1</td>\n",
       "      <td>1</td>\n",
       "      <td>1</td>\n",
       "    </tr>\n",
       "    <tr>\n",
       "      <th>2</th>\n",
       "      <td>train_0002.jpg</td>\n",
       "      <td>7</td>\n",
       "      <td>3</td>\n",
       "      <td>0</td>\n",
       "      <td>0</td>\n",
       "    </tr>\n",
       "    <tr>\n",
       "      <th>3</th>\n",
       "      <td>train_0003.jpg</td>\n",
       "      <td>0</td>\n",
       "      <td>2</td>\n",
       "      <td>2</td>\n",
       "      <td>0</td>\n",
       "    </tr>\n",
       "    <tr>\n",
       "      <th>4</th>\n",
       "      <td>train_0004.jpg</td>\n",
       "      <td>3</td>\n",
       "      <td>2</td>\n",
       "      <td>3</td>\n",
       "      <td>0</td>\n",
       "    </tr>\n",
       "    <tr>\n",
       "      <th>...</th>\n",
       "      <td>...</td>\n",
       "      <td>...</td>\n",
       "      <td>...</td>\n",
       "      <td>...</td>\n",
       "      <td>...</td>\n",
       "    </tr>\n",
       "    <tr>\n",
       "      <th>307</th>\n",
       "      <td>train_0307.jpg</td>\n",
       "      <td>14</td>\n",
       "      <td>1</td>\n",
       "      <td>2</td>\n",
       "      <td>1</td>\n",
       "    </tr>\n",
       "    <tr>\n",
       "      <th>308</th>\n",
       "      <td>train_0308.jpg</td>\n",
       "      <td>11</td>\n",
       "      <td>1</td>\n",
       "      <td>2</td>\n",
       "      <td>1</td>\n",
       "    </tr>\n",
       "    <tr>\n",
       "      <th>309</th>\n",
       "      <td>train_0309.jpg</td>\n",
       "      <td>14</td>\n",
       "      <td>2</td>\n",
       "      <td>2</td>\n",
       "      <td>0</td>\n",
       "    </tr>\n",
       "    <tr>\n",
       "      <th>310</th>\n",
       "      <td>train_0310.jpg</td>\n",
       "      <td>4</td>\n",
       "      <td>2</td>\n",
       "      <td>3</td>\n",
       "      <td>1</td>\n",
       "    </tr>\n",
       "    <tr>\n",
       "      <th>311</th>\n",
       "      <td>train_0311.jpg</td>\n",
       "      <td>6</td>\n",
       "      <td>2</td>\n",
       "      <td>1</td>\n",
       "      <td>1</td>\n",
       "    </tr>\n",
       "  </tbody>\n",
       "</table>\n",
       "<p>312 rows × 5 columns</p>\n",
       "</div>"
      ],
      "text/plain": [
       "                 id  userid  pose  expression  eyes\n",
       "0    train_0000.jpg       2     1           1     1\n",
       "1    train_0001.jpg      11     1           1     1\n",
       "2    train_0002.jpg       7     3           0     0\n",
       "3    train_0003.jpg       0     2           2     0\n",
       "4    train_0004.jpg       3     2           3     0\n",
       "..              ...     ...   ...         ...   ...\n",
       "307  train_0307.jpg      14     1           2     1\n",
       "308  train_0308.jpg      11     1           2     1\n",
       "309  train_0309.jpg      14     2           2     0\n",
       "310  train_0310.jpg       4     2           3     1\n",
       "311  train_0311.jpg       6     2           1     1\n",
       "\n",
       "[312 rows x 5 columns]"
      ]
     },
     "execution_count": 35,
     "metadata": {},
     "output_type": "execute_result"
    }
   ],
   "source": [
    "train_df"
   ]
  },
  {
   "cell_type": "code",
   "execution_count": 36,
   "metadata": {
    "id": "lLTiUFLhgUw2"
   },
   "outputs": [],
   "source": [
    "y = torch.Tensor(new_df['expression'].to_numpy()).long().to(device) ## CrossEntropyLossで整数値で扱わなくてはならないためlong()型を指定"
   ]
  },
  {
   "cell_type": "code",
   "execution_count": 37,
   "metadata": {
    "colab": {
     "base_uri": "https://localhost:8080/"
    },
    "executionInfo": {
     "elapsed": 20,
     "status": "ok",
     "timestamp": 1634829613488,
     "user": {
      "displayName": "Hiroyuki Onishi",
      "photoUrl": "https://lh3.googleusercontent.com/a/default-user=s64",
      "userId": "06117648582669754644"
     },
     "user_tz": -540
    },
    "id": "AgPFouURpmxW",
    "outputId": "6743d13e-2577-4324-f5c0-d534d690c826"
   },
   "outputs": [
    {
     "data": {
      "text/plain": [
       "torch.Size([1872])"
      ]
     },
     "execution_count": 37,
     "metadata": {},
     "output_type": "execute_result"
    }
   ],
   "source": [
    "y.shape"
   ]
  },
  {
   "cell_type": "code",
   "execution_count": 38,
   "metadata": {
    "colab": {
     "base_uri": "https://localhost:8080/"
    },
    "executionInfo": {
     "elapsed": 20,
     "status": "ok",
     "timestamp": 1634829613489,
     "user": {
      "displayName": "Hiroyuki Onishi",
      "photoUrl": "https://lh3.googleusercontent.com/a/default-user=s64",
      "userId": "06117648582669754644"
     },
     "user_tz": -540
    },
    "id": "ZMwadFjw3RIV",
    "outputId": "a2601a9f-fda2-435c-d21c-42eef680e8d0"
   },
   "outputs": [
    {
     "data": {
      "text/plain": [
       "tensor([1, 1, 1,  ..., 1, 1, 1], device='cuda:0')"
      ]
     },
     "execution_count": 38,
     "metadata": {},
     "output_type": "execute_result"
    }
   ],
   "source": [
    "y"
   ]
  },
  {
   "cell_type": "code",
   "execution_count": 39,
   "metadata": {
    "id": "6HqUQluE8-Wj"
   },
   "outputs": [],
   "source": [
    "#X = X / 255 # 画像データはRGB(0-255)の値をとるため、/255 で標準化(0-1の範囲に収めること)できる"
   ]
  },
  {
   "cell_type": "code",
   "execution_count": 40,
   "metadata": {
    "id": "doaPQ4Iq-YUh"
   },
   "outputs": [],
   "source": [
    "#X[0]"
   ]
  },
  {
   "cell_type": "code",
   "execution_count": 41,
   "metadata": {
    "id": "jUWJIq8o01fj"
   },
   "outputs": [],
   "source": [
    "#x_train, x_test, t_train, t_test = train_test_split(X, y, test_size=0.2, shuffle=False) \n",
    "# 4の倍数で分割したい\n",
    "train_len = 936 # 312*3\n",
    "x_train = X[:train_len]\n",
    "t_train = y[:train_len] \n",
    "x_test = X[train_len:]\n",
    "t_test = y[train_len:]"
   ]
  },
  {
   "cell_type": "code",
   "execution_count": 42,
   "metadata": {
    "colab": {
     "base_uri": "https://localhost:8080/"
    },
    "executionInfo": {
     "elapsed": 16,
     "status": "ok",
     "timestamp": 1634829613490,
     "user": {
      "displayName": "Hiroyuki Onishi",
      "photoUrl": "https://lh3.googleusercontent.com/a/default-user=s64",
      "userId": "06117648582669754644"
     },
     "user_tz": -540
    },
    "id": "8R3KxlVzpz7j",
    "outputId": "08f4240e-6d34-442f-a8d8-8e972e7711fe"
   },
   "outputs": [
    {
     "name": "stdout",
     "output_type": "stream",
     "text": [
      "torch.Size([936, 3, 120, 128]) torch.Size([936, 3, 120, 128]) torch.Size([936]) torch.Size([936])\n"
     ]
    }
   ],
   "source": [
    "print(x_train.shape, x_test.shape, t_train.shape, t_test.shape)"
   ]
  },
  {
   "cell_type": "code",
   "execution_count": 43,
   "metadata": {
    "colab": {
     "base_uri": "https://localhost:8080/"
    },
    "executionInfo": {
     "elapsed": 14,
     "status": "ok",
     "timestamp": 1634829613490,
     "user": {
      "displayName": "Hiroyuki Onishi",
      "photoUrl": "https://lh3.googleusercontent.com/a/default-user=s64",
      "userId": "06117648582669754644"
     },
     "user_tz": -540
    },
    "id": "cxvTPIQB3BSP",
    "outputId": "44024fa4-7e0e-4b08-9b9d-54f945df2ec2",
    "tags": []
   },
   "outputs": [
    {
     "data": {
      "text/plain": [
       "tensor([1, 1, 1, 1, 1, 1, 1, 1, 1, 1, 1, 1, 0, 0, 0, 0, 0, 0, 2, 2, 2, 2, 2, 2,\n",
       "        3, 3, 3, 3, 3, 3, 2, 2, 2, 2, 2, 2, 3, 3, 3, 3, 3, 3, 3, 3, 3, 3, 3, 3,\n",
       "        2, 2, 2, 2, 2, 2, 3, 3, 3, 3, 3, 3, 3, 3, 3, 3, 3, 3, 2, 2, 2, 2, 2, 2,\n",
       "        3, 3, 3, 3, 3, 3, 0, 0, 0, 0, 0, 0, 3, 3, 3, 3, 3, 3, 1, 1, 1, 1, 1, 1,\n",
       "        3, 3, 3, 3, 3, 3, 0, 0, 0, 0, 0, 0, 2, 2, 2, 2, 2, 2, 0, 0, 0, 0, 0, 0,\n",
       "        1, 1, 1, 1, 1, 1, 0, 0, 0, 0, 0, 0, 3, 3, 3, 3, 3, 3, 3, 3, 3, 3, 3, 3,\n",
       "        3, 3, 3, 3, 3, 3, 3, 3, 3, 3, 3, 3, 0, 0, 0, 0, 0, 0, 1, 1, 1, 1, 1, 1,\n",
       "        1, 1, 1, 1, 1, 1, 3, 3, 3, 3, 3, 3, 3, 3, 3, 3, 3, 3, 1, 1, 1, 1, 1, 1,\n",
       "        0, 0, 0, 0, 0, 0, 0, 0, 0, 0, 0, 0, 0, 0, 0, 0, 0, 0, 0, 0, 0, 0, 0, 0,\n",
       "        3, 3, 3, 3, 3, 3, 1, 1, 1, 1, 1, 1, 0, 0, 0, 0, 0, 0, 2, 2, 2, 2, 2, 2,\n",
       "        0, 0, 0, 0, 0, 0, 2, 2, 2, 2, 2, 2, 2, 2, 2, 2, 2, 2, 0, 0, 0, 0, 0, 0,\n",
       "        1, 1, 1, 1, 1, 1, 2, 2, 2, 2, 2, 2, 3, 3, 3, 3, 3, 3, 0, 0, 0, 0, 0, 0,\n",
       "        3, 3, 3, 3, 3, 3, 0, 0, 0, 0, 0, 0, 3, 3, 3, 3, 3, 3, 2, 2, 2, 2, 2, 2,\n",
       "        3, 3, 3, 3, 3, 3, 2, 2, 2, 2, 2, 2, 2, 2, 2, 2, 2, 2, 0, 0, 0, 0, 0, 0,\n",
       "        3, 3, 3, 3, 3, 3, 0, 0, 0, 0, 0, 0, 0, 0, 0, 0, 0, 0, 2, 2, 2, 2, 2, 2,\n",
       "        1, 1, 1, 1, 1, 1, 3, 3, 3, 3, 3, 3, 0, 0, 0, 0, 0, 0, 2, 2, 2, 2, 2, 2,\n",
       "        1, 1, 1, 1, 1, 1, 1, 1, 1, 1, 1, 1, 2, 2, 2, 2, 2, 2, 0, 0, 0, 0, 0, 0,\n",
       "        1, 1, 1, 1, 1, 1, 2, 2, 2, 2, 2, 2, 3, 3, 3, 3, 3, 3, 2, 2, 2, 2, 2, 2,\n",
       "        2, 2, 2, 2, 2, 2, 1, 1, 1, 1, 1, 1, 0, 0, 0, 0, 0, 0, 3, 3, 3, 3, 3, 3,\n",
       "        1, 1, 1, 1, 1, 1, 2, 2, 2, 2, 2, 2, 2, 2, 2, 2, 2, 2, 0, 0, 0, 0, 0, 0,\n",
       "        2, 2, 2, 2, 2, 2, 0, 0, 0, 0, 0, 0, 0, 0, 0, 0, 0, 0, 0, 0, 0, 0, 0, 0,\n",
       "        0, 0, 0, 0, 0, 0, 3, 3, 3, 3, 3, 3, 1, 1, 1, 1, 1, 1, 3, 3, 3, 3, 3, 3,\n",
       "        1, 1, 1, 1, 1, 1, 1, 1, 1, 1, 1, 1, 3, 3, 3, 3, 3, 3, 0, 0, 0, 0, 0, 0,\n",
       "        0, 0, 0, 0, 0, 0, 1, 1, 1, 1, 1, 1, 3, 3, 3, 3, 3, 3, 0, 0, 0, 0, 0, 0,\n",
       "        0, 0, 0, 0, 0, 0, 2, 2, 2, 2, 2, 2, 2, 2, 2, 2, 2, 2, 1, 1, 1, 1, 1, 1,\n",
       "        2, 2, 2, 2, 2, 2, 1, 1, 1, 1, 1, 1, 0, 0, 0, 0, 0, 0, 3, 3, 3, 3, 3, 3,\n",
       "        3, 3, 3, 3, 3, 3, 0, 0, 0, 0, 0, 0, 2, 2, 2, 2, 2, 2, 0, 0, 0, 0, 0, 0,\n",
       "        2, 2, 2, 2, 2, 2, 0, 0, 0, 0, 0, 0, 1, 1, 1, 1, 1, 1, 3, 3, 3, 3, 3, 3,\n",
       "        2, 2, 2, 2, 2, 2, 2, 2, 2, 2, 2, 2, 2, 2, 2, 2, 2, 2, 1, 1, 1, 1, 1, 1,\n",
       "        2, 2, 2, 2, 2, 2, 0, 0, 0, 0, 0, 0, 1, 1, 1, 1, 1, 1, 3, 3, 3, 3, 3, 3,\n",
       "        1, 1, 1, 1, 1, 1, 2, 2, 2, 2, 2, 2, 2, 2, 2, 2, 2, 2, 2, 2, 2, 2, 2, 2,\n",
       "        1, 1, 1, 1, 1, 1, 2, 2, 2, 2, 2, 2, 1, 1, 1, 1, 1, 1, 2, 2, 2, 2, 2, 2,\n",
       "        2, 2, 2, 2, 2, 2, 2, 2, 2, 2, 2, 2, 0, 0, 0, 0, 0, 0, 1, 1, 1, 1, 1, 1,\n",
       "        3, 3, 3, 3, 3, 3, 1, 1, 1, 1, 1, 1, 3, 3, 3, 3, 3, 3, 1, 1, 1, 1, 1, 1,\n",
       "        3, 3, 3, 3, 3, 3, 3, 3, 3, 3, 3, 3, 1, 1, 1, 1, 1, 1, 2, 2, 2, 2, 2, 2,\n",
       "        1, 1, 1, 1, 1, 1, 1, 1, 1, 1, 1, 1, 0, 0, 0, 0, 0, 0, 1, 1, 1, 1, 1, 1,\n",
       "        1, 1, 1, 1, 1, 1, 3, 3, 3, 3, 3, 3, 1, 1, 1, 1, 1, 1, 0, 0, 0, 0, 0, 0,\n",
       "        0, 0, 0, 0, 0, 0, 1, 1, 1, 1, 1, 1, 1, 1, 1, 1, 1, 1, 1, 1, 1, 1, 1, 1,\n",
       "        1, 1, 1, 1, 1, 1, 3, 3, 3, 3, 3, 3, 0, 0, 0, 0, 0, 0, 3, 3, 3, 3, 3, 3],\n",
       "       device='cuda:0')"
      ]
     },
     "execution_count": 43,
     "metadata": {},
     "output_type": "execute_result"
    }
   ],
   "source": [
    "t_train"
   ]
  },
  {
   "cell_type": "code",
   "execution_count": 44,
   "metadata": {
    "colab": {
     "base_uri": "https://localhost:8080/"
    },
    "executionInfo": {
     "elapsed": 13,
     "status": "ok",
     "timestamp": 1634829613491,
     "user": {
      "displayName": "Hiroyuki Onishi",
      "photoUrl": "https://lh3.googleusercontent.com/a/default-user=s64",
      "userId": "06117648582669754644"
     },
     "user_tz": -540
    },
    "id": "_A6XjuWPiMcM",
    "outputId": "36b59dc9-59e5-466d-dbf8-ed6fb3e55f13"
   },
   "outputs": [
    {
     "data": {
      "text/plain": [
       "0    83\n",
       "1    78\n",
       "2    77\n",
       "3    74\n",
       "Name: expression, dtype: int64"
      ]
     },
     "execution_count": 44,
     "metadata": {},
     "output_type": "execute_result"
    }
   ],
   "source": [
    "train_df['expression'].value_counts()"
   ]
  },
  {
   "cell_type": "code",
   "execution_count": 45,
   "metadata": {
    "id": "0QQGnSjRqRLA",
    "tags": []
   },
   "outputs": [],
   "source": [
    "channel_num1 = 32\n",
    "channel_num2 = 64  # maxpooling(2,2)後はchannelを2倍にする？\n",
    "channel_num3 = 128\n",
    "\n",
    "# nn.Linerに入れる次元を見るため前半のみを記載\n",
    "models1 = nn.Sequential(\n",
    "    nn.Conv2d(3, channel_num1, 3),  # 入力チャネル数, 出力チャネル数、カーネルサイズ\n",
    "    nn.ReLU(inplace=True),\n",
    "    nn.Conv2d(channel_num1, channel_num1, 3),   # 入力チャネル数, 出力チャネル数、カーネルサイズ\n",
    "    nn.ReLU(inplace=True),\n",
    "    nn.MaxPool2d(2,2),  # 縦横の画素数(2,2)が一般的\n",
    "    nn.Dropout(p=0.2, inplace=True),\n",
    "    nn.Conv2d(channel_num1, channel_num2, 3),  # 入力チャネル数, 出力チャネル数、カーネルサイズ\n",
    "    nn.ReLU(inplace=True),\n",
    "    nn.Conv2d(channel_num2, channel_num2, 3),   # 入力チャネル数, 出力チャネル数、カーネルサイズ\n",
    "    nn.ReLU(inplace=True),\n",
    "    nn.MaxPool2d(2,2),  # 縦横の画素数(2,2)が一般的\n",
    "    nn.Dropout(p=0.3, inplace=True),\n",
    "    nn.Conv2d(channel_num2, channel_num3, 3),  # 入力チャネル数, 出力チャネル数、カーネルサイズ\n",
    "    nn.ReLU(inplace=True),\n",
    "    nn.Conv2d(channel_num3, channel_num3, 3),   # 入力チャネル数, 出力チャネル数、カーネルサイズ\n",
    "    nn.ReLU(inplace=True),\n",
    "    nn.MaxPool2d(2,2),  # 縦横の画素数(2,2)が一般的\n",
    "    nn.Dropout(p=0.4, inplace=True),\n",
    "    nn.Flatten(), # 1階テンソルに変換\n",
    ")"
   ]
  },
  {
   "cell_type": "code",
   "execution_count": 46,
   "metadata": {
    "id": "lt-d3KB_kSpU"
   },
   "outputs": [],
   "source": [
    "trial_input = torch.randn(1, 3, 120, 128) # 動作確認"
   ]
  },
  {
   "cell_type": "code",
   "execution_count": 47,
   "metadata": {
    "colab": {
     "base_uri": "https://localhost:8080/"
    },
    "executionInfo": {
     "elapsed": 2609,
     "status": "ok",
     "timestamp": 1634829616090,
     "user": {
      "displayName": "Hiroyuki Onishi",
      "photoUrl": "https://lh3.googleusercontent.com/a/default-user=s64",
      "userId": "06117648582669754644"
     },
     "user_tz": -540
    },
    "id": "HRp6EjqaZDWh",
    "outputId": "c66a378d-3371-47ab-d6d9-bff3259b3435"
   },
   "outputs": [
    {
     "data": {
      "text/plain": [
       "16896"
      ]
     },
     "execution_count": 47,
     "metadata": {},
     "output_type": "execute_result"
    }
   ],
   "source": [
    "flatten_size = models1(trial_input).shape[1]\n",
    "flatten_size"
   ]
  },
  {
   "cell_type": "code",
   "execution_count": 48,
   "metadata": {
    "id": "aaLwhnOKEPvp"
   },
   "outputs": [],
   "source": [
    "n_output = 4 # 0,1,2,3の4つに分類"
   ]
  },
  {
   "cell_type": "code",
   "execution_count": 49,
   "metadata": {
    "id": "B0ZyXP6e7Saj"
   },
   "outputs": [],
   "source": [
    "# batcn normalization の定義。BatchNorm はそれ自身も関数を持っているため別々のインスタンスで定義が必要\n",
    "bn1 = nn.BatchNorm2d(32)\n",
    "bn2 = nn.BatchNorm2d(32)\n",
    "bn3 = nn.BatchNorm2d(64)\n",
    "bn4 = nn.BatchNorm2d(64)\n",
    "bn5 = nn.BatchNorm2d(128)\n",
    "bn6 = nn.BatchNorm2d(128)"
   ]
  },
  {
   "cell_type": "code",
   "execution_count": 50,
   "metadata": {
    "id": "9z5oTEOE1kna"
   },
   "outputs": [],
   "source": [
    "model = nn.Sequential(\n",
    "    nn.Conv2d(3, channel_num1, 3),  # 入力チャネル数, 出力チャネル数、カーネルサイズ\n",
    "    bn1,\n",
    "    nn.ReLU(inplace=True),\n",
    "    nn.Conv2d(channel_num1, channel_num1, 3),   # 入力チャネル数, 出力チャネル数、カーネルサイズ\n",
    "    bn2,\n",
    "    nn.ReLU(inplace=True),\n",
    "    nn.MaxPool2d(2,2),  # 縦横の画素数(2,2)が一般的\n",
    "    nn.Dropout(p=0.2, inplace=True),\n",
    "    nn.Conv2d(channel_num1, channel_num2, 3),  # 入力チャネル数, 出力チャネル数、カーネルサイズ\n",
    "    bn3,\n",
    "    nn.ReLU(inplace=True),\n",
    "    nn.Conv2d(channel_num2, channel_num2, 3),   # 入力チャネル数, 出力チャネル数、カーネルサイズ\n",
    "    bn4,\n",
    "    nn.ReLU(inplace=True),\n",
    "    nn.MaxPool2d(2,2),  # 縦横の画素数(2,2)が一般的\n",
    "    nn.Dropout(p=0.3, inplace=True),\n",
    "    nn.Conv2d(channel_num2, channel_num3, 3),  # 入力チャネル数, 出力チャネル数、カーネルサイズ\n",
    "    bn5,\n",
    "    nn.ReLU(inplace=True),\n",
    "    nn.Conv2d(channel_num3, channel_num3, 3),   # 入力チャネル数, 出力チャネル数、カーネルサイズ\n",
    "    bn6,\n",
    "    nn.ReLU(inplace=True),\n",
    "    nn.MaxPool2d(2,2),  # 縦横の画素数(2,2)が一般的\n",
    "    nn.Dropout(p=0.4, inplace=True),\n",
    "    nn.Flatten(), # 1階テンソルに変換\n",
    "    nn.Linear(flatten_size, 1024),  # 上で調べた次元を第一引数に入力\n",
    "    nn.ReLU(inplace=True),\n",
    "    nn.Dropout(p=0.4),\n",
    "    nn.Linear(1024, 512),\n",
    "    nn.ReLU(inplace=True),\n",
    "    nn.Linear(512, 256),\n",
    "    nn.ReLU(inplace=True),\n",
    "    nn.Linear(256, n_output),\n",
    ")"
   ]
  },
  {
   "cell_type": "code",
   "execution_count": 51,
   "metadata": {
    "id": "cJNq5zdaDtc-"
   },
   "outputs": [],
   "source": [
    "train_dataset = TensorDataset(x_train, t_train)\n",
    "train_loader = DataLoader(train_dataset, batch_size=32, shuffle=True, drop_last=False) # pin_memory=True は CPUの時のみに有効\n",
    "#test_dataset = TensorDataset(x_test, t_test)\n",
    "#test_loader = DataLoader(test_dataset, batch_size=1, shuffle=True, drop_last=False)"
   ]
  },
  {
   "cell_type": "code",
   "execution_count": 52,
   "metadata": {},
   "outputs": [
    {
     "data": {
      "text/plain": [
       "30"
      ]
     },
     "execution_count": 52,
     "metadata": {},
     "output_type": "execute_result"
    }
   ],
   "source": [
    "len(train_loader)"
   ]
  },
  {
   "cell_type": "code",
   "execution_count": 53,
   "metadata": {
    "colab": {
     "base_uri": "https://localhost:8080/"
    },
    "executionInfo": {
     "elapsed": 96584,
     "status": "ok",
     "timestamp": 1634829727405,
     "user": {
      "displayName": "Hiroyuki Onishi",
      "photoUrl": "https://lh3.googleusercontent.com/a/default-user=s64",
      "userId": "06117648582669754644"
     },
     "user_tz": -540
    },
    "id": "MRUrXK2pEQ3O",
    "outputId": "ad93ebf9-273c-4116-9c7b-dfe5fe25e18f",
    "tags": []
   },
   "outputs": [
    {
     "data": {
      "text/plain": [
       "Sequential(\n",
       "  (0): Conv2d(3, 32, kernel_size=(3, 3), stride=(1, 1))\n",
       "  (1): BatchNorm2d(32, eps=1e-05, momentum=0.1, affine=True, track_running_stats=True)\n",
       "  (2): ReLU(inplace=True)\n",
       "  (3): Conv2d(32, 32, kernel_size=(3, 3), stride=(1, 1))\n",
       "  (4): BatchNorm2d(32, eps=1e-05, momentum=0.1, affine=True, track_running_stats=True)\n",
       "  (5): ReLU(inplace=True)\n",
       "  (6): MaxPool2d(kernel_size=2, stride=2, padding=0, dilation=1, ceil_mode=False)\n",
       "  (7): Dropout(p=0.2, inplace=True)\n",
       "  (8): Conv2d(32, 64, kernel_size=(3, 3), stride=(1, 1))\n",
       "  (9): BatchNorm2d(64, eps=1e-05, momentum=0.1, affine=True, track_running_stats=True)\n",
       "  (10): ReLU(inplace=True)\n",
       "  (11): Conv2d(64, 64, kernel_size=(3, 3), stride=(1, 1))\n",
       "  (12): BatchNorm2d(64, eps=1e-05, momentum=0.1, affine=True, track_running_stats=True)\n",
       "  (13): ReLU(inplace=True)\n",
       "  (14): MaxPool2d(kernel_size=2, stride=2, padding=0, dilation=1, ceil_mode=False)\n",
       "  (15): Dropout(p=0.3, inplace=True)\n",
       "  (16): Conv2d(64, 128, kernel_size=(3, 3), stride=(1, 1))\n",
       "  (17): BatchNorm2d(128, eps=1e-05, momentum=0.1, affine=True, track_running_stats=True)\n",
       "  (18): ReLU(inplace=True)\n",
       "  (19): Conv2d(128, 128, kernel_size=(3, 3), stride=(1, 1))\n",
       "  (20): BatchNorm2d(128, eps=1e-05, momentum=0.1, affine=True, track_running_stats=True)\n",
       "  (21): ReLU(inplace=True)\n",
       "  (22): MaxPool2d(kernel_size=2, stride=2, padding=0, dilation=1, ceil_mode=False)\n",
       "  (23): Dropout(p=0.4, inplace=True)\n",
       "  (24): Flatten(start_dim=1, end_dim=-1)\n",
       "  (25): Linear(in_features=16896, out_features=1024, bias=True)\n",
       "  (26): ReLU(inplace=True)\n",
       "  (27): Dropout(p=0.4, inplace=False)\n",
       "  (28): Linear(in_features=1024, out_features=512, bias=True)\n",
       "  (29): ReLU(inplace=True)\n",
       "  (30): Linear(in_features=512, out_features=256, bias=True)\n",
       "  (31): ReLU(inplace=True)\n",
       "  (32): Linear(in_features=256, out_features=4, bias=True)\n",
       ")"
      ]
     },
     "execution_count": 53,
     "metadata": {},
     "output_type": "execute_result"
    }
   ],
   "source": [
    "model = model.to(device)\n",
    "model"
   ]
  },
  {
   "cell_type": "code",
   "execution_count": 54,
   "metadata": {
    "colab": {
     "base_uri": "https://localhost:8080/"
    },
    "executionInfo": {
     "elapsed": 96584,
     "status": "ok",
     "timestamp": 1634829727405,
     "user": {
      "displayName": "Hiroyuki Onishi",
      "photoUrl": "https://lh3.googleusercontent.com/a/default-user=s64",
      "userId": "06117648582669754644"
     },
     "user_tz": -540
    },
    "id": "MRUrXK2pEQ3O",
    "outputId": "ad93ebf9-273c-4116-9c7b-dfe5fe25e18f",
    "tags": []
   },
   "outputs": [
    {
     "name": "stderr",
     "output_type": "stream",
     "text": [
      "  0%|                                                                                           | 0/100 [00:00<?, ?it/s]/tmp/ipykernel_13380/3622373762.py:103: UserWarning: To copy construct from a tensor, it is recommended to use sourceTensor.clone().detach() or sourceTensor.clone().detach().requires_grad_(True), rather than torch.tensor(sourceTensor).\n",
      "  loss_train = torch.tensor(loss_train).cpu().detach().numpy()\n",
      "/tmp/ipykernel_13380/3622373762.py:104: UserWarning: To copy construct from a tensor, it is recommended to use sourceTensor.clone().detach() or sourceTensor.clone().detach().requires_grad_(True), rather than torch.tensor(sourceTensor).\n",
      "  train_accuracy = torch.tensor(train_accuracy).cpu().detach().numpy()\n",
      "/tmp/ipykernel_13380/3622373762.py:105: UserWarning: To copy construct from a tensor, it is recommended to use sourceTensor.clone().detach() or sourceTensor.clone().detach().requires_grad_(True), rather than torch.tensor(sourceTensor).\n",
      "  loss_test = torch.tensor(loss_test).cpu().detach().numpy()\n",
      "/tmp/ipykernel_13380/3622373762.py:106: UserWarning: To copy construct from a tensor, it is recommended to use sourceTensor.clone().detach() or sourceTensor.clone().detach().requires_grad_(True), rather than torch.tensor(sourceTensor).\n",
      "  test_accuracy = torch.tensor(test_accuracy).cpu().detach().numpy()\n",
      "  1%|▊                                                                                  | 1/100 [00:02<04:33,  2.76s/it]"
     ]
    },
    {
     "name": "stdout",
     "output_type": "stream",
     "text": [
      "Best Accracy is: 0.252136766910553\n",
      "Best Loss is: 1.3865339756011963\n"
     ]
    },
    {
     "name": "stderr",
     "output_type": "stream",
     "text": [
      "  3%|██▍                                                                                | 3/100 [00:04<02:00,  1.24s/it]"
     ]
    },
    {
     "name": "stdout",
     "output_type": "stream",
     "text": [
      "Best Accracy is: 0.25534188747406006\n",
      "Best Loss is: 1.3862745761871338\n"
     ]
    },
    {
     "name": "stderr",
     "output_type": "stream",
     "text": [
      "  5%|████▏                                                                              | 5/100 [00:05<01:32,  1.03it/s]"
     ]
    },
    {
     "name": "stdout",
     "output_type": "stream",
     "text": [
      "Best Accracy is: 0.25854700803756714\n",
      "Best Loss is: 1.3860474824905396\n"
     ]
    },
    {
     "name": "stderr",
     "output_type": "stream",
     "text": [
      "  6%|████▉                                                                              | 6/100 [00:06<01:26,  1.09it/s]"
     ]
    },
    {
     "name": "stdout",
     "output_type": "stream",
     "text": [
      "Best Accracy is: 0.2745726704597473\n",
      "Best Loss is: 1.3861457109451294\n"
     ]
    },
    {
     "name": "stderr",
     "output_type": "stream",
     "text": [
      " 10%|████████▏                                                                         | 10/100 [00:09<01:13,  1.23it/s]"
     ]
    },
    {
     "name": "stdout",
     "output_type": "stream",
     "text": [
      "Best Accracy is: 0.28205129504203796\n",
      "Best Loss is: 1.3859217166900635\n"
     ]
    },
    {
     "name": "stderr",
     "output_type": "stream",
     "text": [
      "100%|█████████████████████████████████████████████████████████████████████████████████| 100/100 [01:14<00:00,  1.34it/s]\n"
     ]
    }
   ],
   "source": [
    "epochs = 100\n",
    "lr = 1e-6\n",
    "history = np.zeros((0,5))\n",
    "loss_fn = nn.CrossEntropyLoss() # 多値分類はCrossEntropyLossらしい\n",
    "optimizer = optim.Adam(model.parameters(), lr=lr)\n",
    "\n",
    "best_accuracy = 0\n",
    "best_loss = 0\n",
    "\n",
    "# 繰り返しの設定\n",
    "\n",
    "pbar = tqdm(range(epochs))\n",
    "for epoch in pbar:\n",
    "    train_acc = 0 # TrainのAccuracy Count\n",
    "    test_acc = 0 # TestのAccuracy Count\n",
    "# Training Loop\n",
    "    model.train()\n",
    "#    model = model.train().to(device) ## モデルTrainで学習させますよと宣言\n",
    "#    model = nn.DataParallel(model)  ## GPU並列処理\n",
    "    for i, (X, t) in enumerate(train_loader):\n",
    "        \n",
    "        # 勾配計算は累積値となるため zero_grad()で都度0に戻す\n",
    "        optimizer.zero_grad() \n",
    "        \n",
    "        ### forward path\n",
    "        y = model(X) # 推測\n",
    "\n",
    "        #print(y)\n",
    "        # 損失(Loss)の計算\n",
    "        loss = loss_fn(y, t)\n",
    "\n",
    "        ### backwords\n",
    "        # 勾配計算(back propagation)\n",
    "        loss.backward()\n",
    "        # パラメータの修正\n",
    "        optimizer.step()\n",
    "    \n",
    "# Validation Loop\n",
    "\n",
    "    # Validaionでは勾配情報の保持不要\n",
    "    with torch.no_grad():\n",
    "        \n",
    "        # 検証しますよという宣言\n",
    "#        model.eval().to(device)\n",
    "        model.eval()\n",
    "\n",
    "        # x_train の推測値を代入\n",
    "        y_train = model(x_train)\n",
    "\n",
    "        # x_test の推測値を代入\n",
    "        y_test = model(x_test)\n",
    "\n",
    "        # train の Loss を計算\n",
    "        loss_train = loss_fn(y_train, t_train)\n",
    "\n",
    "        # test の Loss を計算\n",
    "        loss_test = loss_fn(y_test, t_test)\n",
    "\n",
    "        # y_train の値を取り出す\n",
    "        predict_train = torch.max(y_train, 1)[1]\n",
    "  \n",
    "        # Accuracy の計算\n",
    "        train_acc = (predict_train == t_train).sum()\n",
    "        train_accuracy = train_acc / len(t_train)\n",
    "\n",
    "        # y_test の値を取り出す\n",
    "        predict_test = torch.max(y_test, 1)[1]\n",
    "\n",
    "        # Accuracy の計算\n",
    "        test_acc = (predict_test == t_test).sum()\n",
    "        test_accuracy = test_acc / len(t_test)\n",
    "\n",
    "        '''\n",
    "        # Memo 2値問題の場合の Accuracy の計算\n",
    "        #    # 0, 1に変換\n",
    "        #        y_train = torch.where(y_train < 0.5, 0, 1)\n",
    "        #    # Train 正解数のカウント\n",
    "        #        train_acc += (predict_train == t_train).sum()\n",
    "        #    # 0, 1に変換\n",
    "        #        y_test = torch.where(y_test < 0.5, 0, 1)\n",
    "        #    # test 正解数のカウント\n",
    "        #        test_acc = (predict_test == t_test).sum()\n",
    "        #    # LossとAccuracyの計算\n",
    "        #        avg_train_loss = train_loss / count\n",
    "        #        avg_train_acc = train_acc / count\n",
    "        '''\n",
    "        '''\n",
    "        # train の Accuracy\n",
    "        y_train = torch.where(y_train < 0.5, 0, 1)\n",
    "        # tensor から numpy.ndarray に変換\n",
    "        acc_train = accuracy_score(t_train.detach().numpy(), y_train.detach().numpy())\n",
    "        # test の Accuracy\n",
    "        y_test = torch.where(y_test < 0.5, 0, 1)\n",
    "        # tensor から numpy.ndarray に変換\n",
    "        acc_test = accuracy_score(t_test.detach().numpy(), y_test.detach().numpy())\n",
    "        ''' \n",
    "\n",
    "        # 記録\n",
    "   #     if epoch % 20 == 0:　# 20 epochずつ記録する場合\n",
    "#        print('epoch: {}, train:[loss={:.3f}, ACC={:.3f}], test:[loss={:.3f}, ACC={:.3f}]'.\\\n",
    "#                    format(epoch, loss_train, train_accuracy, loss_test, test_accuracy))\n",
    "\n",
    "        loss_train = torch.tensor(loss_train).cpu().detach().numpy()\n",
    "        train_accuracy = torch.tensor(train_accuracy).cpu().detach().numpy()\n",
    "        loss_test = torch.tensor(loss_test).cpu().detach().numpy()\n",
    "        test_accuracy = torch.tensor(test_accuracy).cpu().detach().numpy()\n",
    "\n",
    "        item = np.array([epoch, loss_train, train_accuracy, loss_test, test_accuracy])\n",
    "        history = np.vstack((history,item))\n",
    "\n",
    "        # ベスト Accuracy のモデルを保存\n",
    "        if test_accuracy > best_accuracy:\n",
    "            torch.save(model.state_dict(),'./best_model.pth')\n",
    "            best_accuracy = test_accuracy\n",
    "            best_loss = loss_test\n",
    "\n",
    "            print(f'Best Accracy is: {best_accuracy}')\n",
    "            print(f'Best Loss is: {best_loss}')"
   ]
  },
  {
   "cell_type": "code",
   "execution_count": 55,
   "metadata": {
    "id": "bB-lUMAy7Sak",
    "outputId": "94168391-2268-447b-c550-9303a1ec92ac"
   },
   "outputs": [
    {
     "data": {
      "text/plain": [
       "tensor([1, 1, 1, 1, 1, 1, 1, 1, 1, 1, 1, 1, 1, 1, 1, 1, 1, 1, 1, 1, 1, 1, 1, 1,\n",
       "        1, 0, 0, 1, 1, 1, 1, 1, 1, 1, 1, 1, 1, 1, 1, 1, 1, 1, 3, 3, 3, 3, 1, 1,\n",
       "        0, 0, 0, 0, 1, 0, 1, 1, 1, 1, 1, 1, 0, 0, 1, 1, 1, 1, 1, 0, 0, 0, 1, 1,\n",
       "        1, 1, 1, 1, 1, 1, 1, 1, 1, 1, 1, 1, 1, 1, 1, 1, 1, 1, 1, 1, 1, 1, 1, 1,\n",
       "        0, 0, 0, 1, 0, 1, 1, 0, 1, 1, 1, 1, 0, 0, 0, 0, 1, 1, 1, 1, 1, 1, 1, 1,\n",
       "        1, 1, 1, 1, 1, 1, 1, 1, 1, 1, 1, 1, 1, 1, 1, 1, 1, 1, 3, 2, 3, 3, 1, 1,\n",
       "        1, 1, 1, 1, 1, 1, 1, 1, 1, 1, 1, 1, 1, 1, 1, 1, 1, 1, 1, 0, 1, 1, 0, 1,\n",
       "        1, 1, 1, 1, 1, 1, 0, 0, 0, 1, 1, 1, 0, 0, 0, 1, 1, 1, 0, 0, 1, 1, 1, 1,\n",
       "        1, 1, 1, 1, 1, 1, 1, 1, 1, 1, 1, 1, 1, 0, 0, 0, 1, 1, 1, 1, 1, 0, 1, 1,\n",
       "        1, 1, 1, 1, 1, 1, 1, 1, 1, 1, 1, 1, 0, 0, 1, 1, 1, 1, 1, 1, 1, 1, 1, 1,\n",
       "        0, 0, 1, 1, 1, 1, 1, 0, 1, 1, 1, 1, 1, 1, 0, 1, 1, 1, 0, 1, 0, 0, 1, 0,\n",
       "        1, 1, 1, 1, 1, 1, 1, 1, 1, 1, 1, 1, 3, 1, 1, 3, 1, 1, 1, 1, 1, 1, 0, 1,\n",
       "        0, 3, 0, 0, 1, 1, 1, 1, 1, 1, 1, 1, 1, 1, 1, 1, 1, 1, 1, 1, 1, 1, 1, 1,\n",
       "        1, 1, 1, 1, 1, 1, 3, 1, 2, 1, 1, 1, 1, 0, 1, 1, 1, 1, 1, 1, 1, 1, 1, 1,\n",
       "        1, 1, 1, 1, 1, 1, 1, 1, 1, 1, 1, 1, 1, 1, 1, 1, 1, 1, 1, 2, 1, 1, 1, 1,\n",
       "        1, 1, 1, 1, 1, 1, 0, 0, 1, 1, 1, 1, 1, 0, 0, 1, 1, 1, 0, 0, 0, 0, 1, 1,\n",
       "        1, 1, 1, 1, 1, 1, 1, 1, 1, 1, 1, 1, 1, 0, 0, 1, 1, 1, 1, 1, 1, 1, 1, 1,\n",
       "        1, 1, 1, 1, 1, 1, 1, 1, 1, 1, 1, 1, 0, 0, 0, 0, 1, 1, 1, 1, 1, 1, 1, 1,\n",
       "        1, 1, 1, 1, 1, 1, 0, 0, 0, 0, 1, 1, 1, 1, 1, 1, 1, 1, 1, 1, 1, 1, 1, 1,\n",
       "        1, 1, 1, 1, 1, 1, 0, 0, 0, 1, 0, 0, 1, 1, 1, 1, 1, 1, 1, 0, 1, 1, 1, 1,\n",
       "        1, 1, 1, 1, 1, 1, 1, 0, 0, 1, 1, 1, 1, 0, 1, 0, 1, 1, 0, 1, 1, 1, 1, 1,\n",
       "        1, 0, 0, 1, 1, 1, 1, 1, 0, 1, 1, 1, 1, 1, 1, 1, 1, 1, 1, 1, 2, 1, 1, 1,\n",
       "        1, 1, 1, 1, 1, 1, 1, 1, 1, 1, 1, 1, 1, 1, 3, 1, 1, 1, 0, 0, 0, 0, 1, 0,\n",
       "        1, 0, 0, 0, 1, 1, 0, 0, 1, 1, 1, 1, 3, 1, 3, 1, 1, 1, 1, 1, 1, 1, 1, 1,\n",
       "        1, 0, 0, 0, 1, 1, 1, 1, 1, 1, 1, 1, 1, 1, 1, 1, 1, 1, 0, 0, 0, 0, 1, 1,\n",
       "        1, 1, 1, 1, 1, 1, 1, 1, 1, 1, 1, 1, 1, 1, 0, 1, 1, 1, 1, 1, 1, 1, 1, 1,\n",
       "        1, 1, 0, 0, 1, 1, 1, 1, 0, 0, 1, 1, 1, 1, 1, 1, 1, 1, 1, 1, 1, 1, 1, 1,\n",
       "        1, 1, 1, 1, 1, 1, 0, 0, 0, 0, 0, 1, 1, 1, 1, 1, 1, 1, 0, 0, 0, 1, 1, 1,\n",
       "        0, 0, 3, 0, 1, 1, 1, 0, 1, 1, 1, 1, 1, 1, 1, 1, 1, 1, 1, 1, 1, 1, 1, 1,\n",
       "        1, 0, 0, 0, 1, 1, 1, 1, 1, 1, 1, 1, 1, 0, 1, 1, 1, 1, 1, 1, 1, 1, 1, 1,\n",
       "        1, 1, 1, 1, 1, 1, 1, 1, 2, 1, 1, 1, 1, 1, 1, 1, 1, 1, 1, 1, 1, 0, 1, 1,\n",
       "        1, 1, 1, 1, 1, 1, 1, 1, 1, 1, 1, 1, 1, 1, 1, 1, 1, 1, 1, 1, 1, 0, 1, 1,\n",
       "        1, 1, 2, 1, 1, 1, 3, 3, 3, 3, 1, 1, 1, 0, 1, 1, 1, 1, 1, 1, 1, 1, 1, 1,\n",
       "        0, 0, 1, 1, 1, 1, 1, 1, 0, 1, 1, 1, 1, 0, 1, 1, 1, 1, 1, 1, 1, 1, 1, 1,\n",
       "        1, 1, 0, 0, 1, 1, 1, 0, 0, 1, 1, 1, 0, 0, 0, 0, 1, 1, 0, 1, 1, 1, 1, 1,\n",
       "        1, 1, 1, 1, 1, 1, 1, 1, 1, 1, 1, 1, 1, 0, 0, 0, 1, 1, 1, 1, 1, 1, 1, 1,\n",
       "        1, 1, 1, 1, 1, 1, 3, 3, 3, 3, 1, 1, 1, 1, 1, 1, 1, 1, 1, 1, 1, 1, 1, 1,\n",
       "        1, 1, 1, 1, 1, 1, 1, 1, 1, 1, 1, 1, 1, 1, 1, 1, 1, 1, 1, 1, 1, 1, 1, 1,\n",
       "        1, 1, 1, 1, 1, 1, 1, 1, 1, 1, 1, 1, 0, 0, 0, 0, 1, 1, 1, 0, 1, 1, 1, 1],\n",
       "       device='cuda:0')"
      ]
     },
     "execution_count": 55,
     "metadata": {},
     "output_type": "execute_result"
    }
   ],
   "source": [
    "predict_train"
   ]
  },
  {
   "cell_type": "code",
   "execution_count": 56,
   "metadata": {
    "id": "mHQ7kZ6hEQ_-"
   },
   "outputs": [],
   "source": [
    "#print(f'初期状態: 損失: {history[0,4]:.5f} 精度: {history[0,4]:.5f}' )\n",
    "#print(f'最終状態: 損失: {history[-1,4]:.5f} 精度: {history[-1,4]:.5f}' )"
   ]
  },
  {
   "cell_type": "code",
   "execution_count": 57,
   "metadata": {
    "colab": {
     "base_uri": "https://localhost:8080/",
     "height": 295
    },
    "executionInfo": {
     "elapsed": 806,
     "status": "ok",
     "timestamp": 1634829028397,
     "user": {
      "displayName": "Hiroyuki Onishi",
      "photoUrl": "https://lh3.googleusercontent.com/a/default-user=s64",
      "userId": "06117648582669754644"
     },
     "user_tz": -540
    },
    "id": "wZ2oCndgERCq",
    "outputId": "9282fc3d-2d40-4f88-dec2-d149d40ecd19"
   },
   "outputs": [
    {
     "data": {
      "image/png": "[encoded data removed]",
      "text/plain": [
       "<Figure size 432x288 with 1 Axes>"
      ]
     },
     "metadata": {
      "needs_background": "light"
     },
     "output_type": "display_data"
    }
   ],
   "source": [
    "# 学習曲線の表示 (損失)\n",
    "\n",
    "plt.plot(history[:,0], history[:,1], 'b', label='Training')\n",
    "plt.plot(history[:,0], history[:,3], 'k', label='Validation')\n",
    "plt.xlabel('Epochs')\n",
    "plt.ylabel('Loss')\n",
    "plt.title('Learning Curve(Loss)')\n",
    "plt.legend()\n",
    "plt.show()"
   ]
  },
  {
   "cell_type": "code",
   "execution_count": 58,
   "metadata": {
    "colab": {
     "base_uri": "https://localhost:8080/",
     "height": 295
    },
    "executionInfo": {
     "elapsed": 15,
     "status": "ok",
     "timestamp": 1634829028398,
     "user": {
      "displayName": "Hiroyuki Onishi",
      "photoUrl": "https://lh3.googleusercontent.com/a/default-user=s64",
      "userId": "06117648582669754644"
     },
     "user_tz": -540
    },
    "id": "QfsS5Q7svEuh",
    "outputId": "8a0680c1-1a03-43ad-e333-bd033850ad5d"
   },
   "outputs": [
    {
     "data": {
      "image/png": "[encoded data removed]",
      "text/plain": [
       "<Figure size 432x288 with 1 Axes>"
      ]
     },
     "metadata": {
      "needs_background": "light"
     },
     "output_type": "display_data"
    }
   ],
   "source": [
    "# 学習曲線の表示 (精度)\n",
    "\n",
    "plt.plot(history[:,0], history[:,2], 'b', label='Training')\n",
    "plt.plot(history[:,0], history[:,4], 'k', label='Validation')\n",
    "plt.xlabel('Epochs')\n",
    "plt.ylabel('Accuracy')\n",
    "plt.title('Learning Curve(Accuracy)')\n",
    "plt.legend()\n",
    "plt.show()"
   ]
  },
  {
   "cell_type": "code",
   "execution_count": 59,
   "metadata": {
    "id": "1hRtiwgaKQPu"
   },
   "outputs": [],
   "source": [
    "test_imgs = [] # 画像イメージを入れる箱"
   ]
  },
  {
   "cell_type": "code",
   "execution_count": 60,
   "metadata": {
    "colab": {
     "base_uri": "https://localhost:8080/"
    },
    "executionInfo": {
     "elapsed": 15,
     "status": "ok",
     "timestamp": 1634829028400,
     "user": {
      "displayName": "Hiroyuki Onishi",
      "photoUrl": "https://lh3.googleusercontent.com/a/default-user=s64",
      "userId": "06117648582669754644"
     },
     "user_tz": -540
    },
    "id": "2ybGr5DxKQPu",
    "outputId": "102ad99b-6d07-4f15-d65a-ce3fdb4231ac"
   },
   "outputs": [
    {
     "name": "stdout",
     "output_type": "stream",
     "text": [
      "312\n"
     ]
    }
   ],
   "source": [
    "# フォルダ内のファイルの個数を返す\n",
    "DIR = './test/'\n",
    "print(sum(os.path.isfile(os.path.join(DIR, name)) for name in os.listdir(DIR)))\n",
    "image_sum = sum(os.path.isfile(os.path.join(DIR, name)) for name in os.listdir(DIR))"
   ]
  },
  {
   "cell_type": "code",
   "execution_count": 61,
   "metadata": {
    "colab": {
     "base_uri": "https://localhost:8080/",
     "height": 35
    },
    "executionInfo": {
     "elapsed": 11,
     "status": "ok",
     "timestamp": 1634829028400,
     "user": {
      "displayName": "Hiroyuki Onishi",
      "photoUrl": "https://lh3.googleusercontent.com/a/default-user=s64",
      "userId": "06117648582669754644"
     },
     "user_tz": -540
    },
    "id": "VZ7QRPmlKQPu",
    "outputId": "b94661a5-478f-4bbd-b8c5-d4c6fc706a1d"
   },
   "outputs": [
    {
     "data": {
      "text/plain": [
       "'0000'"
      ]
     },
     "execution_count": 61,
     "metadata": {},
     "output_type": "execute_result"
    }
   ],
   "source": [
    "str(0).zfill(4)  # ファイル名は4桁の数字 0001 etc."
   ]
  },
  {
   "cell_type": "code",
   "execution_count": 62,
   "metadata": {
    "id": "gS2s-90JKQPv"
   },
   "outputs": [],
   "source": [
    "for i in range(image_sum):\n",
    "    test_img = cv2.imread(f'{BASE_PATH}/test/test_{str(i).zfill(4)}.jpg')\n",
    "    test_imgs.append(test_img)"
   ]
  },
  {
   "cell_type": "code",
   "execution_count": 63,
   "metadata": {
    "colab": {
     "base_uri": "https://localhost:8080/",
     "height": 137
    },
    "executionInfo": {
     "elapsed": 18,
     "status": "ok",
     "timestamp": 1634829029718,
     "user": {
      "displayName": "Hiroyuki Onishi",
      "photoUrl": "https://lh3.googleusercontent.com/a/default-user=s64",
      "userId": "06117648582669754644"
     },
     "user_tz": -540
    },
    "id": "e2hOZnWKKQPv",
    "outputId": "32efd1be-5ee4-4dbd-e349-fd9626ec4385"
   },
   "outputs": [
    {
     "data": {
      "text/plain": [
       "<matplotlib.image.AxesImage at 0x7fcea434e070>"
      ]
     },
     "execution_count": 63,
     "metadata": {},
     "output_type": "execute_result"
    },
    {
     "data": {
      "image/png": "[encoded data removed]",
      "text/plain": [
       "<Figure size 432x288 with 1 Axes>"
      ]
     },
     "metadata": {
      "needs_background": "light"
     },
     "output_type": "display_data"
    }
   ],
   "source": [
    "#cv2_imshow(test_imgs[3])\n",
    "plt.imshow(test_imgs[0])"
   ]
  },
  {
   "cell_type": "code",
   "execution_count": 64,
   "metadata": {
    "colab": {
     "base_uri": "https://localhost:8080/"
    },
    "executionInfo": {
     "elapsed": 17,
     "status": "ok",
     "timestamp": 1634829029719,
     "user": {
      "displayName": "Hiroyuki Onishi",
      "photoUrl": "https://lh3.googleusercontent.com/a/default-user=s64",
      "userId": "06117648582669754644"
     },
     "user_tz": -540
    },
    "id": "e9WXxXTLKQPv",
    "outputId": "4378444d-5ca7-4802-b644-ed99faf4b384"
   },
   "outputs": [
    {
     "data": {
      "text/plain": [
       "(120, 128, 3)"
      ]
     },
     "execution_count": 64,
     "metadata": {},
     "output_type": "execute_result"
    }
   ],
   "source": [
    "test_imgs[0].shape # OpenCVのフォーマットは Height, Width, Channel の順. Pytorch は Channel, Height, Weight を期待"
   ]
  },
  {
   "cell_type": "code",
   "execution_count": 65,
   "metadata": {
    "colab": {
     "base_uri": "https://localhost:8080/"
    },
    "executionInfo": {
     "elapsed": 14,
     "status": "ok",
     "timestamp": 1634829029719,
     "user": {
      "displayName": "Hiroyuki Onishi",
      "photoUrl": "https://lh3.googleusercontent.com/a/default-user=s64",
      "userId": "06117648582669754644"
     },
     "user_tz": -540
    },
    "id": "WnT0X9WsKQPv",
    "outputId": "32779c22-8344-4cc0-a81f-86836ee94596"
   },
   "outputs": [
    {
     "data": {
      "text/plain": [
       "(3, 120, 128)"
      ]
     },
     "execution_count": 65,
     "metadata": {},
     "output_type": "execute_result"
    }
   ],
   "source": [
    "test_imgs[0].transpose(2,0,1).shape"
   ]
  },
  {
   "cell_type": "code",
   "execution_count": 66,
   "metadata": {
    "id": "TM9ieA_gKQPv"
   },
   "outputs": [],
   "source": [
    "for i in range(image_sum):\n",
    "    test_imgs[i] = test_imgs[i].transpose(2,0,1)"
   ]
  },
  {
   "cell_type": "code",
   "execution_count": 67,
   "metadata": {
    "colab": {
     "base_uri": "https://localhost:8080/"
    },
    "executionInfo": {
     "elapsed": 12,
     "status": "ok",
     "timestamp": 1634829029720,
     "user": {
      "displayName": "Hiroyuki Onishi",
      "photoUrl": "https://lh3.googleusercontent.com/a/default-user=s64",
      "userId": "06117648582669754644"
     },
     "user_tz": -540
    },
    "id": "hLsnxxEiKQPv",
    "outputId": "008dc283-db23-4320-99b1-5489df95d7ec"
   },
   "outputs": [
    {
     "data": {
      "text/plain": [
       "(3, 120, 128)"
      ]
     },
     "execution_count": 67,
     "metadata": {},
     "output_type": "execute_result"
    }
   ],
   "source": [
    "test_imgs[2].shape"
   ]
  },
  {
   "cell_type": "code",
   "execution_count": 68,
   "metadata": {
    "id": "O5bfkyvyKQPv"
   },
   "outputs": [],
   "source": [
    "X_test = torch.Tensor(test_imgs).float().to(device)"
   ]
  },
  {
   "cell_type": "code",
   "execution_count": 69,
   "metadata": {
    "id": "7FEd1uUm7Sam",
    "outputId": "f3bcde85-41b9-4ad8-f628-413a32409371"
   },
   "outputs": [
    {
     "data": {
      "text/plain": [
       "<All keys matched successfully>"
      ]
     },
     "execution_count": 69,
     "metadata": {},
     "output_type": "execute_result"
    }
   ],
   "source": [
    "# 保存したモデルを読み込む。\n",
    "model.load_state_dict(torch.load('./best_model.pth'))"
   ]
  },
  {
   "cell_type": "code",
   "execution_count": 70,
   "metadata": {
    "id": "EvVc2ufBEREf"
   },
   "outputs": [],
   "source": [
    "y_test = model(X_test)"
   ]
  },
  {
   "cell_type": "code",
   "execution_count": 71,
   "metadata": {
    "colab": {
     "base_uri": "https://localhost:8080/"
    },
    "executionInfo": {
     "elapsed": 30,
     "status": "ok",
     "timestamp": 1634829040056,
     "user": {
      "displayName": "Hiroyuki Onishi",
      "photoUrl": "https://lh3.googleusercontent.com/a/default-user=s64",
      "userId": "06117648582669754644"
     },
     "user_tz": -540
    },
    "id": "rT2UJMOkERG1",
    "outputId": "8c5593f6-bd84-4d1d-e326-a4ba1fb929d7"
   },
   "outputs": [
    {
     "data": {
      "text/plain": [
       "torch.Size([312, 4])"
      ]
     },
     "execution_count": 71,
     "metadata": {},
     "output_type": "execute_result"
    }
   ],
   "source": [
    "y_test.shape"
   ]
  },
  {
   "cell_type": "code",
   "execution_count": 72,
   "metadata": {
    "id": "7yUGdUteLtoh"
   },
   "outputs": [],
   "source": [
    "# y_test の値を取り出す\n",
    "predict_y_test = torch.max(y_test, 1)[1]"
   ]
  },
  {
   "cell_type": "code",
   "execution_count": 73,
   "metadata": {
    "colab": {
     "base_uri": "https://localhost:8080/"
    },
    "executionInfo": {
     "elapsed": 27,
     "status": "ok",
     "timestamp": 1634829040058,
     "user": {
      "displayName": "Hiroyuki Onishi",
      "photoUrl": "https://lh3.googleusercontent.com/a/default-user=s64",
      "userId": "06117648582669754644"
     },
     "user_tz": -540
    },
    "id": "9oUEoac7nOUz",
    "outputId": "8943050a-1f2a-494b-ee58-db324fed048a"
   },
   "outputs": [
    {
     "data": {
      "text/plain": [
       "tensor([3, 0, 2, 0, 2, 0, 0, 2, 0, 0, 2, 1, 2, 1, 0, 3, 0, 2, 3, 3, 0, 3, 3, 1,\n",
       "        3, 2, 0, 1, 1, 1, 1, 3, 2, 0, 2, 3, 2, 3, 0, 2, 1, 2, 3, 0, 2, 2, 1, 0,\n",
       "        2, 2, 2, 2, 0, 2, 2, 2, 2, 1, 0, 2, 0, 0, 0, 2, 3, 2, 2, 2, 3, 0, 3, 2,\n",
       "        2, 2, 0, 2, 1, 3, 2, 1, 2, 2, 1, 0, 3, 0, 3, 3, 2, 2, 2, 2, 1, 2, 3, 0,\n",
       "        3, 3, 3, 3, 2, 1, 0, 3, 2, 3, 2, 3, 0, 3, 2, 1, 2, 2, 2, 2, 3, 2, 0, 2,\n",
       "        0, 2, 2, 2, 3, 2, 2, 3, 2, 1, 0, 1, 2, 0, 1, 3, 3, 0, 3, 3, 1, 2, 1, 3,\n",
       "        2, 3, 1, 2, 2, 3, 2, 2, 0, 3, 2, 0, 0, 2, 3, 2, 0, 0, 1, 2, 3, 2, 3, 2,\n",
       "        3, 1, 2, 0, 1, 0, 2, 2, 3, 2, 3, 1, 3, 0, 2, 0, 3, 2, 3, 2, 2, 3, 3, 2,\n",
       "        3, 2, 2, 0, 2, 1, 2, 2, 0, 2, 2, 1, 0, 0, 3, 3, 2, 3, 1, 2, 2, 2, 0, 3,\n",
       "        3, 1, 1, 2, 0, 0, 0, 1, 3, 3, 0, 0, 2, 3, 3, 0, 1, 2, 2, 3, 0, 1, 3, 3,\n",
       "        2, 0, 1, 2, 2, 0, 1, 2, 3, 3, 2, 0, 0, 3, 1, 2, 2, 3, 2, 3, 2, 2, 3, 1,\n",
       "        0, 2, 3, 2, 0, 0, 2, 0, 0, 1, 0, 0, 3, 1, 2, 3, 3, 2, 0, 2, 2, 3, 0, 1,\n",
       "        0, 2, 2, 0, 2, 2, 1, 0, 2, 0, 0, 3, 3, 2, 1, 2, 2, 3, 2, 2, 2, 2, 0, 1],\n",
       "       device='cuda:0')"
      ]
     },
     "execution_count": 73,
     "metadata": {},
     "output_type": "execute_result"
    }
   ],
   "source": [
    "predict_y_test"
   ]
  },
  {
   "cell_type": "code",
   "execution_count": 74,
   "metadata": {
    "id": "yFEOgLDknahh"
   },
   "outputs": [],
   "source": [
    "predicts = predict_y_test.cpu().detach().numpy()"
   ]
  },
  {
   "cell_type": "code",
   "execution_count": 75,
   "metadata": {
    "id": "qPb5mHHamXW7"
   },
   "outputs": [],
   "source": [
    "sample_submit = pd.read_csv('./sample_submit.csv', header=None)"
   ]
  },
  {
   "cell_type": "code",
   "execution_count": 76,
   "metadata": {
    "colab": {
     "base_uri": "https://localhost:8080/",
     "height": 419
    },
    "executionInfo": {
     "elapsed": 25,
     "status": "ok",
     "timestamp": 1634829040059,
     "user": {
      "displayName": "Hiroyuki Onishi",
      "photoUrl": "https://lh3.googleusercontent.com/a/default-user=s64",
      "userId": "06117648582669754644"
     },
     "user_tz": -540
    },
    "id": "e1ec10GZnRSX",
    "outputId": "ff47b188-ca2f-4c47-d678-2c683bd81370"
   },
   "outputs": [
    {
     "data": {
      "text/html": [
       "<div>\n",
       "<style scoped>\n",
       "    .dataframe tbody tr th:only-of-type {\n",
       "        vertical-align: middle;\n",
       "    }\n",
       "\n",
       "    .dataframe tbody tr th {\n",
       "        vertical-align: top;\n",
       "    }\n",
       "\n",
       "    .dataframe thead th {\n",
       "        text-align: right;\n",
       "    }\n",
       "</style>\n",
       "<table border=\"1\" class=\"dataframe\">\n",
       "  <thead>\n",
       "    <tr style=\"text-align: right;\">\n",
       "      <th></th>\n",
       "      <th>0</th>\n",
       "      <th>1</th>\n",
       "    </tr>\n",
       "  </thead>\n",
       "  <tbody>\n",
       "    <tr>\n",
       "      <th>0</th>\n",
       "      <td>test_0000.jpg</td>\n",
       "      <td>angry</td>\n",
       "    </tr>\n",
       "    <tr>\n",
       "      <th>1</th>\n",
       "      <td>test_0001.jpg</td>\n",
       "      <td>angry</td>\n",
       "    </tr>\n",
       "    <tr>\n",
       "      <th>2</th>\n",
       "      <td>test_0002.jpg</td>\n",
       "      <td>sad</td>\n",
       "    </tr>\n",
       "    <tr>\n",
       "      <th>3</th>\n",
       "      <td>test_0003.jpg</td>\n",
       "      <td>sad</td>\n",
       "    </tr>\n",
       "    <tr>\n",
       "      <th>4</th>\n",
       "      <td>test_0004.jpg</td>\n",
       "      <td>sad</td>\n",
       "    </tr>\n",
       "    <tr>\n",
       "      <th>...</th>\n",
       "      <td>...</td>\n",
       "      <td>...</td>\n",
       "    </tr>\n",
       "    <tr>\n",
       "      <th>307</th>\n",
       "      <td>test_0307.jpg</td>\n",
       "      <td>neutral</td>\n",
       "    </tr>\n",
       "    <tr>\n",
       "      <th>308</th>\n",
       "      <td>test_0308.jpg</td>\n",
       "      <td>sad</td>\n",
       "    </tr>\n",
       "    <tr>\n",
       "      <th>309</th>\n",
       "      <td>test_0309.jpg</td>\n",
       "      <td>happy</td>\n",
       "    </tr>\n",
       "    <tr>\n",
       "      <th>310</th>\n",
       "      <td>test_0310.jpg</td>\n",
       "      <td>sad</td>\n",
       "    </tr>\n",
       "    <tr>\n",
       "      <th>311</th>\n",
       "      <td>test_0311.jpg</td>\n",
       "      <td>neutral</td>\n",
       "    </tr>\n",
       "  </tbody>\n",
       "</table>\n",
       "<p>312 rows × 2 columns</p>\n",
       "</div>"
      ],
      "text/plain": [
       "                 0        1\n",
       "0    test_0000.jpg    angry\n",
       "1    test_0001.jpg    angry\n",
       "2    test_0002.jpg      sad\n",
       "3    test_0003.jpg      sad\n",
       "4    test_0004.jpg      sad\n",
       "..             ...      ...\n",
       "307  test_0307.jpg  neutral\n",
       "308  test_0308.jpg      sad\n",
       "309  test_0309.jpg    happy\n",
       "310  test_0310.jpg      sad\n",
       "311  test_0311.jpg  neutral\n",
       "\n",
       "[312 rows x 2 columns]"
      ]
     },
     "execution_count": 76,
     "metadata": {},
     "output_type": "execute_result"
    }
   ],
   "source": [
    "sample_submit"
   ]
  },
  {
   "cell_type": "code",
   "execution_count": 77,
   "metadata": {
    "colab": {
     "base_uri": "https://localhost:8080/",
     "height": 419
    },
    "executionInfo": {
     "elapsed": 25,
     "status": "ok",
     "timestamp": 1634829040060,
     "user": {
      "displayName": "Hiroyuki Onishi",
      "photoUrl": "https://lh3.googleusercontent.com/a/default-user=s64",
      "userId": "06117648582669754644"
     },
     "user_tz": -540
    },
    "id": "xeU4-iK9oG19",
    "outputId": "ca8fcb9a-13b1-4bb0-f465-ada5e8495ffa"
   },
   "outputs": [
    {
     "data": {
      "text/html": [
       "<div>\n",
       "<style scoped>\n",
       "    .dataframe tbody tr th:only-of-type {\n",
       "        vertical-align: middle;\n",
       "    }\n",
       "\n",
       "    .dataframe tbody tr th {\n",
       "        vertical-align: top;\n",
       "    }\n",
       "\n",
       "    .dataframe thead th {\n",
       "        text-align: right;\n",
       "    }\n",
       "</style>\n",
       "<table border=\"1\" class=\"dataframe\">\n",
       "  <thead>\n",
       "    <tr style=\"text-align: right;\">\n",
       "      <th></th>\n",
       "      <th>0</th>\n",
       "      <th>1</th>\n",
       "    </tr>\n",
       "  </thead>\n",
       "  <tbody>\n",
       "    <tr>\n",
       "      <th>0</th>\n",
       "      <td>test_0000.jpg</td>\n",
       "      <td>3</td>\n",
       "    </tr>\n",
       "    <tr>\n",
       "      <th>1</th>\n",
       "      <td>test_0001.jpg</td>\n",
       "      <td>0</td>\n",
       "    </tr>\n",
       "    <tr>\n",
       "      <th>2</th>\n",
       "      <td>test_0002.jpg</td>\n",
       "      <td>2</td>\n",
       "    </tr>\n",
       "    <tr>\n",
       "      <th>3</th>\n",
       "      <td>test_0003.jpg</td>\n",
       "      <td>0</td>\n",
       "    </tr>\n",
       "    <tr>\n",
       "      <th>4</th>\n",
       "      <td>test_0004.jpg</td>\n",
       "      <td>2</td>\n",
       "    </tr>\n",
       "    <tr>\n",
       "      <th>...</th>\n",
       "      <td>...</td>\n",
       "      <td>...</td>\n",
       "    </tr>\n",
       "    <tr>\n",
       "      <th>307</th>\n",
       "      <td>test_0307.jpg</td>\n",
       "      <td>2</td>\n",
       "    </tr>\n",
       "    <tr>\n",
       "      <th>308</th>\n",
       "      <td>test_0308.jpg</td>\n",
       "      <td>2</td>\n",
       "    </tr>\n",
       "    <tr>\n",
       "      <th>309</th>\n",
       "      <td>test_0309.jpg</td>\n",
       "      <td>2</td>\n",
       "    </tr>\n",
       "    <tr>\n",
       "      <th>310</th>\n",
       "      <td>test_0310.jpg</td>\n",
       "      <td>0</td>\n",
       "    </tr>\n",
       "    <tr>\n",
       "      <th>311</th>\n",
       "      <td>test_0311.jpg</td>\n",
       "      <td>1</td>\n",
       "    </tr>\n",
       "  </tbody>\n",
       "</table>\n",
       "<p>312 rows × 2 columns</p>\n",
       "</div>"
      ],
      "text/plain": [
       "                 0  1\n",
       "0    test_0000.jpg  3\n",
       "1    test_0001.jpg  0\n",
       "2    test_0002.jpg  2\n",
       "3    test_0003.jpg  0\n",
       "4    test_0004.jpg  2\n",
       "..             ... ..\n",
       "307  test_0307.jpg  2\n",
       "308  test_0308.jpg  2\n",
       "309  test_0309.jpg  2\n",
       "310  test_0310.jpg  0\n",
       "311  test_0311.jpg  1\n",
       "\n",
       "[312 rows x 2 columns]"
      ]
     },
     "execution_count": 77,
     "metadata": {},
     "output_type": "execute_result"
    }
   ],
   "source": [
    "for i in range(len(sample_submit)):\n",
    "    sample_submit.loc[i, 1] = predicts[i]\n",
    "sample_submit"
   ]
  },
  {
   "cell_type": "code",
   "execution_count": 78,
   "metadata": {
    "id": "Ja_kzbEppNNv"
   },
   "outputs": [],
   "source": [
    "# label-encoding\n",
    "sample_submit.replace({1:{0:\"sad\",1:\"angry\", 2:\"neutral\", 3:\"happy\"}}, inplace=True)"
   ]
  },
  {
   "cell_type": "code",
   "execution_count": 79,
   "metadata": {
    "id": "zevQoxSypaRk"
   },
   "outputs": [],
   "source": [
    "sample_submit.to_csv('./submit.csv', index=False, header=False)"
   ]
  },
  {
   "cell_type": "code",
   "execution_count": 80,
   "metadata": {
    "id": "5jNKU1SxpeJH"
   },
   "outputs": [],
   "source": [
    "#sample_submit.to_csv(‘submit.csv’, index=False, header=False)\n",
    "#!signate submit --competition-id=404 submit.csv"
   ]
  },
  {
   "cell_type": "code",
   "execution_count": null,
   "metadata": {
    "collapsed": true,
    "id": "RK9dG_8cD81a",
    "jupyter": {
     "outputs_hidden": true
    }
   },
   "outputs": [],
   "source": []
  },
  {
   "cell_type": "code",
   "execution_count": null,
   "metadata": {
    "id": "zWPojS387Sao"
   },
   "outputs": [],
   "source": []
  },
  {
   "cell_type": "code",
   "execution_count": null,
   "metadata": {
    "id": "z8xfWH7n7Sao"
   },
   "outputs": [],
   "source": []
  }
 ],
 "metadata": {
  "accelerator": "GPU",
  "colab": {
   "name": "baseline004.ipynb",
   "provenance": [],
   "toc_visible": true
  },
  "kernelspec": {
   "display_name": "Python 3 (ipykernel)",
   "language": "python",
   "name": "python3"
  },
  "language_info": {
   "codemirror_mode": {
    "name": "ipython",
    "version": 3
   },
   "file_extension": ".py",
   "mimetype": "text/x-python",
   "name": "python",
   "nbconvert_exporter": "python",
   "pygments_lexer": "ipython3",
   "version": "3.9.12"
  }
 },
 "nbformat": 4,
 "nbformat_minor": 4
}
