{
 "cells": [
  {
   "cell_type": "markdown",
   "metadata": {},
   "source": [
    "# ゼロから作るニューラルネットワーク"
   ]
  },
  {
   "cell_type": "markdown",
   "metadata": {},
   "source": [
    "■概要\n",
    "\n",
    "![overview](fig\\overview.png)"
   ]
  },
  {
   "cell_type": "markdown",
   "metadata": {},
   "source": [
    "■詳細仕様\n",
    "\n",
    "| 項目 | スペック |\n",
    "| - | - |\n",
    "| バッチサイズ | 64 |\n",
    "| エポック | データサイズ / バッチサイズ |\n",
    "| ニューロン数 | 784, 200, 100, 10（入力層, 1層, 2層, 出力層） |\n",
    "| 重みの初期値 | Heの初期値 |\n",
    "| バイアスの初期値 | オールゼロ |"
   ]
  }
 ],
 "metadata": {
  "language_info": {
   "name": "python"
  },
  "orig_nbformat": 4
 },
 "nbformat": 4,
 "nbformat_minor": 2
}
