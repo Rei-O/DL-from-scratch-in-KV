{
 "cells": [
  {
   "cell_type": "markdown",
   "metadata": {},
   "source": [
    "# ゼロから作るニューラルネットワーク"
   ]
  },
  {
   "cell_type": "markdown",
   "metadata": {},
   "source": [
    "■概要\n",
    "\n",
    "![overview](fig\\overview.png)"
   ]
  },
  {
   "cell_type": "markdown",
   "metadata": {},
   "source": [
    "■パラメータ更新方法\n",
    "\n",
    "\n",
    "| 微分法 | 勾配降下法 | 確率的勾配降下法(SGD) | モーメンタム | AdaGrad | Adam |\n",
    "| :-: | :-: | :-: | :-: | :-: | :-: |\n",
    "| 数値微分 |  |  |  |  |  |\n",
    "| 誤差逆伝播法 |  |  |  |  | 〇（使用） |\n"
   ]
  },
  {
   "cell_type": "markdown",
   "metadata": {},
   "source": [
    "■詳細仕様\n",
    "\n",
    "| 項目 | スペック |\n",
    "| - | - |\n",
    "| バッチサイズ | 64 |\n",
    "| エポック | データサイズ / バッチサイズ |\n",
    "| ニューロン数 | 784, 200, 100, 10（入力層, 1層, 2層, 出力層） |\n",
    "| 重みの初期値 | Heの初期値 |\n",
    "| バイアスの初期値 | オールゼロ |"
   ]
  }
 ],
 "metadata": {
  "language_info": {
   "name": "python"
  },
  "orig_nbformat": 4
 },
 "nbformat": 4,
 "nbformat_minor": 2
}
